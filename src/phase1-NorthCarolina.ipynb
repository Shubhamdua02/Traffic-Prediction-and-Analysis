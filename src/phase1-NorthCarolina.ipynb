{
 "cells": [
  {
   "cell_type": "code",
   "execution_count": 19,
   "metadata": {},
   "outputs": [],
   "source": [
    "import numpy as np\n",
    "import pandas as pd"
   ]
  },
  {
   "cell_type": "code",
   "execution_count": 5,
   "metadata": {},
   "outputs": [
    {
     "data": {
      "text/plain": [
       "['.ipynb_checkpoints',\n",
       " 'alda_proj_mid (original).ipynb',\n",
       " 'alda_proj_mid.ipynb',\n",
       " 'alda_proj_mid2.ipynb',\n",
       " 'CSC522_Project_Fall2021.pdf',\n",
       " 'final_dataset.csv',\n",
       " 'final_dataset_stations.csv',\n",
       " 'MidtermProject.pdf',\n",
       " 'Midway_TrafficPrediction_P38.pdf',\n",
       " 'P38_Project_Proposal.pdf',\n",
       " 'Untitled.ipynb',\n",
       " 'Untitled1.ipynb']"
      ]
     },
     "execution_count": 5,
     "metadata": {},
     "output_type": "execute_result"
    }
   ],
   "source": [
    "import os\n",
    "os.listdir()"
   ]
  },
  {
   "cell_type": "code",
   "execution_count": 6,
   "metadata": {},
   "outputs": [
    {
     "data": {
      "text/html": [
       "<div>\n",
       "<style scoped>\n",
       "    .dataframe tbody tr th:only-of-type {\n",
       "        vertical-align: middle;\n",
       "    }\n",
       "\n",
       "    .dataframe tbody tr th {\n",
       "        vertical-align: top;\n",
       "    }\n",
       "\n",
       "    .dataframe thead th {\n",
       "        text-align: right;\n",
       "    }\n",
       "</style>\n",
       "<table border=\"1\" class=\"dataframe\">\n",
       "  <thead>\n",
       "    <tr style=\"text-align: right;\">\n",
       "      <th></th>\n",
       "      <th>Unnamed: 0</th>\n",
       "      <th>date</th>\n",
       "      <th>day_of_data</th>\n",
       "      <th>day_of_week</th>\n",
       "      <th>direction_of_travel</th>\n",
       "      <th>direction_of_travel_name</th>\n",
       "      <th>fips_state_code</th>\n",
       "      <th>functional_classification</th>\n",
       "      <th>functional_classification_name</th>\n",
       "      <th>lane_of_travel</th>\n",
       "      <th>...</th>\n",
       "      <th>traffic_volume_counted_after_1500_to_1600</th>\n",
       "      <th>traffic_volume_counted_after_1600_to_1700</th>\n",
       "      <th>traffic_volume_counted_after_1700_to_1800</th>\n",
       "      <th>traffic_volume_counted_after_1800_to_1900</th>\n",
       "      <th>traffic_volume_counted_after_1900_to_2000</th>\n",
       "      <th>traffic_volume_counted_after_2000_to_2100</th>\n",
       "      <th>traffic_volume_counted_after_2100_to_2200</th>\n",
       "      <th>traffic_volume_counted_after_2200_to_2300</th>\n",
       "      <th>traffic_volume_counted_after_2300_to_2400</th>\n",
       "      <th>year_of_data</th>\n",
       "    </tr>\n",
       "  </thead>\n",
       "  <tbody>\n",
       "    <tr>\n",
       "      <th>0</th>\n",
       "      <td>122</td>\n",
       "      <td>2015-05-03</td>\n",
       "      <td>3</td>\n",
       "      <td>1</td>\n",
       "      <td>1</td>\n",
       "      <td>North</td>\n",
       "      <td>37</td>\n",
       "      <td>4U</td>\n",
       "      <td>Urban: Minor Arterial</td>\n",
       "      <td>0</td>\n",
       "      <td>...</td>\n",
       "      <td>122</td>\n",
       "      <td>92</td>\n",
       "      <td>101</td>\n",
       "      <td>81</td>\n",
       "      <td>68</td>\n",
       "      <td>80</td>\n",
       "      <td>68</td>\n",
       "      <td>32</td>\n",
       "      <td>28</td>\n",
       "      <td>15</td>\n",
       "    </tr>\n",
       "    <tr>\n",
       "      <th>1</th>\n",
       "      <td>307</td>\n",
       "      <td>2015-06-12</td>\n",
       "      <td>12</td>\n",
       "      <td>6</td>\n",
       "      <td>7</td>\n",
       "      <td>West</td>\n",
       "      <td>37</td>\n",
       "      <td>7R</td>\n",
       "      <td>Rural: Local System</td>\n",
       "      <td>0</td>\n",
       "      <td>...</td>\n",
       "      <td>56</td>\n",
       "      <td>74</td>\n",
       "      <td>68</td>\n",
       "      <td>50</td>\n",
       "      <td>28</td>\n",
       "      <td>18</td>\n",
       "      <td>33</td>\n",
       "      <td>15</td>\n",
       "      <td>5</td>\n",
       "      <td>15</td>\n",
       "    </tr>\n",
       "    <tr>\n",
       "      <th>2</th>\n",
       "      <td>369</td>\n",
       "      <td>2015-04-01</td>\n",
       "      <td>1</td>\n",
       "      <td>4</td>\n",
       "      <td>1</td>\n",
       "      <td>North</td>\n",
       "      <td>37</td>\n",
       "      <td>1U</td>\n",
       "      <td>Urban: Principal Arterial - Interstate</td>\n",
       "      <td>0</td>\n",
       "      <td>...</td>\n",
       "      <td>3415</td>\n",
       "      <td>3356</td>\n",
       "      <td>3008</td>\n",
       "      <td>2706</td>\n",
       "      <td>2514</td>\n",
       "      <td>2197</td>\n",
       "      <td>1867</td>\n",
       "      <td>1184</td>\n",
       "      <td>749</td>\n",
       "      <td>15</td>\n",
       "    </tr>\n",
       "    <tr>\n",
       "      <th>3</th>\n",
       "      <td>385</td>\n",
       "      <td>2015-08-03</td>\n",
       "      <td>3</td>\n",
       "      <td>2</td>\n",
       "      <td>7</td>\n",
       "      <td>West</td>\n",
       "      <td>37</td>\n",
       "      <td>5U</td>\n",
       "      <td>Urban: Collector</td>\n",
       "      <td>0</td>\n",
       "      <td>...</td>\n",
       "      <td>72</td>\n",
       "      <td>114</td>\n",
       "      <td>119</td>\n",
       "      <td>127</td>\n",
       "      <td>79</td>\n",
       "      <td>69</td>\n",
       "      <td>59</td>\n",
       "      <td>21</td>\n",
       "      <td>16</td>\n",
       "      <td>15</td>\n",
       "    </tr>\n",
       "    <tr>\n",
       "      <th>4</th>\n",
       "      <td>718</td>\n",
       "      <td>2015-01-04</td>\n",
       "      <td>4</td>\n",
       "      <td>1</td>\n",
       "      <td>7</td>\n",
       "      <td>West</td>\n",
       "      <td>37</td>\n",
       "      <td>7R</td>\n",
       "      <td>Rural: Local System</td>\n",
       "      <td>0</td>\n",
       "      <td>...</td>\n",
       "      <td>29</td>\n",
       "      <td>29</td>\n",
       "      <td>26</td>\n",
       "      <td>17</td>\n",
       "      <td>15</td>\n",
       "      <td>7</td>\n",
       "      <td>9</td>\n",
       "      <td>6</td>\n",
       "      <td>10</td>\n",
       "      <td>15</td>\n",
       "    </tr>\n",
       "  </tbody>\n",
       "</table>\n",
       "<p>5 rows × 39 columns</p>\n",
       "</div>"
      ],
      "text/plain": [
       "   Unnamed: 0        date  day_of_data  day_of_week  direction_of_travel  \\\n",
       "0         122  2015-05-03            3            1                    1   \n",
       "1         307  2015-06-12           12            6                    7   \n",
       "2         369  2015-04-01            1            4                    1   \n",
       "3         385  2015-08-03            3            2                    7   \n",
       "4         718  2015-01-04            4            1                    7   \n",
       "\n",
       "  direction_of_travel_name  fips_state_code functional_classification  \\\n",
       "0                    North               37                        4U   \n",
       "1                     West               37                        7R   \n",
       "2                    North               37                        1U   \n",
       "3                     West               37                        5U   \n",
       "4                     West               37                        7R   \n",
       "\n",
       "           functional_classification_name  lane_of_travel  ...  \\\n",
       "0                   Urban: Minor Arterial               0  ...   \n",
       "1                     Rural: Local System               0  ...   \n",
       "2  Urban: Principal Arterial - Interstate               0  ...   \n",
       "3                        Urban: Collector               0  ...   \n",
       "4                     Rural: Local System               0  ...   \n",
       "\n",
       "   traffic_volume_counted_after_1500_to_1600  \\\n",
       "0                                        122   \n",
       "1                                         56   \n",
       "2                                       3415   \n",
       "3                                         72   \n",
       "4                                         29   \n",
       "\n",
       "   traffic_volume_counted_after_1600_to_1700  \\\n",
       "0                                         92   \n",
       "1                                         74   \n",
       "2                                       3356   \n",
       "3                                        114   \n",
       "4                                         29   \n",
       "\n",
       "   traffic_volume_counted_after_1700_to_1800  \\\n",
       "0                                        101   \n",
       "1                                         68   \n",
       "2                                       3008   \n",
       "3                                        119   \n",
       "4                                         26   \n",
       "\n",
       "  traffic_volume_counted_after_1800_to_1900  \\\n",
       "0                                        81   \n",
       "1                                        50   \n",
       "2                                      2706   \n",
       "3                                       127   \n",
       "4                                        17   \n",
       "\n",
       "   traffic_volume_counted_after_1900_to_2000  \\\n",
       "0                                         68   \n",
       "1                                         28   \n",
       "2                                       2514   \n",
       "3                                         79   \n",
       "4                                         15   \n",
       "\n",
       "   traffic_volume_counted_after_2000_to_2100  \\\n",
       "0                                         80   \n",
       "1                                         18   \n",
       "2                                       2197   \n",
       "3                                         69   \n",
       "4                                          7   \n",
       "\n",
       "   traffic_volume_counted_after_2100_to_2200  \\\n",
       "0                                         68   \n",
       "1                                         33   \n",
       "2                                       1867   \n",
       "3                                         59   \n",
       "4                                          9   \n",
       "\n",
       "   traffic_volume_counted_after_2200_to_2300  \\\n",
       "0                                         32   \n",
       "1                                         15   \n",
       "2                                       1184   \n",
       "3                                         21   \n",
       "4                                          6   \n",
       "\n",
       "   traffic_volume_counted_after_2300_to_2400  year_of_data  \n",
       "0                                         28            15  \n",
       "1                                          5            15  \n",
       "2                                        749            15  \n",
       "3                                         16            15  \n",
       "4                                         10            15  \n",
       "\n",
       "[5 rows x 39 columns]"
      ]
     },
     "execution_count": 6,
     "metadata": {},
     "output_type": "execute_result"
    }
   ],
   "source": [
    "df = pd.read_csv(\"final_dataset.csv\", header=0, sep=',', quotechar='\"')\n",
    "df.head()"
   ]
  },
  {
   "cell_type": "code",
   "execution_count": 7,
   "metadata": {},
   "outputs": [
    {
     "data": {
      "text/plain": [
       "Index(['Unnamed: 0', 'date', 'day_of_data', 'day_of_week',\n",
       "       'direction_of_travel', 'direction_of_travel_name', 'fips_state_code',\n",
       "       'functional_classification', 'functional_classification_name',\n",
       "       'lane_of_travel', 'month_of_data', 'record_type', 'restrictions',\n",
       "       'station_id', 'traffic_volume_counted_after_0000_to_0100',\n",
       "       'traffic_volume_counted_after_0100_to_0200',\n",
       "       'traffic_volume_counted_after_0200_to_0300',\n",
       "       'traffic_volume_counted_after_0300_to_0400',\n",
       "       'traffic_volume_counted_after_0400_to_0500',\n",
       "       'traffic_volume_counted_after_0500_to_0600',\n",
       "       'traffic_volume_counted_after_0600_to_0700',\n",
       "       'traffic_volume_counted_after_0700_to_0800',\n",
       "       'traffic_volume_counted_after_0800_to_0900',\n",
       "       'traffic_volume_counted_after_0900_to_1000',\n",
       "       'traffic_volume_counted_after_1000_to_1100',\n",
       "       'traffic_volume_counted_after_1100_to_1200',\n",
       "       'traffic_volume_counted_after_1200_to_1300',\n",
       "       'traffic_volume_counted_after_1300_to_1400',\n",
       "       'traffic_volume_counted_after_1400_to_1500',\n",
       "       'traffic_volume_counted_after_1500_to_1600',\n",
       "       'traffic_volume_counted_after_1600_to_1700',\n",
       "       'traffic_volume_counted_after_1700_to_1800',\n",
       "       'traffic_volume_counted_after_1800_to_1900',\n",
       "       'traffic_volume_counted_after_1900_to_2000',\n",
       "       'traffic_volume_counted_after_2000_to_2100',\n",
       "       'traffic_volume_counted_after_2100_to_2200',\n",
       "       'traffic_volume_counted_after_2200_to_2300',\n",
       "       'traffic_volume_counted_after_2300_to_2400', 'year_of_data'],\n",
       "      dtype='object')"
      ]
     },
     "execution_count": 7,
     "metadata": {},
     "output_type": "execute_result"
    }
   ],
   "source": [
    "df.columns"
   ]
  },
  {
   "cell_type": "code",
   "execution_count": 8,
   "metadata": {},
   "outputs": [
    {
     "name": "stdout",
     "output_type": "stream",
     "text": [
      "<class 'pandas.core.frame.DataFrame'>\n",
      "RangeIndex: 44224 entries, 0 to 44223\n",
      "Data columns (total 33 columns):\n",
      " #   Column                                     Non-Null Count  Dtype \n",
      "---  ------                                     --------------  ----- \n",
      " 0   Unnamed: 0                                 44224 non-null  int64 \n",
      " 1   date                                       44224 non-null  object\n",
      " 2   day_of_week                                44224 non-null  int64 \n",
      " 3   direction_of_travel                        44224 non-null  int64 \n",
      " 4   fips_state_code                            44224 non-null  int64 \n",
      " 5   functional_classification                  44224 non-null  object\n",
      " 6   lane_of_travel                             44224 non-null  int64 \n",
      " 7   month_of_data                              44224 non-null  int64 \n",
      " 8   station_id                                 44224 non-null  object\n",
      " 9   traffic_volume_counted_after_0000_to_0100  44224 non-null  int64 \n",
      " 10  traffic_volume_counted_after_0100_to_0200  44224 non-null  int64 \n",
      " 11  traffic_volume_counted_after_0200_to_0300  44224 non-null  int64 \n",
      " 12  traffic_volume_counted_after_0300_to_0400  44224 non-null  int64 \n",
      " 13  traffic_volume_counted_after_0400_to_0500  44224 non-null  int64 \n",
      " 14  traffic_volume_counted_after_0500_to_0600  44224 non-null  int64 \n",
      " 15  traffic_volume_counted_after_0600_to_0700  44224 non-null  int64 \n",
      " 16  traffic_volume_counted_after_0700_to_0800  44224 non-null  int64 \n",
      " 17  traffic_volume_counted_after_0800_to_0900  44224 non-null  int64 \n",
      " 18  traffic_volume_counted_after_0900_to_1000  44224 non-null  int64 \n",
      " 19  traffic_volume_counted_after_1000_to_1100  44224 non-null  int64 \n",
      " 20  traffic_volume_counted_after_1100_to_1200  44224 non-null  int64 \n",
      " 21  traffic_volume_counted_after_1200_to_1300  44224 non-null  int64 \n",
      " 22  traffic_volume_counted_after_1300_to_1400  44224 non-null  int64 \n",
      " 23  traffic_volume_counted_after_1400_to_1500  44224 non-null  int64 \n",
      " 24  traffic_volume_counted_after_1500_to_1600  44224 non-null  int64 \n",
      " 25  traffic_volume_counted_after_1600_to_1700  44224 non-null  int64 \n",
      " 26  traffic_volume_counted_after_1700_to_1800  44224 non-null  int64 \n",
      " 27  traffic_volume_counted_after_1800_to_1900  44224 non-null  int64 \n",
      " 28  traffic_volume_counted_after_1900_to_2000  44224 non-null  int64 \n",
      " 29  traffic_volume_counted_after_2000_to_2100  44224 non-null  int64 \n",
      " 30  traffic_volume_counted_after_2100_to_2200  44224 non-null  int64 \n",
      " 31  traffic_volume_counted_after_2200_to_2300  44224 non-null  int64 \n",
      " 32  traffic_volume_counted_after_2300_to_2400  44224 non-null  int64 \n",
      "dtypes: int64(30), object(3)\n",
      "memory usage: 11.1+ MB\n"
     ]
    }
   ],
   "source": [
    "df.drop(['day_of_data','functional_classification_name','direction_of_travel_name','record_type','restrictions','year_of_data'], axis=1, inplace=True)\n",
    "df.info()"
   ]
  },
  {
   "cell_type": "code",
   "execution_count": 15,
   "metadata": {},
   "outputs": [],
   "source": [
    "df.rename(columns={'Unnamed: 0':'idx'}, inplace=True)"
   ]
  },
  {
   "cell_type": "code",
   "execution_count": 16,
   "metadata": {},
   "outputs": [
    {
     "data": {
      "text/html": [
       "<div>\n",
       "<style scoped>\n",
       "    .dataframe tbody tr th:only-of-type {\n",
       "        vertical-align: middle;\n",
       "    }\n",
       "\n",
       "    .dataframe tbody tr th {\n",
       "        vertical-align: top;\n",
       "    }\n",
       "\n",
       "    .dataframe thead th {\n",
       "        text-align: right;\n",
       "    }\n",
       "</style>\n",
       "<table border=\"1\" class=\"dataframe\">\n",
       "  <thead>\n",
       "    <tr style=\"text-align: right;\">\n",
       "      <th></th>\n",
       "      <th>idx</th>\n",
       "      <th>date</th>\n",
       "      <th>day_of_week</th>\n",
       "      <th>direction_of_travel</th>\n",
       "      <th>fips_state_code</th>\n",
       "      <th>functional_classification</th>\n",
       "      <th>lane_of_travel</th>\n",
       "      <th>month_of_data</th>\n",
       "      <th>station_id</th>\n",
       "      <th>traffic_volume_counted_after_0000_to_0100</th>\n",
       "      <th>...</th>\n",
       "      <th>traffic_volume_counted_after_1400_to_1500</th>\n",
       "      <th>traffic_volume_counted_after_1500_to_1600</th>\n",
       "      <th>traffic_volume_counted_after_1600_to_1700</th>\n",
       "      <th>traffic_volume_counted_after_1700_to_1800</th>\n",
       "      <th>traffic_volume_counted_after_1800_to_1900</th>\n",
       "      <th>traffic_volume_counted_after_1900_to_2000</th>\n",
       "      <th>traffic_volume_counted_after_2000_to_2100</th>\n",
       "      <th>traffic_volume_counted_after_2100_to_2200</th>\n",
       "      <th>traffic_volume_counted_after_2200_to_2300</th>\n",
       "      <th>traffic_volume_counted_after_2300_to_2400</th>\n",
       "    </tr>\n",
       "  </thead>\n",
       "  <tbody>\n",
       "    <tr>\n",
       "      <th>0</th>\n",
       "      <td>122</td>\n",
       "      <td>2015-05-03</td>\n",
       "      <td>1</td>\n",
       "      <td>1</td>\n",
       "      <td>37</td>\n",
       "      <td>4U</td>\n",
       "      <td>0</td>\n",
       "      <td>5</td>\n",
       "      <td>0A9501</td>\n",
       "      <td>10</td>\n",
       "      <td>...</td>\n",
       "      <td>117</td>\n",
       "      <td>122</td>\n",
       "      <td>92</td>\n",
       "      <td>101</td>\n",
       "      <td>81</td>\n",
       "      <td>68</td>\n",
       "      <td>80</td>\n",
       "      <td>68</td>\n",
       "      <td>32</td>\n",
       "      <td>28</td>\n",
       "    </tr>\n",
       "    <tr>\n",
       "      <th>1</th>\n",
       "      <td>307</td>\n",
       "      <td>2015-06-12</td>\n",
       "      <td>6</td>\n",
       "      <td>7</td>\n",
       "      <td>37</td>\n",
       "      <td>7R</td>\n",
       "      <td>0</td>\n",
       "      <td>6</td>\n",
       "      <td>0A6201</td>\n",
       "      <td>3</td>\n",
       "      <td>...</td>\n",
       "      <td>50</td>\n",
       "      <td>56</td>\n",
       "      <td>74</td>\n",
       "      <td>68</td>\n",
       "      <td>50</td>\n",
       "      <td>28</td>\n",
       "      <td>18</td>\n",
       "      <td>33</td>\n",
       "      <td>15</td>\n",
       "      <td>5</td>\n",
       "    </tr>\n",
       "    <tr>\n",
       "      <th>2</th>\n",
       "      <td>369</td>\n",
       "      <td>2015-04-01</td>\n",
       "      <td>4</td>\n",
       "      <td>1</td>\n",
       "      <td>37</td>\n",
       "      <td>1U</td>\n",
       "      <td>0</td>\n",
       "      <td>4</td>\n",
       "      <td>0A5903</td>\n",
       "      <td>391</td>\n",
       "      <td>...</td>\n",
       "      <td>3206</td>\n",
       "      <td>3415</td>\n",
       "      <td>3356</td>\n",
       "      <td>3008</td>\n",
       "      <td>2706</td>\n",
       "      <td>2514</td>\n",
       "      <td>2197</td>\n",
       "      <td>1867</td>\n",
       "      <td>1184</td>\n",
       "      <td>749</td>\n",
       "    </tr>\n",
       "    <tr>\n",
       "      <th>3</th>\n",
       "      <td>385</td>\n",
       "      <td>2015-08-03</td>\n",
       "      <td>2</td>\n",
       "      <td>7</td>\n",
       "      <td>37</td>\n",
       "      <td>5U</td>\n",
       "      <td>0</td>\n",
       "      <td>8</td>\n",
       "      <td>0A3501</td>\n",
       "      <td>9</td>\n",
       "      <td>...</td>\n",
       "      <td>70</td>\n",
       "      <td>72</td>\n",
       "      <td>114</td>\n",
       "      <td>119</td>\n",
       "      <td>127</td>\n",
       "      <td>79</td>\n",
       "      <td>69</td>\n",
       "      <td>59</td>\n",
       "      <td>21</td>\n",
       "      <td>16</td>\n",
       "    </tr>\n",
       "    <tr>\n",
       "      <th>4</th>\n",
       "      <td>718</td>\n",
       "      <td>2015-01-04</td>\n",
       "      <td>1</td>\n",
       "      <td>7</td>\n",
       "      <td>37</td>\n",
       "      <td>7R</td>\n",
       "      <td>0</td>\n",
       "      <td>1</td>\n",
       "      <td>0A3201</td>\n",
       "      <td>2</td>\n",
       "      <td>...</td>\n",
       "      <td>19</td>\n",
       "      <td>29</td>\n",
       "      <td>29</td>\n",
       "      <td>26</td>\n",
       "      <td>17</td>\n",
       "      <td>15</td>\n",
       "      <td>7</td>\n",
       "      <td>9</td>\n",
       "      <td>6</td>\n",
       "      <td>10</td>\n",
       "    </tr>\n",
       "  </tbody>\n",
       "</table>\n",
       "<p>5 rows × 33 columns</p>\n",
       "</div>"
      ],
      "text/plain": [
       "   idx        date  day_of_week  direction_of_travel  fips_state_code  \\\n",
       "0  122  2015-05-03            1                    1               37   \n",
       "1  307  2015-06-12            6                    7               37   \n",
       "2  369  2015-04-01            4                    1               37   \n",
       "3  385  2015-08-03            2                    7               37   \n",
       "4  718  2015-01-04            1                    7               37   \n",
       "\n",
       "  functional_classification  lane_of_travel  month_of_data station_id  \\\n",
       "0                        4U               0              5     0A9501   \n",
       "1                        7R               0              6     0A6201   \n",
       "2                        1U               0              4     0A5903   \n",
       "3                        5U               0              8     0A3501   \n",
       "4                        7R               0              1     0A3201   \n",
       "\n",
       "   traffic_volume_counted_after_0000_to_0100  ...  \\\n",
       "0                                         10  ...   \n",
       "1                                          3  ...   \n",
       "2                                        391  ...   \n",
       "3                                          9  ...   \n",
       "4                                          2  ...   \n",
       "\n",
       "   traffic_volume_counted_after_1400_to_1500  \\\n",
       "0                                        117   \n",
       "1                                         50   \n",
       "2                                       3206   \n",
       "3                                         70   \n",
       "4                                         19   \n",
       "\n",
       "   traffic_volume_counted_after_1500_to_1600  \\\n",
       "0                                        122   \n",
       "1                                         56   \n",
       "2                                       3415   \n",
       "3                                         72   \n",
       "4                                         29   \n",
       "\n",
       "   traffic_volume_counted_after_1600_to_1700  \\\n",
       "0                                         92   \n",
       "1                                         74   \n",
       "2                                       3356   \n",
       "3                                        114   \n",
       "4                                         29   \n",
       "\n",
       "   traffic_volume_counted_after_1700_to_1800  \\\n",
       "0                                        101   \n",
       "1                                         68   \n",
       "2                                       3008   \n",
       "3                                        119   \n",
       "4                                         26   \n",
       "\n",
       "   traffic_volume_counted_after_1800_to_1900  \\\n",
       "0                                         81   \n",
       "1                                         50   \n",
       "2                                       2706   \n",
       "3                                        127   \n",
       "4                                         17   \n",
       "\n",
       "   traffic_volume_counted_after_1900_to_2000  \\\n",
       "0                                         68   \n",
       "1                                         28   \n",
       "2                                       2514   \n",
       "3                                         79   \n",
       "4                                         15   \n",
       "\n",
       "   traffic_volume_counted_after_2000_to_2100  \\\n",
       "0                                         80   \n",
       "1                                         18   \n",
       "2                                       2197   \n",
       "3                                         69   \n",
       "4                                          7   \n",
       "\n",
       "   traffic_volume_counted_after_2100_to_2200  \\\n",
       "0                                         68   \n",
       "1                                         33   \n",
       "2                                       1867   \n",
       "3                                         59   \n",
       "4                                          9   \n",
       "\n",
       "   traffic_volume_counted_after_2200_to_2300  \\\n",
       "0                                         32   \n",
       "1                                         15   \n",
       "2                                       1184   \n",
       "3                                         21   \n",
       "4                                          6   \n",
       "\n",
       "   traffic_volume_counted_after_2300_to_2400  \n",
       "0                                         28  \n",
       "1                                          5  \n",
       "2                                        749  \n",
       "3                                         16  \n",
       "4                                         10  \n",
       "\n",
       "[5 rows x 33 columns]"
      ]
     },
     "execution_count": 16,
     "metadata": {},
     "output_type": "execute_result"
    }
   ],
   "source": [
    "df.head()"
   ]
  },
  {
   "cell_type": "code",
   "execution_count": 17,
   "metadata": {},
   "outputs": [
    {
     "name": "stdout",
     "output_type": "stream",
     "text": [
      "<class 'pandas.core.frame.DataFrame'>\n",
      "RangeIndex: 44224 entries, 0 to 44223\n",
      "Data columns (total 32 columns):\n",
      " #   Column                                     Non-Null Count  Dtype \n",
      "---  ------                                     --------------  ----- \n",
      " 0   date                                       44224 non-null  object\n",
      " 1   day_of_week                                44224 non-null  int64 \n",
      " 2   direction_of_travel                        44224 non-null  int64 \n",
      " 3   fips_state_code                            44224 non-null  int64 \n",
      " 4   functional_classification                  44224 non-null  object\n",
      " 5   lane_of_travel                             44224 non-null  int64 \n",
      " 6   month_of_data                              44224 non-null  int64 \n",
      " 7   station_id                                 44224 non-null  object\n",
      " 8   traffic_volume_counted_after_0000_to_0100  44224 non-null  int64 \n",
      " 9   traffic_volume_counted_after_0100_to_0200  44224 non-null  int64 \n",
      " 10  traffic_volume_counted_after_0200_to_0300  44224 non-null  int64 \n",
      " 11  traffic_volume_counted_after_0300_to_0400  44224 non-null  int64 \n",
      " 12  traffic_volume_counted_after_0400_to_0500  44224 non-null  int64 \n",
      " 13  traffic_volume_counted_after_0500_to_0600  44224 non-null  int64 \n",
      " 14  traffic_volume_counted_after_0600_to_0700  44224 non-null  int64 \n",
      " 15  traffic_volume_counted_after_0700_to_0800  44224 non-null  int64 \n",
      " 16  traffic_volume_counted_after_0800_to_0900  44224 non-null  int64 \n",
      " 17  traffic_volume_counted_after_0900_to_1000  44224 non-null  int64 \n",
      " 18  traffic_volume_counted_after_1000_to_1100  44224 non-null  int64 \n",
      " 19  traffic_volume_counted_after_1100_to_1200  44224 non-null  int64 \n",
      " 20  traffic_volume_counted_after_1200_to_1300  44224 non-null  int64 \n",
      " 21  traffic_volume_counted_after_1300_to_1400  44224 non-null  int64 \n",
      " 22  traffic_volume_counted_after_1400_to_1500  44224 non-null  int64 \n",
      " 23  traffic_volume_counted_after_1500_to_1600  44224 non-null  int64 \n",
      " 24  traffic_volume_counted_after_1600_to_1700  44224 non-null  int64 \n",
      " 25  traffic_volume_counted_after_1700_to_1800  44224 non-null  int64 \n",
      " 26  traffic_volume_counted_after_1800_to_1900  44224 non-null  int64 \n",
      " 27  traffic_volume_counted_after_1900_to_2000  44224 non-null  int64 \n",
      " 28  traffic_volume_counted_after_2000_to_2100  44224 non-null  int64 \n",
      " 29  traffic_volume_counted_after_2100_to_2200  44224 non-null  int64 \n",
      " 30  traffic_volume_counted_after_2200_to_2300  44224 non-null  int64 \n",
      " 31  traffic_volume_counted_after_2300_to_2400  44224 non-null  int64 \n",
      "dtypes: int64(29), object(3)\n",
      "memory usage: 10.8+ MB\n"
     ]
    }
   ],
   "source": [
    "df.drop(['idx'], axis=1, inplace=True)\n",
    "df.info()"
   ]
  },
  {
   "cell_type": "code",
   "execution_count": 18,
   "metadata": {},
   "outputs": [
    {
     "name": "stdout",
     "output_type": "stream",
     "text": [
      "<class 'pandas.core.frame.DataFrame'>\n",
      "RangeIndex: 44224 entries, 0 to 44223\n",
      "Data columns (total 27 columns):\n",
      " #   Column                                     Non-Null Count  Dtype \n",
      "---  ------                                     --------------  ----- \n",
      " 0   fips_state_code                            44224 non-null  int64 \n",
      " 1   functional_classification                  44224 non-null  object\n",
      " 2   station_id                                 44224 non-null  object\n",
      " 3   traffic_volume_counted_after_0000_to_0100  44224 non-null  int64 \n",
      " 4   traffic_volume_counted_after_0100_to_0200  44224 non-null  int64 \n",
      " 5   traffic_volume_counted_after_0200_to_0300  44224 non-null  int64 \n",
      " 6   traffic_volume_counted_after_0300_to_0400  44224 non-null  int64 \n",
      " 7   traffic_volume_counted_after_0400_to_0500  44224 non-null  int64 \n",
      " 8   traffic_volume_counted_after_0500_to_0600  44224 non-null  int64 \n",
      " 9   traffic_volume_counted_after_0600_to_0700  44224 non-null  int64 \n",
      " 10  traffic_volume_counted_after_0700_to_0800  44224 non-null  int64 \n",
      " 11  traffic_volume_counted_after_0800_to_0900  44224 non-null  int64 \n",
      " 12  traffic_volume_counted_after_0900_to_1000  44224 non-null  int64 \n",
      " 13  traffic_volume_counted_after_1000_to_1100  44224 non-null  int64 \n",
      " 14  traffic_volume_counted_after_1100_to_1200  44224 non-null  int64 \n",
      " 15  traffic_volume_counted_after_1200_to_1300  44224 non-null  int64 \n",
      " 16  traffic_volume_counted_after_1300_to_1400  44224 non-null  int64 \n",
      " 17  traffic_volume_counted_after_1400_to_1500  44224 non-null  int64 \n",
      " 18  traffic_volume_counted_after_1500_to_1600  44224 non-null  int64 \n",
      " 19  traffic_volume_counted_after_1600_to_1700  44224 non-null  int64 \n",
      " 20  traffic_volume_counted_after_1700_to_1800  44224 non-null  int64 \n",
      " 21  traffic_volume_counted_after_1800_to_1900  44224 non-null  int64 \n",
      " 22  traffic_volume_counted_after_1900_to_2000  44224 non-null  int64 \n",
      " 23  traffic_volume_counted_after_2000_to_2100  44224 non-null  int64 \n",
      " 24  traffic_volume_counted_after_2100_to_2200  44224 non-null  int64 \n",
      " 25  traffic_volume_counted_after_2200_to_2300  44224 non-null  int64 \n",
      " 26  traffic_volume_counted_after_2300_to_2400  44224 non-null  int64 \n",
      "dtypes: int64(25), object(2)\n",
      "memory usage: 9.1+ MB\n"
     ]
    }
   ],
   "source": [
    "df.drop(['date','day_of_week','direction_of_travel','lane_of_travel','month_of_data'], axis=1, inplace=True)\n",
    "df.info()"
   ]
  },
  {
   "cell_type": "code",
   "execution_count": 20,
   "metadata": {},
   "outputs": [
    {
     "name": "stdout",
     "output_type": "stream",
     "text": [
      "<class 'pandas.core.frame.DataFrame'>\n",
      "Int64Index: 67 entries, 0 to 66\n",
      "Data columns (total 27 columns):\n",
      " #   Column                                     Non-Null Count  Dtype \n",
      "---  ------                                     --------------  ----- \n",
      " 0   fips_state_code                            67 non-null     int64 \n",
      " 1   functional_classification                  67 non-null     object\n",
      " 2   station_id                                 67 non-null     object\n",
      " 3   traffic_volume_counted_after_0000_to_0100  67 non-null     int64 \n",
      " 4   traffic_volume_counted_after_0100_to_0200  67 non-null     int64 \n",
      " 5   traffic_volume_counted_after_0200_to_0300  67 non-null     int64 \n",
      " 6   traffic_volume_counted_after_0300_to_0400  67 non-null     int64 \n",
      " 7   traffic_volume_counted_after_0400_to_0500  67 non-null     int64 \n",
      " 8   traffic_volume_counted_after_0500_to_0600  67 non-null     int64 \n",
      " 9   traffic_volume_counted_after_0600_to_0700  67 non-null     int64 \n",
      " 10  traffic_volume_counted_after_0700_to_0800  67 non-null     int64 \n",
      " 11  traffic_volume_counted_after_0800_to_0900  67 non-null     int64 \n",
      " 12  traffic_volume_counted_after_0900_to_1000  67 non-null     int64 \n",
      " 13  traffic_volume_counted_after_1000_to_1100  67 non-null     int64 \n",
      " 14  traffic_volume_counted_after_1100_to_1200  67 non-null     int64 \n",
      " 15  traffic_volume_counted_after_1200_to_1300  67 non-null     int64 \n",
      " 16  traffic_volume_counted_after_1300_to_1400  67 non-null     int64 \n",
      " 17  traffic_volume_counted_after_1400_to_1500  67 non-null     int64 \n",
      " 18  traffic_volume_counted_after_1500_to_1600  67 non-null     int64 \n",
      " 19  traffic_volume_counted_after_1600_to_1700  67 non-null     int64 \n",
      " 20  traffic_volume_counted_after_1700_to_1800  67 non-null     int64 \n",
      " 21  traffic_volume_counted_after_1800_to_1900  67 non-null     int64 \n",
      " 22  traffic_volume_counted_after_1900_to_2000  67 non-null     int64 \n",
      " 23  traffic_volume_counted_after_2000_to_2100  67 non-null     int64 \n",
      " 24  traffic_volume_counted_after_2100_to_2200  67 non-null     int64 \n",
      " 25  traffic_volume_counted_after_2200_to_2300  67 non-null     int64 \n",
      " 26  traffic_volume_counted_after_2300_to_2400  67 non-null     int64 \n",
      "dtypes: int64(25), object(2)\n",
      "memory usage: 14.7+ KB\n"
     ]
    }
   ],
   "source": [
    "df_sum=df.groupby(['fips_state_code','functional_classification','station_id'],as_index=False).agg('sum')\n",
    "df_sum.info()"
   ]
  },
  {
   "cell_type": "code",
   "execution_count": 21,
   "metadata": {},
   "outputs": [
    {
     "name": "stdout",
     "output_type": "stream",
     "text": [
      "<class 'pandas.core.frame.DataFrame'>\n",
      "Int64Index: 67 entries, 0 to 66\n",
      "Data columns (total 27 columns):\n",
      " #   Column                                     Non-Null Count  Dtype  \n",
      "---  ------                                     --------------  -----  \n",
      " 0   fips_state_code                            67 non-null     int64  \n",
      " 1   functional_classification                  67 non-null     object \n",
      " 2   station_id                                 67 non-null     object \n",
      " 3   traffic_volume_counted_after_0000_to_0100  67 non-null     float64\n",
      " 4   traffic_volume_counted_after_0100_to_0200  67 non-null     float64\n",
      " 5   traffic_volume_counted_after_0200_to_0300  67 non-null     float64\n",
      " 6   traffic_volume_counted_after_0300_to_0400  67 non-null     float64\n",
      " 7   traffic_volume_counted_after_0400_to_0500  67 non-null     float64\n",
      " 8   traffic_volume_counted_after_0500_to_0600  67 non-null     float64\n",
      " 9   traffic_volume_counted_after_0600_to_0700  67 non-null     float64\n",
      " 10  traffic_volume_counted_after_0700_to_0800  67 non-null     float64\n",
      " 11  traffic_volume_counted_after_0800_to_0900  67 non-null     float64\n",
      " 12  traffic_volume_counted_after_0900_to_1000  67 non-null     float64\n",
      " 13  traffic_volume_counted_after_1000_to_1100  67 non-null     float64\n",
      " 14  traffic_volume_counted_after_1100_to_1200  67 non-null     float64\n",
      " 15  traffic_volume_counted_after_1200_to_1300  67 non-null     float64\n",
      " 16  traffic_volume_counted_after_1300_to_1400  67 non-null     float64\n",
      " 17  traffic_volume_counted_after_1400_to_1500  67 non-null     float64\n",
      " 18  traffic_volume_counted_after_1500_to_1600  67 non-null     float64\n",
      " 19  traffic_volume_counted_after_1600_to_1700  67 non-null     float64\n",
      " 20  traffic_volume_counted_after_1700_to_1800  67 non-null     float64\n",
      " 21  traffic_volume_counted_after_1800_to_1900  67 non-null     float64\n",
      " 22  traffic_volume_counted_after_1900_to_2000  67 non-null     float64\n",
      " 23  traffic_volume_counted_after_2000_to_2100  67 non-null     float64\n",
      " 24  traffic_volume_counted_after_2100_to_2200  67 non-null     float64\n",
      " 25  traffic_volume_counted_after_2200_to_2300  67 non-null     float64\n",
      " 26  traffic_volume_counted_after_2300_to_2400  67 non-null     float64\n",
      "dtypes: float64(24), int64(1), object(2)\n",
      "memory usage: 14.7+ KB\n"
     ]
    }
   ],
   "source": [
    "df_mean=df.groupby(['fips_state_code','functional_classification','station_id'],as_index=False).agg('mean')\n",
    "df_mean.info()"
   ]
  },
  {
   "cell_type": "code",
   "execution_count": 22,
   "metadata": {},
   "outputs": [],
   "source": [
    "df_stations = pd.read_csv(\"final_dataset_stations.csv\", header=0, sep=',', quotechar='\"')"
   ]
  },
  {
   "cell_type": "code",
   "execution_count": 23,
   "metadata": {},
   "outputs": [],
   "source": [
    "cols = df_stations[['latitude','longitude','national_highway_system','station_id','fips_state_code']]"
   ]
  },
  {
   "cell_type": "code",
   "execution_count": 24,
   "metadata": {},
   "outputs": [
    {
     "data": {
      "text/html": [
       "<div>\n",
       "<style scoped>\n",
       "    .dataframe tbody tr th:only-of-type {\n",
       "        vertical-align: middle;\n",
       "    }\n",
       "\n",
       "    .dataframe tbody tr th {\n",
       "        vertical-align: top;\n",
       "    }\n",
       "\n",
       "    .dataframe thead th {\n",
       "        text-align: right;\n",
       "    }\n",
       "</style>\n",
       "<table border=\"1\" class=\"dataframe\">\n",
       "  <thead>\n",
       "    <tr style=\"text-align: right;\">\n",
       "      <th></th>\n",
       "      <th>latitude</th>\n",
       "      <th>longitude</th>\n",
       "      <th>national_highway_system</th>\n",
       "      <th>station_id</th>\n",
       "      <th>fips_state_code</th>\n",
       "    </tr>\n",
       "  </thead>\n",
       "  <tbody>\n",
       "    <tr>\n",
       "      <th>0</th>\n",
       "      <td>35.3117</td>\n",
       "      <td>80.8283</td>\n",
       "      <td>N</td>\n",
       "      <td>0A5906</td>\n",
       "      <td>37</td>\n",
       "    </tr>\n",
       "    <tr>\n",
       "      <th>1</th>\n",
       "      <td>34.5082</td>\n",
       "      <td>79.2992</td>\n",
       "      <td>Y</td>\n",
       "      <td>377701</td>\n",
       "      <td>37</td>\n",
       "    </tr>\n",
       "    <tr>\n",
       "      <th>2</th>\n",
       "      <td>36.0316</td>\n",
       "      <td>79.8101</td>\n",
       "      <td>Y</td>\n",
       "      <td>0A4007</td>\n",
       "      <td>37</td>\n",
       "    </tr>\n",
       "    <tr>\n",
       "      <th>3</th>\n",
       "      <td>36.4573</td>\n",
       "      <td>80.7690</td>\n",
       "      <td>Y</td>\n",
       "      <td>378502</td>\n",
       "      <td>37</td>\n",
       "    </tr>\n",
       "    <tr>\n",
       "      <th>4</th>\n",
       "      <td>36.0552</td>\n",
       "      <td>80.1484</td>\n",
       "      <td>Y</td>\n",
       "      <td>371817</td>\n",
       "      <td>37</td>\n",
       "    </tr>\n",
       "  </tbody>\n",
       "</table>\n",
       "</div>"
      ],
      "text/plain": [
       "   latitude  longitude national_highway_system station_id  fips_state_code\n",
       "0   35.3117    80.8283                       N     0A5906               37\n",
       "1   34.5082    79.2992                       Y     377701               37\n",
       "2   36.0316    79.8101                       Y     0A4007               37\n",
       "3   36.4573    80.7690                       Y     378502               37\n",
       "4   36.0552    80.1484                       Y     371817               37"
      ]
     },
     "execution_count": 24,
     "metadata": {},
     "output_type": "execute_result"
    }
   ],
   "source": [
    "cols.head()"
   ]
  },
  {
   "cell_type": "code",
   "execution_count": 25,
   "metadata": {},
   "outputs": [
    {
     "data": {
      "text/plain": [
       "448"
      ]
     },
     "execution_count": 25,
     "metadata": {},
     "output_type": "execute_result"
    }
   ],
   "source": [
    "len(cols)"
   ]
  },
  {
   "cell_type": "code",
   "execution_count": 27,
   "metadata": {},
   "outputs": [
    {
     "name": "stdout",
     "output_type": "stream",
     "text": [
      "<class 'pandas.core.frame.DataFrame'>\n",
      "RangeIndex: 448 entries, 0 to 447\n",
      "Data columns (total 5 columns):\n",
      " #   Column                   Non-Null Count  Dtype  \n",
      "---  ------                   --------------  -----  \n",
      " 0   latitude                 448 non-null    float64\n",
      " 1   longitude                448 non-null    float64\n",
      " 2   national_highway_system  448 non-null    object \n",
      " 3   station_id               448 non-null    object \n",
      " 4   fips_state_code          448 non-null    int64  \n",
      "dtypes: float64(2), int64(1), object(2)\n",
      "memory usage: 17.6+ KB\n"
     ]
    }
   ],
   "source": [
    "cols.info()"
   ]
  },
  {
   "cell_type": "code",
   "execution_count": 28,
   "metadata": {},
   "outputs": [],
   "source": [
    "df_sum_latlong = df_sum.merge(cols, on='station_id', how='inner')"
   ]
  },
  {
   "cell_type": "code",
   "execution_count": 29,
   "metadata": {},
   "outputs": [
    {
     "data": {
      "text/html": [
       "<div>\n",
       "<style scoped>\n",
       "    .dataframe tbody tr th:only-of-type {\n",
       "        vertical-align: middle;\n",
       "    }\n",
       "\n",
       "    .dataframe tbody tr th {\n",
       "        vertical-align: top;\n",
       "    }\n",
       "\n",
       "    .dataframe thead th {\n",
       "        text-align: right;\n",
       "    }\n",
       "</style>\n",
       "<table border=\"1\" class=\"dataframe\">\n",
       "  <thead>\n",
       "    <tr style=\"text-align: right;\">\n",
       "      <th></th>\n",
       "      <th>fips_state_code_x</th>\n",
       "      <th>functional_classification</th>\n",
       "      <th>station_id</th>\n",
       "      <th>traffic_volume_counted_after_0000_to_0100</th>\n",
       "      <th>traffic_volume_counted_after_0100_to_0200</th>\n",
       "      <th>traffic_volume_counted_after_0200_to_0300</th>\n",
       "      <th>traffic_volume_counted_after_0300_to_0400</th>\n",
       "      <th>traffic_volume_counted_after_0400_to_0500</th>\n",
       "      <th>traffic_volume_counted_after_0500_to_0600</th>\n",
       "      <th>traffic_volume_counted_after_0600_to_0700</th>\n",
       "      <th>...</th>\n",
       "      <th>traffic_volume_counted_after_1800_to_1900</th>\n",
       "      <th>traffic_volume_counted_after_1900_to_2000</th>\n",
       "      <th>traffic_volume_counted_after_2000_to_2100</th>\n",
       "      <th>traffic_volume_counted_after_2100_to_2200</th>\n",
       "      <th>traffic_volume_counted_after_2200_to_2300</th>\n",
       "      <th>traffic_volume_counted_after_2300_to_2400</th>\n",
       "      <th>latitude</th>\n",
       "      <th>longitude</th>\n",
       "      <th>national_highway_system</th>\n",
       "      <th>fips_state_code_y</th>\n",
       "    </tr>\n",
       "  </thead>\n",
       "  <tbody>\n",
       "    <tr>\n",
       "      <th>0</th>\n",
       "      <td>37</td>\n",
       "      <td>1R</td>\n",
       "      <td>0A2502</td>\n",
       "      <td>258559</td>\n",
       "      <td>205382</td>\n",
       "      <td>176003</td>\n",
       "      <td>180204</td>\n",
       "      <td>225142</td>\n",
       "      <td>347136</td>\n",
       "      <td>564745</td>\n",
       "      <td>...</td>\n",
       "      <td>1023723</td>\n",
       "      <td>821226</td>\n",
       "      <td>660296</td>\n",
       "      <td>546494</td>\n",
       "      <td>437846</td>\n",
       "      <td>338561</td>\n",
       "      <td>35.1363</td>\n",
       "      <td>78.7402</td>\n",
       "      <td>Y</td>\n",
       "      <td>37</td>\n",
       "    </tr>\n",
       "    <tr>\n",
       "      <th>1</th>\n",
       "      <td>37</td>\n",
       "      <td>1R</td>\n",
       "      <td>0A2502</td>\n",
       "      <td>258559</td>\n",
       "      <td>205382</td>\n",
       "      <td>176003</td>\n",
       "      <td>180204</td>\n",
       "      <td>225142</td>\n",
       "      <td>347136</td>\n",
       "      <td>564745</td>\n",
       "      <td>...</td>\n",
       "      <td>1023723</td>\n",
       "      <td>821226</td>\n",
       "      <td>660296</td>\n",
       "      <td>546494</td>\n",
       "      <td>437846</td>\n",
       "      <td>338561</td>\n",
       "      <td>35.1363</td>\n",
       "      <td>78.7402</td>\n",
       "      <td>Y</td>\n",
       "      <td>37</td>\n",
       "    </tr>\n",
       "    <tr>\n",
       "      <th>2</th>\n",
       "      <td>37</td>\n",
       "      <td>1R</td>\n",
       "      <td>0A5001</td>\n",
       "      <td>146699</td>\n",
       "      <td>95063</td>\n",
       "      <td>73195</td>\n",
       "      <td>81469</td>\n",
       "      <td>128678</td>\n",
       "      <td>295976</td>\n",
       "      <td>605248</td>\n",
       "      <td>...</td>\n",
       "      <td>1008453</td>\n",
       "      <td>791201</td>\n",
       "      <td>603752</td>\n",
       "      <td>466809</td>\n",
       "      <td>346677</td>\n",
       "      <td>232828</td>\n",
       "      <td>35.4294</td>\n",
       "      <td>78.5319</td>\n",
       "      <td>Y</td>\n",
       "      <td>37</td>\n",
       "    </tr>\n",
       "    <tr>\n",
       "      <th>3</th>\n",
       "      <td>37</td>\n",
       "      <td>1R</td>\n",
       "      <td>0A5001</td>\n",
       "      <td>146699</td>\n",
       "      <td>95063</td>\n",
       "      <td>73195</td>\n",
       "      <td>81469</td>\n",
       "      <td>128678</td>\n",
       "      <td>295976</td>\n",
       "      <td>605248</td>\n",
       "      <td>...</td>\n",
       "      <td>1008453</td>\n",
       "      <td>791201</td>\n",
       "      <td>603752</td>\n",
       "      <td>466809</td>\n",
       "      <td>346677</td>\n",
       "      <td>232828</td>\n",
       "      <td>35.4294</td>\n",
       "      <td>78.5319</td>\n",
       "      <td>Y</td>\n",
       "      <td>37</td>\n",
       "    </tr>\n",
       "    <tr>\n",
       "      <th>4</th>\n",
       "      <td>37</td>\n",
       "      <td>1R</td>\n",
       "      <td>0A6303</td>\n",
       "      <td>233982</td>\n",
       "      <td>187657</td>\n",
       "      <td>166336</td>\n",
       "      <td>163483</td>\n",
       "      <td>188837</td>\n",
       "      <td>267159</td>\n",
       "      <td>402709</td>\n",
       "      <td>...</td>\n",
       "      <td>821579</td>\n",
       "      <td>671268</td>\n",
       "      <td>560302</td>\n",
       "      <td>470675</td>\n",
       "      <td>391902</td>\n",
       "      <td>304832</td>\n",
       "      <td>36.0998</td>\n",
       "      <td>77.8056</td>\n",
       "      <td>Y</td>\n",
       "      <td>37</td>\n",
       "    </tr>\n",
       "  </tbody>\n",
       "</table>\n",
       "<p>5 rows × 31 columns</p>\n",
       "</div>"
      ],
      "text/plain": [
       "   fips_state_code_x functional_classification station_id  \\\n",
       "0                 37                        1R     0A2502   \n",
       "1                 37                        1R     0A2502   \n",
       "2                 37                        1R     0A5001   \n",
       "3                 37                        1R     0A5001   \n",
       "4                 37                        1R     0A6303   \n",
       "\n",
       "   traffic_volume_counted_after_0000_to_0100  \\\n",
       "0                                     258559   \n",
       "1                                     258559   \n",
       "2                                     146699   \n",
       "3                                     146699   \n",
       "4                                     233982   \n",
       "\n",
       "   traffic_volume_counted_after_0100_to_0200  \\\n",
       "0                                     205382   \n",
       "1                                     205382   \n",
       "2                                      95063   \n",
       "3                                      95063   \n",
       "4                                     187657   \n",
       "\n",
       "   traffic_volume_counted_after_0200_to_0300  \\\n",
       "0                                     176003   \n",
       "1                                     176003   \n",
       "2                                      73195   \n",
       "3                                      73195   \n",
       "4                                     166336   \n",
       "\n",
       "   traffic_volume_counted_after_0300_to_0400  \\\n",
       "0                                     180204   \n",
       "1                                     180204   \n",
       "2                                      81469   \n",
       "3                                      81469   \n",
       "4                                     163483   \n",
       "\n",
       "   traffic_volume_counted_after_0400_to_0500  \\\n",
       "0                                     225142   \n",
       "1                                     225142   \n",
       "2                                     128678   \n",
       "3                                     128678   \n",
       "4                                     188837   \n",
       "\n",
       "   traffic_volume_counted_after_0500_to_0600  \\\n",
       "0                                     347136   \n",
       "1                                     347136   \n",
       "2                                     295976   \n",
       "3                                     295976   \n",
       "4                                     267159   \n",
       "\n",
       "   traffic_volume_counted_after_0600_to_0700  ...  \\\n",
       "0                                     564745  ...   \n",
       "1                                     564745  ...   \n",
       "2                                     605248  ...   \n",
       "3                                     605248  ...   \n",
       "4                                     402709  ...   \n",
       "\n",
       "   traffic_volume_counted_after_1800_to_1900  \\\n",
       "0                                    1023723   \n",
       "1                                    1023723   \n",
       "2                                    1008453   \n",
       "3                                    1008453   \n",
       "4                                     821579   \n",
       "\n",
       "   traffic_volume_counted_after_1900_to_2000  \\\n",
       "0                                     821226   \n",
       "1                                     821226   \n",
       "2                                     791201   \n",
       "3                                     791201   \n",
       "4                                     671268   \n",
       "\n",
       "   traffic_volume_counted_after_2000_to_2100  \\\n",
       "0                                     660296   \n",
       "1                                     660296   \n",
       "2                                     603752   \n",
       "3                                     603752   \n",
       "4                                     560302   \n",
       "\n",
       "   traffic_volume_counted_after_2100_to_2200  \\\n",
       "0                                     546494   \n",
       "1                                     546494   \n",
       "2                                     466809   \n",
       "3                                     466809   \n",
       "4                                     470675   \n",
       "\n",
       "   traffic_volume_counted_after_2200_to_2300  \\\n",
       "0                                     437846   \n",
       "1                                     437846   \n",
       "2                                     346677   \n",
       "3                                     346677   \n",
       "4                                     391902   \n",
       "\n",
       "   traffic_volume_counted_after_2300_to_2400  latitude  longitude  \\\n",
       "0                                     338561   35.1363    78.7402   \n",
       "1                                     338561   35.1363    78.7402   \n",
       "2                                     232828   35.4294    78.5319   \n",
       "3                                     232828   35.4294    78.5319   \n",
       "4                                     304832   36.0998    77.8056   \n",
       "\n",
       "   national_highway_system  fips_state_code_y  \n",
       "0                        Y                 37  \n",
       "1                        Y                 37  \n",
       "2                        Y                 37  \n",
       "3                        Y                 37  \n",
       "4                        Y                 37  \n",
       "\n",
       "[5 rows x 31 columns]"
      ]
     },
     "execution_count": 29,
     "metadata": {},
     "output_type": "execute_result"
    }
   ],
   "source": [
    "df_sum_latlong.head()"
   ]
  },
  {
   "cell_type": "code",
   "execution_count": 33,
   "metadata": {},
   "outputs": [
    {
     "name": "stdout",
     "output_type": "stream",
     "text": [
      "<class 'pandas.core.frame.DataFrame'>\n",
      "Int64Index: 138 entries, 0 to 137\n",
      "Data columns (total 31 columns):\n",
      " #   Column                                     Non-Null Count  Dtype  \n",
      "---  ------                                     --------------  -----  \n",
      " 0   fips_state_code_x                          138 non-null    int64  \n",
      " 1   functional_classification                  138 non-null    object \n",
      " 2   station_id                                 138 non-null    object \n",
      " 3   traffic_volume_counted_after_0000_to_0100  138 non-null    int64  \n",
      " 4   traffic_volume_counted_after_0100_to_0200  138 non-null    int64  \n",
      " 5   traffic_volume_counted_after_0200_to_0300  138 non-null    int64  \n",
      " 6   traffic_volume_counted_after_0300_to_0400  138 non-null    int64  \n",
      " 7   traffic_volume_counted_after_0400_to_0500  138 non-null    int64  \n",
      " 8   traffic_volume_counted_after_0500_to_0600  138 non-null    int64  \n",
      " 9   traffic_volume_counted_after_0600_to_0700  138 non-null    int64  \n",
      " 10  traffic_volume_counted_after_0700_to_0800  138 non-null    int64  \n",
      " 11  traffic_volume_counted_after_0800_to_0900  138 non-null    int64  \n",
      " 12  traffic_volume_counted_after_0900_to_1000  138 non-null    int64  \n",
      " 13  traffic_volume_counted_after_1000_to_1100  138 non-null    int64  \n",
      " 14  traffic_volume_counted_after_1100_to_1200  138 non-null    int64  \n",
      " 15  traffic_volume_counted_after_1200_to_1300  138 non-null    int64  \n",
      " 16  traffic_volume_counted_after_1300_to_1400  138 non-null    int64  \n",
      " 17  traffic_volume_counted_after_1400_to_1500  138 non-null    int64  \n",
      " 18  traffic_volume_counted_after_1500_to_1600  138 non-null    int64  \n",
      " 19  traffic_volume_counted_after_1600_to_1700  138 non-null    int64  \n",
      " 20  traffic_volume_counted_after_1700_to_1800  138 non-null    int64  \n",
      " 21  traffic_volume_counted_after_1800_to_1900  138 non-null    int64  \n",
      " 22  traffic_volume_counted_after_1900_to_2000  138 non-null    int64  \n",
      " 23  traffic_volume_counted_after_2000_to_2100  138 non-null    int64  \n",
      " 24  traffic_volume_counted_after_2100_to_2200  138 non-null    int64  \n",
      " 25  traffic_volume_counted_after_2200_to_2300  138 non-null    int64  \n",
      " 26  traffic_volume_counted_after_2300_to_2400  138 non-null    int64  \n",
      " 27  latitude                                   138 non-null    float64\n",
      " 28  longitude                                  138 non-null    float64\n",
      " 29  national_highway_system                    138 non-null    object \n",
      " 30  fips_state_code_y                          138 non-null    int64  \n",
      "dtypes: float64(2), int64(26), object(3)\n",
      "memory usage: 34.5+ KB\n"
     ]
    }
   ],
   "source": [
    "df_sum_latlong.info()"
   ]
  },
  {
   "cell_type": "code",
   "execution_count": 30,
   "metadata": {},
   "outputs": [],
   "source": [
    "df_mean_latlong = df_mean.merge(cols, on=['station_id','fips_state_code'], how='inner')"
   ]
  },
  {
   "cell_type": "code",
   "execution_count": 31,
   "metadata": {},
   "outputs": [
    {
     "name": "stdout",
     "output_type": "stream",
     "text": [
      "<class 'pandas.core.frame.DataFrame'>\n",
      "Int64Index: 138 entries, 0 to 137\n",
      "Data columns (total 30 columns):\n",
      " #   Column                                     Non-Null Count  Dtype  \n",
      "---  ------                                     --------------  -----  \n",
      " 0   fips_state_code                            138 non-null    int64  \n",
      " 1   functional_classification                  138 non-null    object \n",
      " 2   station_id                                 138 non-null    object \n",
      " 3   traffic_volume_counted_after_0000_to_0100  138 non-null    float64\n",
      " 4   traffic_volume_counted_after_0100_to_0200  138 non-null    float64\n",
      " 5   traffic_volume_counted_after_0200_to_0300  138 non-null    float64\n",
      " 6   traffic_volume_counted_after_0300_to_0400  138 non-null    float64\n",
      " 7   traffic_volume_counted_after_0400_to_0500  138 non-null    float64\n",
      " 8   traffic_volume_counted_after_0500_to_0600  138 non-null    float64\n",
      " 9   traffic_volume_counted_after_0600_to_0700  138 non-null    float64\n",
      " 10  traffic_volume_counted_after_0700_to_0800  138 non-null    float64\n",
      " 11  traffic_volume_counted_after_0800_to_0900  138 non-null    float64\n",
      " 12  traffic_volume_counted_after_0900_to_1000  138 non-null    float64\n",
      " 13  traffic_volume_counted_after_1000_to_1100  138 non-null    float64\n",
      " 14  traffic_volume_counted_after_1100_to_1200  138 non-null    float64\n",
      " 15  traffic_volume_counted_after_1200_to_1300  138 non-null    float64\n",
      " 16  traffic_volume_counted_after_1300_to_1400  138 non-null    float64\n",
      " 17  traffic_volume_counted_after_1400_to_1500  138 non-null    float64\n",
      " 18  traffic_volume_counted_after_1500_to_1600  138 non-null    float64\n",
      " 19  traffic_volume_counted_after_1600_to_1700  138 non-null    float64\n",
      " 20  traffic_volume_counted_after_1700_to_1800  138 non-null    float64\n",
      " 21  traffic_volume_counted_after_1800_to_1900  138 non-null    float64\n",
      " 22  traffic_volume_counted_after_1900_to_2000  138 non-null    float64\n",
      " 23  traffic_volume_counted_after_2000_to_2100  138 non-null    float64\n",
      " 24  traffic_volume_counted_after_2100_to_2200  138 non-null    float64\n",
      " 25  traffic_volume_counted_after_2200_to_2300  138 non-null    float64\n",
      " 26  traffic_volume_counted_after_2300_to_2400  138 non-null    float64\n",
      " 27  latitude                                   138 non-null    float64\n",
      " 28  longitude                                  138 non-null    float64\n",
      " 29  national_highway_system                    138 non-null    object \n",
      "dtypes: float64(26), int64(1), object(3)\n",
      "memory usage: 33.4+ KB\n"
     ]
    }
   ],
   "source": [
    "df_mean_latlong.info()"
   ]
  },
  {
   "cell_type": "code",
   "execution_count": 32,
   "metadata": {},
   "outputs": [
    {
     "data": {
      "text/html": [
       "<div>\n",
       "<style scoped>\n",
       "    .dataframe tbody tr th:only-of-type {\n",
       "        vertical-align: middle;\n",
       "    }\n",
       "\n",
       "    .dataframe tbody tr th {\n",
       "        vertical-align: top;\n",
       "    }\n",
       "\n",
       "    .dataframe thead th {\n",
       "        text-align: right;\n",
       "    }\n",
       "</style>\n",
       "<table border=\"1\" class=\"dataframe\">\n",
       "  <thead>\n",
       "    <tr style=\"text-align: right;\">\n",
       "      <th></th>\n",
       "      <th>fips_state_code</th>\n",
       "      <th>functional_classification</th>\n",
       "      <th>station_id</th>\n",
       "      <th>traffic_volume_counted_after_0000_to_0100</th>\n",
       "      <th>traffic_volume_counted_after_0100_to_0200</th>\n",
       "      <th>traffic_volume_counted_after_0200_to_0300</th>\n",
       "      <th>traffic_volume_counted_after_0300_to_0400</th>\n",
       "      <th>traffic_volume_counted_after_0400_to_0500</th>\n",
       "      <th>traffic_volume_counted_after_0500_to_0600</th>\n",
       "      <th>traffic_volume_counted_after_0600_to_0700</th>\n",
       "      <th>...</th>\n",
       "      <th>traffic_volume_counted_after_1700_to_1800</th>\n",
       "      <th>traffic_volume_counted_after_1800_to_1900</th>\n",
       "      <th>traffic_volume_counted_after_1900_to_2000</th>\n",
       "      <th>traffic_volume_counted_after_2000_to_2100</th>\n",
       "      <th>traffic_volume_counted_after_2100_to_2200</th>\n",
       "      <th>traffic_volume_counted_after_2200_to_2300</th>\n",
       "      <th>traffic_volume_counted_after_2300_to_2400</th>\n",
       "      <th>latitude</th>\n",
       "      <th>longitude</th>\n",
       "      <th>national_highway_system</th>\n",
       "    </tr>\n",
       "  </thead>\n",
       "  <tbody>\n",
       "    <tr>\n",
       "      <th>0</th>\n",
       "      <td>37</td>\n",
       "      <td>1R</td>\n",
       "      <td>0A2502</td>\n",
       "      <td>363.144663</td>\n",
       "      <td>288.457865</td>\n",
       "      <td>247.195225</td>\n",
       "      <td>253.095506</td>\n",
       "      <td>316.210674</td>\n",
       "      <td>487.550562</td>\n",
       "      <td>793.181180</td>\n",
       "      <td>...</td>\n",
       "      <td>1725.540730</td>\n",
       "      <td>1437.813202</td>\n",
       "      <td>1153.407303</td>\n",
       "      <td>927.382022</td>\n",
       "      <td>767.547753</td>\n",
       "      <td>614.952247</td>\n",
       "      <td>475.507022</td>\n",
       "      <td>35.1363</td>\n",
       "      <td>78.7402</td>\n",
       "      <td>Y</td>\n",
       "    </tr>\n",
       "    <tr>\n",
       "      <th>1</th>\n",
       "      <td>37</td>\n",
       "      <td>1R</td>\n",
       "      <td>0A2502</td>\n",
       "      <td>363.144663</td>\n",
       "      <td>288.457865</td>\n",
       "      <td>247.195225</td>\n",
       "      <td>253.095506</td>\n",
       "      <td>316.210674</td>\n",
       "      <td>487.550562</td>\n",
       "      <td>793.181180</td>\n",
       "      <td>...</td>\n",
       "      <td>1725.540730</td>\n",
       "      <td>1437.813202</td>\n",
       "      <td>1153.407303</td>\n",
       "      <td>927.382022</td>\n",
       "      <td>767.547753</td>\n",
       "      <td>614.952247</td>\n",
       "      <td>475.507022</td>\n",
       "      <td>35.1363</td>\n",
       "      <td>78.7402</td>\n",
       "      <td>Y</td>\n",
       "    </tr>\n",
       "    <tr>\n",
       "      <th>2</th>\n",
       "      <td>37</td>\n",
       "      <td>1R</td>\n",
       "      <td>0A5001</td>\n",
       "      <td>201.509615</td>\n",
       "      <td>130.581044</td>\n",
       "      <td>100.542582</td>\n",
       "      <td>111.907967</td>\n",
       "      <td>176.755495</td>\n",
       "      <td>406.560440</td>\n",
       "      <td>831.384615</td>\n",
       "      <td>...</td>\n",
       "      <td>1628.839286</td>\n",
       "      <td>1385.237637</td>\n",
       "      <td>1086.814560</td>\n",
       "      <td>829.329670</td>\n",
       "      <td>641.221154</td>\n",
       "      <td>476.204670</td>\n",
       "      <td>319.818681</td>\n",
       "      <td>35.4294</td>\n",
       "      <td>78.5319</td>\n",
       "      <td>Y</td>\n",
       "    </tr>\n",
       "    <tr>\n",
       "      <th>3</th>\n",
       "      <td>37</td>\n",
       "      <td>1R</td>\n",
       "      <td>0A5001</td>\n",
       "      <td>201.509615</td>\n",
       "      <td>130.581044</td>\n",
       "      <td>100.542582</td>\n",
       "      <td>111.907967</td>\n",
       "      <td>176.755495</td>\n",
       "      <td>406.560440</td>\n",
       "      <td>831.384615</td>\n",
       "      <td>...</td>\n",
       "      <td>1628.839286</td>\n",
       "      <td>1385.237637</td>\n",
       "      <td>1086.814560</td>\n",
       "      <td>829.329670</td>\n",
       "      <td>641.221154</td>\n",
       "      <td>476.204670</td>\n",
       "      <td>319.818681</td>\n",
       "      <td>35.4294</td>\n",
       "      <td>78.5319</td>\n",
       "      <td>Y</td>\n",
       "    </tr>\n",
       "    <tr>\n",
       "      <th>4</th>\n",
       "      <td>37</td>\n",
       "      <td>1R</td>\n",
       "      <td>0A6303</td>\n",
       "      <td>337.149856</td>\n",
       "      <td>270.399135</td>\n",
       "      <td>239.677233</td>\n",
       "      <td>235.566282</td>\n",
       "      <td>272.099424</td>\n",
       "      <td>384.955331</td>\n",
       "      <td>580.272334</td>\n",
       "      <td>...</td>\n",
       "      <td>1413.786744</td>\n",
       "      <td>1183.831412</td>\n",
       "      <td>967.244957</td>\n",
       "      <td>807.351585</td>\n",
       "      <td>678.206052</td>\n",
       "      <td>564.700288</td>\n",
       "      <td>439.239193</td>\n",
       "      <td>36.0998</td>\n",
       "      <td>77.8056</td>\n",
       "      <td>Y</td>\n",
       "    </tr>\n",
       "  </tbody>\n",
       "</table>\n",
       "<p>5 rows × 30 columns</p>\n",
       "</div>"
      ],
      "text/plain": [
       "   fips_state_code functional_classification station_id  \\\n",
       "0               37                        1R     0A2502   \n",
       "1               37                        1R     0A2502   \n",
       "2               37                        1R     0A5001   \n",
       "3               37                        1R     0A5001   \n",
       "4               37                        1R     0A6303   \n",
       "\n",
       "   traffic_volume_counted_after_0000_to_0100  \\\n",
       "0                                 363.144663   \n",
       "1                                 363.144663   \n",
       "2                                 201.509615   \n",
       "3                                 201.509615   \n",
       "4                                 337.149856   \n",
       "\n",
       "   traffic_volume_counted_after_0100_to_0200  \\\n",
       "0                                 288.457865   \n",
       "1                                 288.457865   \n",
       "2                                 130.581044   \n",
       "3                                 130.581044   \n",
       "4                                 270.399135   \n",
       "\n",
       "   traffic_volume_counted_after_0200_to_0300  \\\n",
       "0                                 247.195225   \n",
       "1                                 247.195225   \n",
       "2                                 100.542582   \n",
       "3                                 100.542582   \n",
       "4                                 239.677233   \n",
       "\n",
       "   traffic_volume_counted_after_0300_to_0400  \\\n",
       "0                                 253.095506   \n",
       "1                                 253.095506   \n",
       "2                                 111.907967   \n",
       "3                                 111.907967   \n",
       "4                                 235.566282   \n",
       "\n",
       "   traffic_volume_counted_after_0400_to_0500  \\\n",
       "0                                 316.210674   \n",
       "1                                 316.210674   \n",
       "2                                 176.755495   \n",
       "3                                 176.755495   \n",
       "4                                 272.099424   \n",
       "\n",
       "   traffic_volume_counted_after_0500_to_0600  \\\n",
       "0                                 487.550562   \n",
       "1                                 487.550562   \n",
       "2                                 406.560440   \n",
       "3                                 406.560440   \n",
       "4                                 384.955331   \n",
       "\n",
       "   traffic_volume_counted_after_0600_to_0700  ...  \\\n",
       "0                                 793.181180  ...   \n",
       "1                                 793.181180  ...   \n",
       "2                                 831.384615  ...   \n",
       "3                                 831.384615  ...   \n",
       "4                                 580.272334  ...   \n",
       "\n",
       "   traffic_volume_counted_after_1700_to_1800  \\\n",
       "0                                1725.540730   \n",
       "1                                1725.540730   \n",
       "2                                1628.839286   \n",
       "3                                1628.839286   \n",
       "4                                1413.786744   \n",
       "\n",
       "   traffic_volume_counted_after_1800_to_1900  \\\n",
       "0                                1437.813202   \n",
       "1                                1437.813202   \n",
       "2                                1385.237637   \n",
       "3                                1385.237637   \n",
       "4                                1183.831412   \n",
       "\n",
       "   traffic_volume_counted_after_1900_to_2000  \\\n",
       "0                                1153.407303   \n",
       "1                                1153.407303   \n",
       "2                                1086.814560   \n",
       "3                                1086.814560   \n",
       "4                                 967.244957   \n",
       "\n",
       "   traffic_volume_counted_after_2000_to_2100  \\\n",
       "0                                 927.382022   \n",
       "1                                 927.382022   \n",
       "2                                 829.329670   \n",
       "3                                 829.329670   \n",
       "4                                 807.351585   \n",
       "\n",
       "   traffic_volume_counted_after_2100_to_2200  \\\n",
       "0                                 767.547753   \n",
       "1                                 767.547753   \n",
       "2                                 641.221154   \n",
       "3                                 641.221154   \n",
       "4                                 678.206052   \n",
       "\n",
       "   traffic_volume_counted_after_2200_to_2300  \\\n",
       "0                                 614.952247   \n",
       "1                                 614.952247   \n",
       "2                                 476.204670   \n",
       "3                                 476.204670   \n",
       "4                                 564.700288   \n",
       "\n",
       "   traffic_volume_counted_after_2300_to_2400  latitude  longitude  \\\n",
       "0                                 475.507022   35.1363    78.7402   \n",
       "1                                 475.507022   35.1363    78.7402   \n",
       "2                                 319.818681   35.4294    78.5319   \n",
       "3                                 319.818681   35.4294    78.5319   \n",
       "4                                 439.239193   36.0998    77.8056   \n",
       "\n",
       "   national_highway_system  \n",
       "0                        Y  \n",
       "1                        Y  \n",
       "2                        Y  \n",
       "3                        Y  \n",
       "4                        Y  \n",
       "\n",
       "[5 rows x 30 columns]"
      ]
     },
     "execution_count": 32,
     "metadata": {},
     "output_type": "execute_result"
    }
   ],
   "source": [
    "df_mean_latlong.head()"
   ]
  },
  {
   "cell_type": "code",
   "execution_count": 35,
   "metadata": {
    "scrolled": true
   },
   "outputs": [
    {
     "name": "stdout",
     "output_type": "stream",
     "text": [
      "<class 'pandas.core.frame.DataFrame'>\n",
      "Int64Index: 67 entries, 0 to 136\n",
      "Data columns (total 31 columns):\n",
      " #   Column                                     Non-Null Count  Dtype  \n",
      "---  ------                                     --------------  -----  \n",
      " 0   fips_state_code_x                          67 non-null     int64  \n",
      " 1   functional_classification                  67 non-null     object \n",
      " 2   station_id                                 67 non-null     object \n",
      " 3   traffic_volume_counted_after_0000_to_0100  67 non-null     int64  \n",
      " 4   traffic_volume_counted_after_0100_to_0200  67 non-null     int64  \n",
      " 5   traffic_volume_counted_after_0200_to_0300  67 non-null     int64  \n",
      " 6   traffic_volume_counted_after_0300_to_0400  67 non-null     int64  \n",
      " 7   traffic_volume_counted_after_0400_to_0500  67 non-null     int64  \n",
      " 8   traffic_volume_counted_after_0500_to_0600  67 non-null     int64  \n",
      " 9   traffic_volume_counted_after_0600_to_0700  67 non-null     int64  \n",
      " 10  traffic_volume_counted_after_0700_to_0800  67 non-null     int64  \n",
      " 11  traffic_volume_counted_after_0800_to_0900  67 non-null     int64  \n",
      " 12  traffic_volume_counted_after_0900_to_1000  67 non-null     int64  \n",
      " 13  traffic_volume_counted_after_1000_to_1100  67 non-null     int64  \n",
      " 14  traffic_volume_counted_after_1100_to_1200  67 non-null     int64  \n",
      " 15  traffic_volume_counted_after_1200_to_1300  67 non-null     int64  \n",
      " 16  traffic_volume_counted_after_1300_to_1400  67 non-null     int64  \n",
      " 17  traffic_volume_counted_after_1400_to_1500  67 non-null     int64  \n",
      " 18  traffic_volume_counted_after_1500_to_1600  67 non-null     int64  \n",
      " 19  traffic_volume_counted_after_1600_to_1700  67 non-null     int64  \n",
      " 20  traffic_volume_counted_after_1700_to_1800  67 non-null     int64  \n",
      " 21  traffic_volume_counted_after_1800_to_1900  67 non-null     int64  \n",
      " 22  traffic_volume_counted_after_1900_to_2000  67 non-null     int64  \n",
      " 23  traffic_volume_counted_after_2000_to_2100  67 non-null     int64  \n",
      " 24  traffic_volume_counted_after_2100_to_2200  67 non-null     int64  \n",
      " 25  traffic_volume_counted_after_2200_to_2300  67 non-null     int64  \n",
      " 26  traffic_volume_counted_after_2300_to_2400  67 non-null     int64  \n",
      " 27  latitude                                   67 non-null     float64\n",
      " 28  longitude                                  67 non-null     float64\n",
      " 29  national_highway_system                    67 non-null     object \n",
      " 30  fips_state_code_y                          67 non-null     int64  \n",
      "dtypes: float64(2), int64(26), object(3)\n",
      "memory usage: 16.8+ KB\n"
     ]
    }
   ],
   "source": [
    "df_sum_latlong = df_sum_latlong.drop_duplicates(subset=['station_id'])\n",
    "df_sum_latlong.info()"
   ]
  },
  {
   "cell_type": "code",
   "execution_count": 34,
   "metadata": {
    "scrolled": true
   },
   "outputs": [
    {
     "name": "stdout",
     "output_type": "stream",
     "text": [
      "<class 'pandas.core.frame.DataFrame'>\n",
      "Int64Index: 67 entries, 0 to 136\n",
      "Data columns (total 30 columns):\n",
      " #   Column                                     Non-Null Count  Dtype  \n",
      "---  ------                                     --------------  -----  \n",
      " 0   fips_state_code                            67 non-null     int64  \n",
      " 1   functional_classification                  67 non-null     object \n",
      " 2   station_id                                 67 non-null     object \n",
      " 3   traffic_volume_counted_after_0000_to_0100  67 non-null     float64\n",
      " 4   traffic_volume_counted_after_0100_to_0200  67 non-null     float64\n",
      " 5   traffic_volume_counted_after_0200_to_0300  67 non-null     float64\n",
      " 6   traffic_volume_counted_after_0300_to_0400  67 non-null     float64\n",
      " 7   traffic_volume_counted_after_0400_to_0500  67 non-null     float64\n",
      " 8   traffic_volume_counted_after_0500_to_0600  67 non-null     float64\n",
      " 9   traffic_volume_counted_after_0600_to_0700  67 non-null     float64\n",
      " 10  traffic_volume_counted_after_0700_to_0800  67 non-null     float64\n",
      " 11  traffic_volume_counted_after_0800_to_0900  67 non-null     float64\n",
      " 12  traffic_volume_counted_after_0900_to_1000  67 non-null     float64\n",
      " 13  traffic_volume_counted_after_1000_to_1100  67 non-null     float64\n",
      " 14  traffic_volume_counted_after_1100_to_1200  67 non-null     float64\n",
      " 15  traffic_volume_counted_after_1200_to_1300  67 non-null     float64\n",
      " 16  traffic_volume_counted_after_1300_to_1400  67 non-null     float64\n",
      " 17  traffic_volume_counted_after_1400_to_1500  67 non-null     float64\n",
      " 18  traffic_volume_counted_after_1500_to_1600  67 non-null     float64\n",
      " 19  traffic_volume_counted_after_1600_to_1700  67 non-null     float64\n",
      " 20  traffic_volume_counted_after_1700_to_1800  67 non-null     float64\n",
      " 21  traffic_volume_counted_after_1800_to_1900  67 non-null     float64\n",
      " 22  traffic_volume_counted_after_1900_to_2000  67 non-null     float64\n",
      " 23  traffic_volume_counted_after_2000_to_2100  67 non-null     float64\n",
      " 24  traffic_volume_counted_after_2100_to_2200  67 non-null     float64\n",
      " 25  traffic_volume_counted_after_2200_to_2300  67 non-null     float64\n",
      " 26  traffic_volume_counted_after_2300_to_2400  67 non-null     float64\n",
      " 27  latitude                                   67 non-null     float64\n",
      " 28  longitude                                  67 non-null     float64\n",
      " 29  national_highway_system                    67 non-null     object \n",
      "dtypes: float64(26), int64(1), object(3)\n",
      "memory usage: 16.2+ KB\n"
     ]
    }
   ],
   "source": [
    "df_mean_latlong = df_mean_latlong.drop_duplicates(subset=['fips_state_code','station_id'])\n",
    "df_mean_latlong.info()"
   ]
  },
  {
   "cell_type": "code",
   "execution_count": 36,
   "metadata": {},
   "outputs": [],
   "source": [
    "labels = []\n",
    "for i in df_mean_latlong['functional_classification']:\n",
    "    if 'U' in i:\n",
    "        labels.append('U')\n",
    "    else:\n",
    "        labels.append('R')"
   ]
  },
  {
   "cell_type": "code",
   "execution_count": 37,
   "metadata": {
    "scrolled": true
   },
   "outputs": [
    {
     "data": {
      "text/plain": [
       "['R',\n",
       " 'R',\n",
       " 'R',\n",
       " 'R',\n",
       " 'R',\n",
       " 'R',\n",
       " 'U',\n",
       " 'U',\n",
       " 'U',\n",
       " 'U',\n",
       " 'U',\n",
       " 'U',\n",
       " 'U',\n",
       " 'U',\n",
       " 'U',\n",
       " 'U',\n",
       " 'U',\n",
       " 'U',\n",
       " 'U',\n",
       " 'U',\n",
       " 'R',\n",
       " 'R',\n",
       " 'R',\n",
       " 'R',\n",
       " 'R',\n",
       " 'R',\n",
       " 'R',\n",
       " 'R',\n",
       " 'R',\n",
       " 'R',\n",
       " 'R',\n",
       " 'R',\n",
       " 'R',\n",
       " 'R',\n",
       " 'U',\n",
       " 'U',\n",
       " 'U',\n",
       " 'R',\n",
       " 'R',\n",
       " 'R',\n",
       " 'U',\n",
       " 'U',\n",
       " 'U',\n",
       " 'U',\n",
       " 'U',\n",
       " 'U',\n",
       " 'U',\n",
       " 'U',\n",
       " 'R',\n",
       " 'R',\n",
       " 'R',\n",
       " 'R',\n",
       " 'R',\n",
       " 'U',\n",
       " 'U',\n",
       " 'U',\n",
       " 'R',\n",
       " 'R',\n",
       " 'R',\n",
       " 'R',\n",
       " 'R',\n",
       " 'R',\n",
       " 'R',\n",
       " 'U',\n",
       " 'U',\n",
       " 'U',\n",
       " 'U']"
      ]
     },
     "execution_count": 37,
     "metadata": {},
     "output_type": "execute_result"
    }
   ],
   "source": [
    "labels"
   ]
  },
  {
   "cell_type": "code",
   "execution_count": 38,
   "metadata": {},
   "outputs": [
    {
     "name": "stderr",
     "output_type": "stream",
     "text": [
      "C:\\Users\\shubh\\Anaconda3\\lib\\site-packages\\pandas\\core\\frame.py:4174: SettingWithCopyWarning: \n",
      "A value is trying to be set on a copy of a slice from a DataFrame\n",
      "\n",
      "See the caveats in the documentation: https://pandas.pydata.org/pandas-docs/stable/user_guide/indexing.html#returning-a-view-versus-a-copy\n",
      "  errors=errors,\n"
     ]
    }
   ],
   "source": [
    "df_mean_latlong.drop(['functional_classification','station_id'], axis=1, inplace=True)"
   ]
  },
  {
   "cell_type": "code",
   "execution_count": 39,
   "metadata": {},
   "outputs": [
    {
     "data": {
      "text/html": [
       "<div>\n",
       "<style scoped>\n",
       "    .dataframe tbody tr th:only-of-type {\n",
       "        vertical-align: middle;\n",
       "    }\n",
       "\n",
       "    .dataframe tbody tr th {\n",
       "        vertical-align: top;\n",
       "    }\n",
       "\n",
       "    .dataframe thead th {\n",
       "        text-align: right;\n",
       "    }\n",
       "</style>\n",
       "<table border=\"1\" class=\"dataframe\">\n",
       "  <thead>\n",
       "    <tr style=\"text-align: right;\">\n",
       "      <th></th>\n",
       "      <th>fips_state_code</th>\n",
       "      <th>traffic_volume_counted_after_0000_to_0100</th>\n",
       "      <th>traffic_volume_counted_after_0100_to_0200</th>\n",
       "      <th>traffic_volume_counted_after_0200_to_0300</th>\n",
       "      <th>traffic_volume_counted_after_0300_to_0400</th>\n",
       "      <th>traffic_volume_counted_after_0400_to_0500</th>\n",
       "      <th>traffic_volume_counted_after_0500_to_0600</th>\n",
       "      <th>traffic_volume_counted_after_0600_to_0700</th>\n",
       "      <th>traffic_volume_counted_after_0700_to_0800</th>\n",
       "      <th>traffic_volume_counted_after_0800_to_0900</th>\n",
       "      <th>...</th>\n",
       "      <th>traffic_volume_counted_after_1700_to_1800</th>\n",
       "      <th>traffic_volume_counted_after_1800_to_1900</th>\n",
       "      <th>traffic_volume_counted_after_1900_to_2000</th>\n",
       "      <th>traffic_volume_counted_after_2000_to_2100</th>\n",
       "      <th>traffic_volume_counted_after_2100_to_2200</th>\n",
       "      <th>traffic_volume_counted_after_2200_to_2300</th>\n",
       "      <th>traffic_volume_counted_after_2300_to_2400</th>\n",
       "      <th>latitude</th>\n",
       "      <th>longitude</th>\n",
       "      <th>national_highway_system</th>\n",
       "    </tr>\n",
       "  </thead>\n",
       "  <tbody>\n",
       "    <tr>\n",
       "      <th>0</th>\n",
       "      <td>37</td>\n",
       "      <td>363.144663</td>\n",
       "      <td>288.457865</td>\n",
       "      <td>247.195225</td>\n",
       "      <td>253.095506</td>\n",
       "      <td>316.210674</td>\n",
       "      <td>487.550562</td>\n",
       "      <td>793.181180</td>\n",
       "      <td>1088.738764</td>\n",
       "      <td>1259.910112</td>\n",
       "      <td>...</td>\n",
       "      <td>1725.540730</td>\n",
       "      <td>1437.813202</td>\n",
       "      <td>1153.407303</td>\n",
       "      <td>927.382022</td>\n",
       "      <td>767.547753</td>\n",
       "      <td>614.952247</td>\n",
       "      <td>475.507022</td>\n",
       "      <td>35.1363</td>\n",
       "      <td>78.7402</td>\n",
       "      <td>Y</td>\n",
       "    </tr>\n",
       "    <tr>\n",
       "      <th>2</th>\n",
       "      <td>37</td>\n",
       "      <td>201.509615</td>\n",
       "      <td>130.581044</td>\n",
       "      <td>100.542582</td>\n",
       "      <td>111.907967</td>\n",
       "      <td>176.755495</td>\n",
       "      <td>406.560440</td>\n",
       "      <td>831.384615</td>\n",
       "      <td>992.554945</td>\n",
       "      <td>1080.723901</td>\n",
       "      <td>...</td>\n",
       "      <td>1628.839286</td>\n",
       "      <td>1385.237637</td>\n",
       "      <td>1086.814560</td>\n",
       "      <td>829.329670</td>\n",
       "      <td>641.221154</td>\n",
       "      <td>476.204670</td>\n",
       "      <td>319.818681</td>\n",
       "      <td>35.4294</td>\n",
       "      <td>78.5319</td>\n",
       "      <td>Y</td>\n",
       "    </tr>\n",
       "    <tr>\n",
       "      <th>4</th>\n",
       "      <td>37</td>\n",
       "      <td>337.149856</td>\n",
       "      <td>270.399135</td>\n",
       "      <td>239.677233</td>\n",
       "      <td>235.566282</td>\n",
       "      <td>272.099424</td>\n",
       "      <td>384.955331</td>\n",
       "      <td>580.272334</td>\n",
       "      <td>845.805476</td>\n",
       "      <td>1036.997118</td>\n",
       "      <td>...</td>\n",
       "      <td>1413.786744</td>\n",
       "      <td>1183.831412</td>\n",
       "      <td>967.244957</td>\n",
       "      <td>807.351585</td>\n",
       "      <td>678.206052</td>\n",
       "      <td>564.700288</td>\n",
       "      <td>439.239193</td>\n",
       "      <td>36.0998</td>\n",
       "      <td>77.8056</td>\n",
       "      <td>Y</td>\n",
       "    </tr>\n",
       "    <tr>\n",
       "      <th>6</th>\n",
       "      <td>37</td>\n",
       "      <td>90.469643</td>\n",
       "      <td>61.628571</td>\n",
       "      <td>47.953571</td>\n",
       "      <td>49.010714</td>\n",
       "      <td>75.332143</td>\n",
       "      <td>166.798214</td>\n",
       "      <td>404.471429</td>\n",
       "      <td>603.896429</td>\n",
       "      <td>615.994643</td>\n",
       "      <td>...</td>\n",
       "      <td>928.308929</td>\n",
       "      <td>735.926786</td>\n",
       "      <td>542.228571</td>\n",
       "      <td>421.582143</td>\n",
       "      <td>324.205357</td>\n",
       "      <td>224.317857</td>\n",
       "      <td>139.842857</td>\n",
       "      <td>34.4511</td>\n",
       "      <td>77.8773</td>\n",
       "      <td>Y</td>\n",
       "    </tr>\n",
       "    <tr>\n",
       "      <th>8</th>\n",
       "      <td>37</td>\n",
       "      <td>76.578571</td>\n",
       "      <td>50.751429</td>\n",
       "      <td>44.834286</td>\n",
       "      <td>51.742857</td>\n",
       "      <td>82.668571</td>\n",
       "      <td>192.480000</td>\n",
       "      <td>393.345714</td>\n",
       "      <td>494.178571</td>\n",
       "      <td>472.755714</td>\n",
       "      <td>...</td>\n",
       "      <td>690.270000</td>\n",
       "      <td>540.430000</td>\n",
       "      <td>404.648571</td>\n",
       "      <td>303.202857</td>\n",
       "      <td>234.314286</td>\n",
       "      <td>173.077143</td>\n",
       "      <td>124.744286</td>\n",
       "      <td>35.6024</td>\n",
       "      <td>79.8182</td>\n",
       "      <td>Y</td>\n",
       "    </tr>\n",
       "  </tbody>\n",
       "</table>\n",
       "<p>5 rows × 28 columns</p>\n",
       "</div>"
      ],
      "text/plain": [
       "   fips_state_code  traffic_volume_counted_after_0000_to_0100  \\\n",
       "0               37                                 363.144663   \n",
       "2               37                                 201.509615   \n",
       "4               37                                 337.149856   \n",
       "6               37                                  90.469643   \n",
       "8               37                                  76.578571   \n",
       "\n",
       "   traffic_volume_counted_after_0100_to_0200  \\\n",
       "0                                 288.457865   \n",
       "2                                 130.581044   \n",
       "4                                 270.399135   \n",
       "6                                  61.628571   \n",
       "8                                  50.751429   \n",
       "\n",
       "   traffic_volume_counted_after_0200_to_0300  \\\n",
       "0                                 247.195225   \n",
       "2                                 100.542582   \n",
       "4                                 239.677233   \n",
       "6                                  47.953571   \n",
       "8                                  44.834286   \n",
       "\n",
       "   traffic_volume_counted_after_0300_to_0400  \\\n",
       "0                                 253.095506   \n",
       "2                                 111.907967   \n",
       "4                                 235.566282   \n",
       "6                                  49.010714   \n",
       "8                                  51.742857   \n",
       "\n",
       "   traffic_volume_counted_after_0400_to_0500  \\\n",
       "0                                 316.210674   \n",
       "2                                 176.755495   \n",
       "4                                 272.099424   \n",
       "6                                  75.332143   \n",
       "8                                  82.668571   \n",
       "\n",
       "   traffic_volume_counted_after_0500_to_0600  \\\n",
       "0                                 487.550562   \n",
       "2                                 406.560440   \n",
       "4                                 384.955331   \n",
       "6                                 166.798214   \n",
       "8                                 192.480000   \n",
       "\n",
       "   traffic_volume_counted_after_0600_to_0700  \\\n",
       "0                                 793.181180   \n",
       "2                                 831.384615   \n",
       "4                                 580.272334   \n",
       "6                                 404.471429   \n",
       "8                                 393.345714   \n",
       "\n",
       "   traffic_volume_counted_after_0700_to_0800  \\\n",
       "0                                1088.738764   \n",
       "2                                 992.554945   \n",
       "4                                 845.805476   \n",
       "6                                 603.896429   \n",
       "8                                 494.178571   \n",
       "\n",
       "   traffic_volume_counted_after_0800_to_0900  ...  \\\n",
       "0                                1259.910112  ...   \n",
       "2                                1080.723901  ...   \n",
       "4                                1036.997118  ...   \n",
       "6                                 615.994643  ...   \n",
       "8                                 472.755714  ...   \n",
       "\n",
       "   traffic_volume_counted_after_1700_to_1800  \\\n",
       "0                                1725.540730   \n",
       "2                                1628.839286   \n",
       "4                                1413.786744   \n",
       "6                                 928.308929   \n",
       "8                                 690.270000   \n",
       "\n",
       "   traffic_volume_counted_after_1800_to_1900  \\\n",
       "0                                1437.813202   \n",
       "2                                1385.237637   \n",
       "4                                1183.831412   \n",
       "6                                 735.926786   \n",
       "8                                 540.430000   \n",
       "\n",
       "   traffic_volume_counted_after_1900_to_2000  \\\n",
       "0                                1153.407303   \n",
       "2                                1086.814560   \n",
       "4                                 967.244957   \n",
       "6                                 542.228571   \n",
       "8                                 404.648571   \n",
       "\n",
       "   traffic_volume_counted_after_2000_to_2100  \\\n",
       "0                                 927.382022   \n",
       "2                                 829.329670   \n",
       "4                                 807.351585   \n",
       "6                                 421.582143   \n",
       "8                                 303.202857   \n",
       "\n",
       "   traffic_volume_counted_after_2100_to_2200  \\\n",
       "0                                 767.547753   \n",
       "2                                 641.221154   \n",
       "4                                 678.206052   \n",
       "6                                 324.205357   \n",
       "8                                 234.314286   \n",
       "\n",
       "   traffic_volume_counted_after_2200_to_2300  \\\n",
       "0                                 614.952247   \n",
       "2                                 476.204670   \n",
       "4                                 564.700288   \n",
       "6                                 224.317857   \n",
       "8                                 173.077143   \n",
       "\n",
       "   traffic_volume_counted_after_2300_to_2400  latitude  longitude  \\\n",
       "0                                 475.507022   35.1363    78.7402   \n",
       "2                                 319.818681   35.4294    78.5319   \n",
       "4                                 439.239193   36.0998    77.8056   \n",
       "6                                 139.842857   34.4511    77.8773   \n",
       "8                                 124.744286   35.6024    79.8182   \n",
       "\n",
       "   national_highway_system  \n",
       "0                        Y  \n",
       "2                        Y  \n",
       "4                        Y  \n",
       "6                        Y  \n",
       "8                        Y  \n",
       "\n",
       "[5 rows x 28 columns]"
      ]
     },
     "execution_count": 39,
     "metadata": {},
     "output_type": "execute_result"
    }
   ],
   "source": [
    "df_mean_latlong.head()"
   ]
  },
  {
   "cell_type": "code",
   "execution_count": 40,
   "metadata": {},
   "outputs": [
    {
     "name": "stdout",
     "output_type": "stream",
     "text": [
      "<class 'pandas.core.frame.DataFrame'>\n",
      "Int64Index: 67 entries, 0 to 136\n",
      "Data columns (total 27 columns):\n",
      " #   Column                                     Non-Null Count  Dtype  \n",
      "---  ------                                     --------------  -----  \n",
      " 0   fips_state_code                            67 non-null     int64  \n",
      " 1   traffic_volume_counted_after_0000_to_0100  67 non-null     float64\n",
      " 2   traffic_volume_counted_after_0100_to_0200  67 non-null     float64\n",
      " 3   traffic_volume_counted_after_0200_to_0300  67 non-null     float64\n",
      " 4   traffic_volume_counted_after_0300_to_0400  67 non-null     float64\n",
      " 5   traffic_volume_counted_after_0400_to_0500  67 non-null     float64\n",
      " 6   traffic_volume_counted_after_0500_to_0600  67 non-null     float64\n",
      " 7   traffic_volume_counted_after_0600_to_0700  67 non-null     float64\n",
      " 8   traffic_volume_counted_after_0700_to_0800  67 non-null     float64\n",
      " 9   traffic_volume_counted_after_0800_to_0900  67 non-null     float64\n",
      " 10  traffic_volume_counted_after_0900_to_1000  67 non-null     float64\n",
      " 11  traffic_volume_counted_after_1000_to_1100  67 non-null     float64\n",
      " 12  traffic_volume_counted_after_1100_to_1200  67 non-null     float64\n",
      " 13  traffic_volume_counted_after_1200_to_1300  67 non-null     float64\n",
      " 14  traffic_volume_counted_after_1300_to_1400  67 non-null     float64\n",
      " 15  traffic_volume_counted_after_1400_to_1500  67 non-null     float64\n",
      " 16  traffic_volume_counted_after_1500_to_1600  67 non-null     float64\n",
      " 17  traffic_volume_counted_after_1600_to_1700  67 non-null     float64\n",
      " 18  traffic_volume_counted_after_1700_to_1800  67 non-null     float64\n",
      " 19  traffic_volume_counted_after_1800_to_1900  67 non-null     float64\n",
      " 20  traffic_volume_counted_after_1900_to_2000  67 non-null     float64\n",
      " 21  traffic_volume_counted_after_2000_to_2100  67 non-null     float64\n",
      " 22  traffic_volume_counted_after_2100_to_2200  67 non-null     float64\n",
      " 23  traffic_volume_counted_after_2200_to_2300  67 non-null     float64\n",
      " 24  traffic_volume_counted_after_2300_to_2400  67 non-null     float64\n",
      " 25  latitude                                   67 non-null     float64\n",
      " 26  longitude                                  67 non-null     float64\n",
      "dtypes: float64(26), int64(1)\n",
      "memory usage: 14.7 KB\n"
     ]
    }
   ],
   "source": [
    "df_norm = df_mean_latlong.drop(['national_highway_system'],axis=1, inplace=False)\n",
    "df_norm.info()"
   ]
  },
  {
   "cell_type": "code",
   "execution_count": 41,
   "metadata": {},
   "outputs": [],
   "source": [
    "from sklearn import preprocessing\n",
    "\n",
    "x = df_norm.values #returns a numpy array\n",
    "min_max_scaler = preprocessing.MinMaxScaler()\n",
    "x_scaled = min_max_scaler.fit_transform(x)\n",
    "df_after_norm = pd.DataFrame(x_scaled)"
   ]
  },
  {
   "cell_type": "code",
   "execution_count": 42,
   "metadata": {},
   "outputs": [
    {
     "data": {
      "text/html": [
       "<div>\n",
       "<style scoped>\n",
       "    .dataframe tbody tr th:only-of-type {\n",
       "        vertical-align: middle;\n",
       "    }\n",
       "\n",
       "    .dataframe tbody tr th {\n",
       "        vertical-align: top;\n",
       "    }\n",
       "\n",
       "    .dataframe thead th {\n",
       "        text-align: right;\n",
       "    }\n",
       "</style>\n",
       "<table border=\"1\" class=\"dataframe\">\n",
       "  <thead>\n",
       "    <tr style=\"text-align: right;\">\n",
       "      <th></th>\n",
       "      <th>0</th>\n",
       "      <th>1</th>\n",
       "      <th>2</th>\n",
       "      <th>3</th>\n",
       "      <th>4</th>\n",
       "      <th>5</th>\n",
       "      <th>6</th>\n",
       "      <th>7</th>\n",
       "      <th>8</th>\n",
       "      <th>9</th>\n",
       "      <th>...</th>\n",
       "      <th>17</th>\n",
       "      <th>18</th>\n",
       "      <th>19</th>\n",
       "      <th>20</th>\n",
       "      <th>21</th>\n",
       "      <th>22</th>\n",
       "      <th>23</th>\n",
       "      <th>24</th>\n",
       "      <th>25</th>\n",
       "      <th>26</th>\n",
       "    </tr>\n",
       "  </thead>\n",
       "  <tbody>\n",
       "    <tr>\n",
       "      <th>count</th>\n",
       "      <td>67.0</td>\n",
       "      <td>67.000000</td>\n",
       "      <td>67.000000</td>\n",
       "      <td>67.000000</td>\n",
       "      <td>67.000000</td>\n",
       "      <td>67.000000</td>\n",
       "      <td>67.000000</td>\n",
       "      <td>67.000000</td>\n",
       "      <td>67.000000</td>\n",
       "      <td>67.000000</td>\n",
       "      <td>...</td>\n",
       "      <td>67.000000</td>\n",
       "      <td>67.000000</td>\n",
       "      <td>67.000000</td>\n",
       "      <td>67.000000</td>\n",
       "      <td>67.000000</td>\n",
       "      <td>67.000000</td>\n",
       "      <td>67.000000</td>\n",
       "      <td>67.000000</td>\n",
       "      <td>67.000000</td>\n",
       "      <td>67.000000</td>\n",
       "    </tr>\n",
       "    <tr>\n",
       "      <th>mean</th>\n",
       "      <td>0.0</td>\n",
       "      <td>0.191914</td>\n",
       "      <td>0.190366</td>\n",
       "      <td>0.172521</td>\n",
       "      <td>0.204522</td>\n",
       "      <td>0.238656</td>\n",
       "      <td>0.228777</td>\n",
       "      <td>0.160402</td>\n",
       "      <td>0.157892</td>\n",
       "      <td>0.155668</td>\n",
       "      <td>...</td>\n",
       "      <td>0.176371</td>\n",
       "      <td>0.195632</td>\n",
       "      <td>0.177415</td>\n",
       "      <td>0.180357</td>\n",
       "      <td>0.180847</td>\n",
       "      <td>0.168728</td>\n",
       "      <td>0.172347</td>\n",
       "      <td>0.178873</td>\n",
       "      <td>0.614971</td>\n",
       "      <td>0.440037</td>\n",
       "    </tr>\n",
       "    <tr>\n",
       "      <th>std</th>\n",
       "      <td>0.0</td>\n",
       "      <td>0.237836</td>\n",
       "      <td>0.240603</td>\n",
       "      <td>0.223396</td>\n",
       "      <td>0.262218</td>\n",
       "      <td>0.276781</td>\n",
       "      <td>0.253266</td>\n",
       "      <td>0.196873</td>\n",
       "      <td>0.195278</td>\n",
       "      <td>0.191893</td>\n",
       "      <td>...</td>\n",
       "      <td>0.197618</td>\n",
       "      <td>0.212980</td>\n",
       "      <td>0.199912</td>\n",
       "      <td>0.202749</td>\n",
       "      <td>0.203095</td>\n",
       "      <td>0.199386</td>\n",
       "      <td>0.209642</td>\n",
       "      <td>0.220240</td>\n",
       "      <td>0.230958</td>\n",
       "      <td>0.219926</td>\n",
       "    </tr>\n",
       "    <tr>\n",
       "      <th>min</th>\n",
       "      <td>0.0</td>\n",
       "      <td>0.000000</td>\n",
       "      <td>0.000000</td>\n",
       "      <td>0.000000</td>\n",
       "      <td>0.000000</td>\n",
       "      <td>0.000000</td>\n",
       "      <td>0.000000</td>\n",
       "      <td>0.000000</td>\n",
       "      <td>0.000000</td>\n",
       "      <td>0.000000</td>\n",
       "      <td>...</td>\n",
       "      <td>0.000000</td>\n",
       "      <td>0.000000</td>\n",
       "      <td>0.000000</td>\n",
       "      <td>0.000000</td>\n",
       "      <td>0.000000</td>\n",
       "      <td>0.000000</td>\n",
       "      <td>0.000000</td>\n",
       "      <td>0.000000</td>\n",
       "      <td>0.000000</td>\n",
       "      <td>0.000000</td>\n",
       "    </tr>\n",
       "    <tr>\n",
       "      <th>25%</th>\n",
       "      <td>0.0</td>\n",
       "      <td>0.024376</td>\n",
       "      <td>0.019920</td>\n",
       "      <td>0.018934</td>\n",
       "      <td>0.022248</td>\n",
       "      <td>0.037849</td>\n",
       "      <td>0.033832</td>\n",
       "      <td>0.020282</td>\n",
       "      <td>0.024297</td>\n",
       "      <td>0.026229</td>\n",
       "      <td>...</td>\n",
       "      <td>0.031388</td>\n",
       "      <td>0.034514</td>\n",
       "      <td>0.031260</td>\n",
       "      <td>0.031344</td>\n",
       "      <td>0.031727</td>\n",
       "      <td>0.026689</td>\n",
       "      <td>0.026041</td>\n",
       "      <td>0.024254</td>\n",
       "      <td>0.491154</td>\n",
       "      <td>0.297566</td>\n",
       "    </tr>\n",
       "    <tr>\n",
       "      <th>50%</th>\n",
       "      <td>0.0</td>\n",
       "      <td>0.092296</td>\n",
       "      <td>0.080461</td>\n",
       "      <td>0.064950</td>\n",
       "      <td>0.088469</td>\n",
       "      <td>0.119658</td>\n",
       "      <td>0.113223</td>\n",
       "      <td>0.077855</td>\n",
       "      <td>0.093220</td>\n",
       "      <td>0.091279</td>\n",
       "      <td>...</td>\n",
       "      <td>0.113515</td>\n",
       "      <td>0.128130</td>\n",
       "      <td>0.113013</td>\n",
       "      <td>0.114216</td>\n",
       "      <td>0.114578</td>\n",
       "      <td>0.097180</td>\n",
       "      <td>0.091551</td>\n",
       "      <td>0.088926</td>\n",
       "      <td>0.673016</td>\n",
       "      <td>0.398849</td>\n",
       "    </tr>\n",
       "    <tr>\n",
       "      <th>75%</th>\n",
       "      <td>0.0</td>\n",
       "      <td>0.270496</td>\n",
       "      <td>0.278385</td>\n",
       "      <td>0.253740</td>\n",
       "      <td>0.295440</td>\n",
       "      <td>0.392867</td>\n",
       "      <td>0.369995</td>\n",
       "      <td>0.238675</td>\n",
       "      <td>0.213882</td>\n",
       "      <td>0.195504</td>\n",
       "      <td>...</td>\n",
       "      <td>0.232075</td>\n",
       "      <td>0.272765</td>\n",
       "      <td>0.243604</td>\n",
       "      <td>0.250853</td>\n",
       "      <td>0.251355</td>\n",
       "      <td>0.228135</td>\n",
       "      <td>0.231532</td>\n",
       "      <td>0.254835</td>\n",
       "      <td>0.771950</td>\n",
       "      <td>0.581226</td>\n",
       "    </tr>\n",
       "    <tr>\n",
       "      <th>max</th>\n",
       "      <td>0.0</td>\n",
       "      <td>1.000000</td>\n",
       "      <td>1.000000</td>\n",
       "      <td>1.000000</td>\n",
       "      <td>1.000000</td>\n",
       "      <td>1.000000</td>\n",
       "      <td>1.000000</td>\n",
       "      <td>1.000000</td>\n",
       "      <td>1.000000</td>\n",
       "      <td>1.000000</td>\n",
       "      <td>...</td>\n",
       "      <td>1.000000</td>\n",
       "      <td>1.000000</td>\n",
       "      <td>1.000000</td>\n",
       "      <td>1.000000</td>\n",
       "      <td>1.000000</td>\n",
       "      <td>1.000000</td>\n",
       "      <td>1.000000</td>\n",
       "      <td>1.000000</td>\n",
       "      <td>1.000000</td>\n",
       "      <td>1.000000</td>\n",
       "    </tr>\n",
       "  </tbody>\n",
       "</table>\n",
       "<p>8 rows × 27 columns</p>\n",
       "</div>"
      ],
      "text/plain": [
       "         0          1          2          3          4          5          6   \\\n",
       "count  67.0  67.000000  67.000000  67.000000  67.000000  67.000000  67.000000   \n",
       "mean    0.0   0.191914   0.190366   0.172521   0.204522   0.238656   0.228777   \n",
       "std     0.0   0.237836   0.240603   0.223396   0.262218   0.276781   0.253266   \n",
       "min     0.0   0.000000   0.000000   0.000000   0.000000   0.000000   0.000000   \n",
       "25%     0.0   0.024376   0.019920   0.018934   0.022248   0.037849   0.033832   \n",
       "50%     0.0   0.092296   0.080461   0.064950   0.088469   0.119658   0.113223   \n",
       "75%     0.0   0.270496   0.278385   0.253740   0.295440   0.392867   0.369995   \n",
       "max     0.0   1.000000   1.000000   1.000000   1.000000   1.000000   1.000000   \n",
       "\n",
       "              7          8          9   ...         17         18         19  \\\n",
       "count  67.000000  67.000000  67.000000  ...  67.000000  67.000000  67.000000   \n",
       "mean    0.160402   0.157892   0.155668  ...   0.176371   0.195632   0.177415   \n",
       "std     0.196873   0.195278   0.191893  ...   0.197618   0.212980   0.199912   \n",
       "min     0.000000   0.000000   0.000000  ...   0.000000   0.000000   0.000000   \n",
       "25%     0.020282   0.024297   0.026229  ...   0.031388   0.034514   0.031260   \n",
       "50%     0.077855   0.093220   0.091279  ...   0.113515   0.128130   0.113013   \n",
       "75%     0.238675   0.213882   0.195504  ...   0.232075   0.272765   0.243604   \n",
       "max     1.000000   1.000000   1.000000  ...   1.000000   1.000000   1.000000   \n",
       "\n",
       "              20         21         22         23         24         25  \\\n",
       "count  67.000000  67.000000  67.000000  67.000000  67.000000  67.000000   \n",
       "mean    0.180357   0.180847   0.168728   0.172347   0.178873   0.614971   \n",
       "std     0.202749   0.203095   0.199386   0.209642   0.220240   0.230958   \n",
       "min     0.000000   0.000000   0.000000   0.000000   0.000000   0.000000   \n",
       "25%     0.031344   0.031727   0.026689   0.026041   0.024254   0.491154   \n",
       "50%     0.114216   0.114578   0.097180   0.091551   0.088926   0.673016   \n",
       "75%     0.250853   0.251355   0.228135   0.231532   0.254835   0.771950   \n",
       "max     1.000000   1.000000   1.000000   1.000000   1.000000   1.000000   \n",
       "\n",
       "              26  \n",
       "count  67.000000  \n",
       "mean    0.440037  \n",
       "std     0.219926  \n",
       "min     0.000000  \n",
       "25%     0.297566  \n",
       "50%     0.398849  \n",
       "75%     0.581226  \n",
       "max     1.000000  \n",
       "\n",
       "[8 rows x 27 columns]"
      ]
     },
     "execution_count": 42,
     "metadata": {},
     "output_type": "execute_result"
    }
   ],
   "source": [
    "df_after_norm.describe()"
   ]
  },
  {
   "cell_type": "code",
   "execution_count": 43,
   "metadata": {},
   "outputs": [
    {
     "name": "stdout",
     "output_type": "stream",
     "text": [
      "<class 'pandas.core.frame.DataFrame'>\n",
      "RangeIndex: 67 entries, 0 to 66\n",
      "Data columns (total 27 columns):\n",
      " #   Column  Non-Null Count  Dtype  \n",
      "---  ------  --------------  -----  \n",
      " 0   0       67 non-null     float64\n",
      " 1   1       67 non-null     float64\n",
      " 2   2       67 non-null     float64\n",
      " 3   3       67 non-null     float64\n",
      " 4   4       67 non-null     float64\n",
      " 5   5       67 non-null     float64\n",
      " 6   6       67 non-null     float64\n",
      " 7   7       67 non-null     float64\n",
      " 8   8       67 non-null     float64\n",
      " 9   9       67 non-null     float64\n",
      " 10  10      67 non-null     float64\n",
      " 11  11      67 non-null     float64\n",
      " 12  12      67 non-null     float64\n",
      " 13  13      67 non-null     float64\n",
      " 14  14      67 non-null     float64\n",
      " 15  15      67 non-null     float64\n",
      " 16  16      67 non-null     float64\n",
      " 17  17      67 non-null     float64\n",
      " 18  18      67 non-null     float64\n",
      " 19  19      67 non-null     float64\n",
      " 20  20      67 non-null     float64\n",
      " 21  21      67 non-null     float64\n",
      " 22  22      67 non-null     float64\n",
      " 23  23      67 non-null     float64\n",
      " 24  24      67 non-null     float64\n",
      " 25  25      67 non-null     float64\n",
      " 26  26      67 non-null     float64\n",
      "dtypes: float64(27)\n",
      "memory usage: 14.3 KB\n"
     ]
    }
   ],
   "source": [
    "df_after_norm.info()"
   ]
  },
  {
   "cell_type": "code",
   "execution_count": 45,
   "metadata": {},
   "outputs": [
    {
     "name": "stdout",
     "output_type": "stream",
     "text": [
      "['R', 'R', 'R', 'R', 'R', 'R', 'U', 'U', 'U', 'U', 'U', 'U', 'U', 'U', 'U', 'U', 'U', 'U', 'U', 'U', 'R', 'R', 'R', 'R', 'R', 'R', 'R', 'R', 'R', 'R', 'R', 'R', 'R', 'R', 'U', 'U', 'U', 'R', 'R', 'R', 'U', 'U', 'U', 'U', 'U', 'U', 'U', 'U', 'R', 'R', 'R', 'R', 'R', 'U', 'U', 'U', 'R', 'R', 'R', 'R', 'R', 'R', 'R', 'U', 'U', 'U', 'U']\n"
     ]
    }
   ],
   "source": [
    "print(labels)"
   ]
  },
  {
   "cell_type": "code",
   "execution_count": 46,
   "metadata": {},
   "outputs": [
    {
     "data": {
      "text/plain": [
       "67"
      ]
     },
     "execution_count": 46,
     "metadata": {},
     "output_type": "execute_result"
    }
   ],
   "source": [
    "len(labels)"
   ]
  },
  {
   "cell_type": "markdown",
   "metadata": {},
   "source": [
    "<br>"
   ]
  },
  {
   "cell_type": "markdown",
   "metadata": {},
   "source": [
    "# KNN"
   ]
  },
  {
   "cell_type": "markdown",
   "metadata": {},
   "source": [
    "<BR>"
   ]
  },
  {
   "cell_type": "markdown",
   "metadata": {},
   "source": [
    "## Model 1 "
   ]
  },
  {
   "cell_type": "code",
   "execution_count": 116,
   "metadata": {},
   "outputs": [],
   "source": [
    "from sklearn.neighbors import KNeighborsClassifier\n",
    "from sklearn.model_selection import train_test_split\n",
    "X_train, X_test, y_train, y_test = train_test_split(df_after_norm, labels, test_size=0.2, random_state=42)\n",
    "neigh = KNeighborsClassifier(n_neighbors=10, metric='euclidean')"
   ]
  },
  {
   "cell_type": "code",
   "execution_count": 117,
   "metadata": {},
   "outputs": [
    {
     "name": "stdout",
     "output_type": "stream",
     "text": [
      "0.5714285714285714\n"
     ]
    }
   ],
   "source": [
    "neigh.fit(X_train, y_train)\n",
    "predicted_labels = neigh.predict(X_test)\n",
    "from sklearn.metrics import accuracy_score\n",
    "acc = accuracy_score(y_test, predicted_labels)\n",
    "print(acc)"
   ]
  },
  {
   "cell_type": "code",
   "execution_count": 118,
   "metadata": {},
   "outputs": [
    {
     "name": "stdout",
     "output_type": "stream",
     "text": [
      "1    0.5714285714285714\n",
      "2    0.5\n",
      "3    0.6428571428571429\n",
      "4    0.6428571428571429\n",
      "5    0.6428571428571429\n",
      "6    0.5714285714285714\n",
      "7    0.6428571428571429\n",
      "8    0.6428571428571429\n",
      "9    0.5\n"
     ]
    }
   ],
   "source": [
    "neighbors = []\n",
    "acc_list = []\n",
    "for i in range(1,10):\n",
    "    neigh2 = KNeighborsClassifier(n_neighbors=i, metric='euclidean')\n",
    "    neigh2.fit(X_train, y_train)\n",
    "    predicted_labels = neigh2.predict(X_test)\n",
    "    acc = accuracy_score(y_test, predicted_labels)\n",
    "    acc_list.append(acc)\n",
    "    neighbors.append(i)\n",
    "    print(i,\"  \",acc)"
   ]
  },
  {
   "cell_type": "code",
   "execution_count": 82,
   "metadata": {},
   "outputs": [],
   "source": [
    "import warnings\n",
    "warnings.filterwarnings('ignore')"
   ]
  },
  {
   "cell_type": "code",
   "execution_count": 119,
   "metadata": {
    "scrolled": true
   },
   "outputs": [
    {
     "name": "stdout",
     "output_type": "stream",
     "text": [
      "[0.5714285714285714, 0.5, 0.6428571428571429, 0.6428571428571429, 0.6428571428571429, 0.5714285714285714, 0.6428571428571429, 0.6428571428571429, 0.5]\n",
      "[1, 2, 3, 4, 5, 6, 7, 8, 9]\n"
     ]
    }
   ],
   "source": [
    "print(acc_list)\n",
    "print(neighbors)"
   ]
  },
  {
   "cell_type": "code",
   "execution_count": 84,
   "metadata": {},
   "outputs": [],
   "source": [
    "import matplotlib.pyplot as plt\n",
    "%matplotlib inline"
   ]
  },
  {
   "cell_type": "code",
   "execution_count": 120,
   "metadata": {
    "scrolled": true
   },
   "outputs": [
    {
     "data": {
      "text/plain": [
       "Text(0, 0.5, 'Accuracy')"
      ]
     },
     "execution_count": 120,
     "metadata": {},
     "output_type": "execute_result"
    },
    {
     "data": {
      "image/png": "[encoded data removed]",
      "text/plain": [
       "<Figure size 432x288 with 1 Axes>"
      ]
     },
     "metadata": {
      "needs_background": "light"
     },
     "output_type": "display_data"
    }
   ],
   "source": [
    "plt.plot(neighbors, acc_list, 'go--')\n",
    "plt.xlabel('Number of neighbors')\n",
    "plt.ylabel('Accuracy')"
   ]
  },
  {
   "cell_type": "markdown",
   "metadata": {},
   "source": [
    "<br>"
   ]
  },
  {
   "cell_type": "markdown",
   "metadata": {},
   "source": [
    "## Model 2 (including validation set)"
   ]
  },
  {
   "cell_type": "code",
   "execution_count": 121,
   "metadata": {},
   "outputs": [],
   "source": [
    "X_train2, X_test2, y_train2, y_test2 = train_test_split(df_after_norm, labels, test_size=0.15, random_state=42)\n",
    "neigh3 = KNeighborsClassifier(n_neighbors=5, metric='euclidean')"
   ]
  },
  {
   "cell_type": "code",
   "execution_count": 122,
   "metadata": {},
   "outputs": [
    {
     "data": {
      "text/html": [
       "<div>\n",
       "<style scoped>\n",
       "    .dataframe tbody tr th:only-of-type {\n",
       "        vertical-align: middle;\n",
       "    }\n",
       "\n",
       "    .dataframe tbody tr th {\n",
       "        vertical-align: top;\n",
       "    }\n",
       "\n",
       "    .dataframe thead th {\n",
       "        text-align: right;\n",
       "    }\n",
       "</style>\n",
       "<table border=\"1\" class=\"dataframe\">\n",
       "  <thead>\n",
       "    <tr style=\"text-align: right;\">\n",
       "      <th></th>\n",
       "      <th>0</th>\n",
       "      <th>1</th>\n",
       "      <th>2</th>\n",
       "      <th>3</th>\n",
       "      <th>4</th>\n",
       "      <th>5</th>\n",
       "      <th>6</th>\n",
       "      <th>7</th>\n",
       "      <th>8</th>\n",
       "      <th>9</th>\n",
       "      <th>...</th>\n",
       "      <th>17</th>\n",
       "      <th>18</th>\n",
       "      <th>19</th>\n",
       "      <th>20</th>\n",
       "      <th>21</th>\n",
       "      <th>22</th>\n",
       "      <th>23</th>\n",
       "      <th>24</th>\n",
       "      <th>25</th>\n",
       "      <th>26</th>\n",
       "    </tr>\n",
       "  </thead>\n",
       "  <tbody>\n",
       "    <tr>\n",
       "      <th>59</th>\n",
       "      <td>0.0</td>\n",
       "      <td>0.007926</td>\n",
       "      <td>0.007393</td>\n",
       "      <td>0.005538</td>\n",
       "      <td>0.006864</td>\n",
       "      <td>0.013204</td>\n",
       "      <td>0.014204</td>\n",
       "      <td>0.014085</td>\n",
       "      <td>0.019943</td>\n",
       "      <td>0.028422</td>\n",
       "      <td>...</td>\n",
       "      <td>0.025559</td>\n",
       "      <td>0.027134</td>\n",
       "      <td>0.022004</td>\n",
       "      <td>0.020888</td>\n",
       "      <td>0.021897</td>\n",
       "      <td>0.018398</td>\n",
       "      <td>0.013601</td>\n",
       "      <td>0.009752</td>\n",
       "      <td>0.000000</td>\n",
       "      <td>0.375882</td>\n",
       "    </tr>\n",
       "    <tr>\n",
       "      <th>60</th>\n",
       "      <td>0.0</td>\n",
       "      <td>0.004698</td>\n",
       "      <td>0.002350</td>\n",
       "      <td>0.002659</td>\n",
       "      <td>0.002623</td>\n",
       "      <td>0.003416</td>\n",
       "      <td>0.002894</td>\n",
       "      <td>0.002944</td>\n",
       "      <td>0.002502</td>\n",
       "      <td>0.001763</td>\n",
       "      <td>...</td>\n",
       "      <td>0.002003</td>\n",
       "      <td>0.003191</td>\n",
       "      <td>0.002234</td>\n",
       "      <td>0.002462</td>\n",
       "      <td>0.003075</td>\n",
       "      <td>0.002119</td>\n",
       "      <td>0.002111</td>\n",
       "      <td>0.004582</td>\n",
       "      <td>0.764151</td>\n",
       "      <td>0.279457</td>\n",
       "    </tr>\n",
       "    <tr>\n",
       "      <th>34</th>\n",
       "      <td>0.0</td>\n",
       "      <td>0.132795</td>\n",
       "      <td>0.120128</td>\n",
       "      <td>0.102679</td>\n",
       "      <td>0.159063</td>\n",
       "      <td>0.248167</td>\n",
       "      <td>0.228713</td>\n",
       "      <td>0.152847</td>\n",
       "      <td>0.162963</td>\n",
       "      <td>0.194533</td>\n",
       "      <td>...</td>\n",
       "      <td>0.177136</td>\n",
       "      <td>0.183709</td>\n",
       "      <td>0.145421</td>\n",
       "      <td>0.148309</td>\n",
       "      <td>0.145096</td>\n",
       "      <td>0.135629</td>\n",
       "      <td>0.130763</td>\n",
       "      <td>0.126666</td>\n",
       "      <td>0.836469</td>\n",
       "      <td>0.024453</td>\n",
       "    </tr>\n",
       "    <tr>\n",
       "      <th>47</th>\n",
       "      <td>0.0</td>\n",
       "      <td>0.028771</td>\n",
       "      <td>0.025260</td>\n",
       "      <td>0.022264</td>\n",
       "      <td>0.027603</td>\n",
       "      <td>0.040185</td>\n",
       "      <td>0.032858</td>\n",
       "      <td>0.020317</td>\n",
       "      <td>0.022022</td>\n",
       "      <td>0.021306</td>\n",
       "      <td>...</td>\n",
       "      <td>0.026686</td>\n",
       "      <td>0.028145</td>\n",
       "      <td>0.024704</td>\n",
       "      <td>0.026179</td>\n",
       "      <td>0.028231</td>\n",
       "      <td>0.024836</td>\n",
       "      <td>0.029332</td>\n",
       "      <td>0.031831</td>\n",
       "      <td>0.534704</td>\n",
       "      <td>0.310916</td>\n",
       "    </tr>\n",
       "    <tr>\n",
       "      <th>7</th>\n",
       "      <td>0.0</td>\n",
       "      <td>0.549009</td>\n",
       "      <td>0.630983</td>\n",
       "      <td>0.580341</td>\n",
       "      <td>0.716335</td>\n",
       "      <td>0.735126</td>\n",
       "      <td>0.529697</td>\n",
       "      <td>0.322579</td>\n",
       "      <td>0.326808</td>\n",
       "      <td>0.339990</td>\n",
       "      <td>...</td>\n",
       "      <td>0.447467</td>\n",
       "      <td>0.497243</td>\n",
       "      <td>0.445138</td>\n",
       "      <td>0.464427</td>\n",
       "      <td>0.468388</td>\n",
       "      <td>0.438805</td>\n",
       "      <td>0.448734</td>\n",
       "      <td>0.468817</td>\n",
       "      <td>0.626305</td>\n",
       "      <td>0.897256</td>\n",
       "    </tr>\n",
       "  </tbody>\n",
       "</table>\n",
       "<p>5 rows × 27 columns</p>\n",
       "</div>"
      ],
      "text/plain": [
       "     0         1         2         3         4         5         6         7   \\\n",
       "59  0.0  0.007926  0.007393  0.005538  0.006864  0.013204  0.014204  0.014085   \n",
       "60  0.0  0.004698  0.002350  0.002659  0.002623  0.003416  0.002894  0.002944   \n",
       "34  0.0  0.132795  0.120128  0.102679  0.159063  0.248167  0.228713  0.152847   \n",
       "47  0.0  0.028771  0.025260  0.022264  0.027603  0.040185  0.032858  0.020317   \n",
       "7   0.0  0.549009  0.630983  0.580341  0.716335  0.735126  0.529697  0.322579   \n",
       "\n",
       "          8         9   ...        17        18        19        20        21  \\\n",
       "59  0.019943  0.028422  ...  0.025559  0.027134  0.022004  0.020888  0.021897   \n",
       "60  0.002502  0.001763  ...  0.002003  0.003191  0.002234  0.002462  0.003075   \n",
       "34  0.162963  0.194533  ...  0.177136  0.183709  0.145421  0.148309  0.145096   \n",
       "47  0.022022  0.021306  ...  0.026686  0.028145  0.024704  0.026179  0.028231   \n",
       "7   0.326808  0.339990  ...  0.447467  0.497243  0.445138  0.464427  0.468388   \n",
       "\n",
       "          22        23        24        25        26  \n",
       "59  0.018398  0.013601  0.009752  0.000000  0.375882  \n",
       "60  0.002119  0.002111  0.004582  0.764151  0.279457  \n",
       "34  0.135629  0.130763  0.126666  0.836469  0.024453  \n",
       "47  0.024836  0.029332  0.031831  0.534704  0.310916  \n",
       "7   0.438805  0.448734  0.468817  0.626305  0.897256  \n",
       "\n",
       "[5 rows x 27 columns]"
      ]
     },
     "execution_count": 122,
     "metadata": {},
     "output_type": "execute_result"
    }
   ],
   "source": [
    "X_train2.sample(5)"
   ]
  },
  {
   "cell_type": "code",
   "execution_count": 123,
   "metadata": {},
   "outputs": [
    {
     "data": {
      "text/plain": [
       "56"
      ]
     },
     "execution_count": 123,
     "metadata": {},
     "output_type": "execute_result"
    }
   ],
   "source": [
    "len(X_train2)"
   ]
  },
  {
   "cell_type": "code",
   "execution_count": 124,
   "metadata": {},
   "outputs": [
    {
     "data": {
      "text/plain": [
       "56"
      ]
     },
     "execution_count": 124,
     "metadata": {},
     "output_type": "execute_result"
    }
   ],
   "source": [
    "len(y_train2)"
   ]
  },
  {
   "cell_type": "code",
   "execution_count": 125,
   "metadata": {},
   "outputs": [
    {
     "data": {
      "text/plain": [
       "11"
      ]
     },
     "execution_count": 125,
     "metadata": {},
     "output_type": "execute_result"
    }
   ],
   "source": [
    "len(X_test2)"
   ]
  },
  {
   "cell_type": "code",
   "execution_count": 126,
   "metadata": {},
   "outputs": [],
   "source": [
    "X_train2_val_split, X_val, y_train2_val_split, y_val = train_test_split(X_train2, y_train2, test_size=0.15/0.85, random_state=42)\n",
    "neigh4 = KNeighborsClassifier(n_neighbors=10, metric='euclidean')"
   ]
  },
  {
   "cell_type": "code",
   "execution_count": 127,
   "metadata": {},
   "outputs": [
    {
     "data": {
      "text/plain": [
       "10"
      ]
     },
     "execution_count": 127,
     "metadata": {},
     "output_type": "execute_result"
    }
   ],
   "source": [
    "len(X_val)"
   ]
  },
  {
   "cell_type": "code",
   "execution_count": 128,
   "metadata": {},
   "outputs": [
    {
     "name": "stdout",
     "output_type": "stream",
     "text": [
      "0.8\n"
     ]
    }
   ],
   "source": [
    "neigh4.fit(X_train2_val_split, y_train2_val_split)\n",
    "predict_val = neigh4.predict(X_val)\n",
    "acc_val = accuracy_score(y_val, predict_val)\n",
    "print(acc_val)"
   ]
  },
  {
   "cell_type": "code",
   "execution_count": 129,
   "metadata": {},
   "outputs": [
    {
     "name": "stdout",
     "output_type": "stream",
     "text": [
      "0.5454545454545454\n"
     ]
    }
   ],
   "source": [
    "predict_test = neigh4.predict(X_test2)\n",
    "acc_test = accuracy_score(y_test2, predict_test)\n",
    "print(acc_test)"
   ]
  },
  {
   "cell_type": "markdown",
   "metadata": {},
   "source": [
    "<br>"
   ]
  },
  {
   "cell_type": "markdown",
   "metadata": {},
   "source": [
    "## Model 3 (Cross-Validation)"
   ]
  },
  {
   "cell_type": "code",
   "execution_count": 131,
   "metadata": {},
   "outputs": [],
   "source": [
    "from sklearn.model_selection import LeaveOneOut, cross_val_score"
   ]
  },
  {
   "cell_type": "code",
   "execution_count": 132,
   "metadata": {},
   "outputs": [],
   "source": [
    "# X_train3, X_test3, y_train3, y_test3 = train_test_split(df_after_norm, labels, test_size=0.2, random_state=42)\n",
    "neigh5 = KNeighborsClassifier(n_neighbors=10, metric='euclidean')"
   ]
  },
  {
   "cell_type": "code",
   "execution_count": 133,
   "metadata": {},
   "outputs": [
    {
     "data": {
      "text/plain": [
       "(67, 27)"
      ]
     },
     "execution_count": 133,
     "metadata": {},
     "output_type": "execute_result"
    }
   ],
   "source": [
    "df_after_norm.shape"
   ]
  },
  {
   "cell_type": "code",
   "execution_count": 134,
   "metadata": {},
   "outputs": [
    {
     "data": {
      "text/plain": [
       "67"
      ]
     },
     "execution_count": 134,
     "metadata": {},
     "output_type": "execute_result"
    }
   ],
   "source": [
    "df_after_norm.shape[0]"
   ]
  },
  {
   "cell_type": "code",
   "execution_count": 135,
   "metadata": {},
   "outputs": [
    {
     "data": {
      "text/plain": [
       "67"
      ]
     },
     "execution_count": 135,
     "metadata": {},
     "output_type": "execute_result"
    }
   ],
   "source": [
    "len(df_after_norm)"
   ]
  },
  {
   "cell_type": "code",
   "execution_count": 137,
   "metadata": {},
   "outputs": [
    {
     "data": {
      "text/plain": [
       "67"
      ]
     },
     "execution_count": 137,
     "metadata": {},
     "output_type": "execute_result"
    }
   ],
   "source": [
    "len(labels)"
   ]
  },
  {
   "cell_type": "code",
   "execution_count": 144,
   "metadata": {},
   "outputs": [
    {
     "name": "stdout",
     "output_type": "stream",
     "text": [
      "[0.64285714 0.78571429 0.53846154 0.53846154 0.53846154]\n"
     ]
    }
   ],
   "source": [
    "acc_cv = []\n",
    "\n",
    "acc_cv = cross_val_score(neigh5, df_after_norm, labels, scoring='accuracy', cv=5)\n",
    "\n",
    "print(acc_cv)"
   ]
  },
  {
   "cell_type": "code",
   "execution_count": 146,
   "metadata": {},
   "outputs": [
    {
     "name": "stdout",
     "output_type": "stream",
     "text": [
      "0.6087912087912087\n"
     ]
    }
   ],
   "source": [
    "print(acc_cv.mean())"
   ]
  },
  {
   "cell_type": "code",
   "execution_count": 150,
   "metadata": {},
   "outputs": [
    {
     "data": {
      "text/plain": [
       "[1, 2, 3, 4, 5]"
      ]
     },
     "execution_count": 150,
     "metadata": {},
     "output_type": "execute_result"
    }
   ],
   "source": [
    "list(range(1,6))"
   ]
  },
  {
   "cell_type": "code",
   "execution_count": 179,
   "metadata": {},
   "outputs": [
    {
     "data": {
      "image/png": "[encoded data removed]",
      "text/plain": [
       "<Figure size 432x288 with 1 Axes>"
      ]
     },
     "metadata": {
      "needs_background": "light"
     },
     "output_type": "display_data"
    }
   ],
   "source": [
    "plt.plot(list(range(1,6)), acc_cv, 'bo--')\n",
    "plt.ylabel('Accuracy')\n",
    "plt.xlabel('Number of folds')\n",
    "plt.show()"
   ]
  },
  {
   "cell_type": "markdown",
   "metadata": {},
   "source": [
    "<br>"
   ]
  },
  {
   "cell_type": "markdown",
   "metadata": {},
   "source": [
    "# SVM"
   ]
  },
  {
   "cell_type": "markdown",
   "metadata": {},
   "source": [
    "<br>"
   ]
  },
  {
   "cell_type": "markdown",
   "metadata": {},
   "source": [
    "# Model 1"
   ]
  },
  {
   "cell_type": "code",
   "execution_count": 157,
   "metadata": {},
   "outputs": [],
   "source": [
    "from sklearn import svm\n",
    "X_train, X_test, y_train, y_test = train_test_split(df_after_norm, labels, test_size=0.2, random_state=42)"
   ]
  },
  {
   "cell_type": "code",
   "execution_count": 158,
   "metadata": {},
   "outputs": [
    {
     "data": {
      "text/plain": [
       "SVC(C=1.0, cache_size=200, class_weight=None, coef0=0.0,\n",
       "  decision_function_shape='ovr', degree=3, gamma='auto_deprecated',\n",
       "  kernel='rbf', max_iter=-1, probability=False, random_state=None,\n",
       "  shrinking=True, tol=0.001, verbose=False)"
      ]
     },
     "execution_count": 158,
     "metadata": {},
     "output_type": "execute_result"
    }
   ],
   "source": [
    "model1 = svm.SVC()\n",
    "model1.fit(X_train, y_train)"
   ]
  },
  {
   "cell_type": "code",
   "execution_count": 159,
   "metadata": {},
   "outputs": [
    {
     "data": {
      "text/plain": [
       "0.5714285714285714"
      ]
     },
     "execution_count": 159,
     "metadata": {},
     "output_type": "execute_result"
    }
   ],
   "source": [
    "pred_SVM = model1.predict(X_test)\n",
    "acc_SVM = accuracy_score(y_test, pred_SVM)\n",
    "acc_SVM"
   ]
  },
  {
   "cell_type": "markdown",
   "metadata": {},
   "source": [
    "<br>"
   ]
  },
  {
   "cell_type": "markdown",
   "metadata": {},
   "source": [
    "## Model 2 (including Validation set)"
   ]
  },
  {
   "cell_type": "code",
   "execution_count": 164,
   "metadata": {},
   "outputs": [],
   "source": [
    "X_train2, X_test2, y_train2, y_test2 = train_test_split(df_after_norm, labels, test_size=0.15, random_state=42)"
   ]
  },
  {
   "cell_type": "code",
   "execution_count": 165,
   "metadata": {},
   "outputs": [
    {
     "data": {
      "text/plain": [
       "56"
      ]
     },
     "execution_count": 165,
     "metadata": {},
     "output_type": "execute_result"
    }
   ],
   "source": [
    "len(X_train2)"
   ]
  },
  {
   "cell_type": "code",
   "execution_count": 167,
   "metadata": {},
   "outputs": [
    {
     "data": {
      "text/plain": [
       "11"
      ]
     },
     "execution_count": 167,
     "metadata": {},
     "output_type": "execute_result"
    }
   ],
   "source": [
    "len(X_test2)"
   ]
  },
  {
   "cell_type": "code",
   "execution_count": 161,
   "metadata": {},
   "outputs": [],
   "source": [
    "X_train2_val_split, X_val, y_train2_val_split, y_val = train_test_split(X_train2, y_train2, test_size=0.15/0.85, random_state=42)"
   ]
  },
  {
   "cell_type": "code",
   "execution_count": 162,
   "metadata": {},
   "outputs": [
    {
     "data": {
      "text/plain": [
       "10"
      ]
     },
     "execution_count": 162,
     "metadata": {},
     "output_type": "execute_result"
    }
   ],
   "source": [
    "len(X_val)"
   ]
  },
  {
   "cell_type": "code",
   "execution_count": 168,
   "metadata": {},
   "outputs": [
    {
     "data": {
      "text/plain": [
       "46"
      ]
     },
     "execution_count": 168,
     "metadata": {},
     "output_type": "execute_result"
    }
   ],
   "source": [
    "len(X_train2_val_split)"
   ]
  },
  {
   "cell_type": "code",
   "execution_count": 169,
   "metadata": {},
   "outputs": [
    {
     "data": {
      "text/plain": [
       "SVC(C=1.0, cache_size=200, class_weight=None, coef0=0.0,\n",
       "  decision_function_shape='ovr', degree=3, gamma='auto_deprecated',\n",
       "  kernel='rbf', max_iter=-1, probability=False, random_state=None,\n",
       "  shrinking=True, tol=0.001, verbose=False)"
      ]
     },
     "execution_count": 169,
     "metadata": {},
     "output_type": "execute_result"
    }
   ],
   "source": [
    "model2 = svm.SVC()\n",
    "model2.fit(X_train2_val_split, y_train2_val_split)"
   ]
  },
  {
   "cell_type": "code",
   "execution_count": 170,
   "metadata": {},
   "outputs": [
    {
     "data": {
      "text/plain": [
       "0.8"
      ]
     },
     "execution_count": 170,
     "metadata": {},
     "output_type": "execute_result"
    }
   ],
   "source": [
    "pred_SVM_val = model2.predict(X_val)\n",
    "acc_SVM_val = accuracy_score(y_val, pred_SVM_val)\n",
    "acc_SVM_val"
   ]
  },
  {
   "cell_type": "code",
   "execution_count": 172,
   "metadata": {},
   "outputs": [
    {
     "data": {
      "text/plain": [
       "0.5454545454545454"
      ]
     },
     "execution_count": 172,
     "metadata": {},
     "output_type": "execute_result"
    }
   ],
   "source": [
    "pred_SVM_test = model2.predict(X_test2)\n",
    "acc_SVM_test = accuracy_score(y_test2, pred_SVM_test)\n",
    "acc_SVM_test"
   ]
  },
  {
   "cell_type": "markdown",
   "metadata": {},
   "source": [
    "<br>"
   ]
  },
  {
   "cell_type": "markdown",
   "metadata": {},
   "source": [
    "## Model 3 (Cross-Validation)"
   ]
  },
  {
   "cell_type": "code",
   "execution_count": 173,
   "metadata": {},
   "outputs": [],
   "source": [
    "model3 = svm.SVC()"
   ]
  },
  {
   "cell_type": "code",
   "execution_count": 174,
   "metadata": {},
   "outputs": [
    {
     "data": {
      "text/plain": [
       "array([0.71428571, 0.78571429, 0.53846154, 0.53846154, 0.53846154])"
      ]
     },
     "execution_count": 174,
     "metadata": {},
     "output_type": "execute_result"
    }
   ],
   "source": [
    "acc_cv_SVM = []\n",
    "\n",
    "acc_cv_SVM = cross_val_score(model3, df_after_norm, labels, scoring='accuracy', cv=5)\n",
    "\n",
    "acc_cv_SVM"
   ]
  },
  {
   "cell_type": "code",
   "execution_count": 178,
   "metadata": {},
   "outputs": [
    {
     "data": {
      "image/png": "[encoded data removed]",
      "text/plain": [
       "<Figure size 432x288 with 1 Axes>"
      ]
     },
     "metadata": {
      "needs_background": "light"
     },
     "output_type": "display_data"
    }
   ],
   "source": [
    "plt.plot(list(range(1,6)), acc_cv_SVM, 'bo--')\n",
    "plt.xlabel('Number of folds')\n",
    "plt.ylabel('Accuracy')\n",
    "plt.show()"
   ]
  }
 ],
 "metadata": {
  "kernelspec": {
   "display_name": "Python 3",
   "language": "python",
   "name": "python3"
  },
  "language_info": {
   "codemirror_mode": {
    "name": "ipython",
    "version": 3
   },
   "file_extension": ".py",
   "mimetype": "text/x-python",
   "name": "python",
   "nbconvert_exporter": "python",
   "pygments_lexer": "ipython3",
   "version": "3.7.3"
  }
 },
 "nbformat": 4,
 "nbformat_minor": 2
}
