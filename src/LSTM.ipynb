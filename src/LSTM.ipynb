{
  "nbformat": 4,
  "nbformat_minor": 0,
  "metadata": {
    "colab": {
      "provenance": []
    },
    "kernelspec": {
      "name": "python3",
      "display_name": "Python 3"
    },
    "language_info": {
      "name": "python"
    }
  },
  "cells": [
    {
      "cell_type": "code",
      "metadata": {
        "id": "btVoym4mKTGM"
      },
      "source": [
        "import pandas as pd"
      ],
      "execution_count": null,
      "outputs": []
    },
    {
      "cell_type": "code",
      "metadata": {
        "id": "i3zaPIrrLIMw"
      },
      "source": [
        "df = pd.read_csv('lstm_dataset.csv')"
      ],
      "execution_count": null,
      "outputs": []
    },
    {
      "cell_type": "code",
      "metadata": {
        "id": "W9mYdTViL8o7"
      },
      "source": [
        "from keras.models import Sequential\n",
        "from keras.layers import Dense, LSTM\n",
        "from pandas import DataFrame, concat\n",
        "from sklearn.preprocessing import MinMaxScaler"
      ],
      "execution_count": null,
      "outputs": []
    },
    {
      "cell_type": "code",
      "metadata": {
        "id": "RnEpbH3vMEzg"
      },
      "source": [
        "from sklearn import preprocessing\n",
        "# df.drop(columns=['date','latitude','longitude','direction_of_travel'], inplace=True)\n",
        "x = df.values #returns a numpy array\n",
        "min_max_scaler = preprocessing.MinMaxScaler()\n",
        "x_scaled = min_max_scaler.fit_transform(x)\n",
        "data_after_norm = pd.DataFrame(x_scaled)"
      ],
      "execution_count": null,
      "outputs": []
    },
    {
      "cell_type": "code",
      "metadata": {
        "colab": {
          "base_uri": "https://localhost:8080/",
          "height": 224
        },
        "id": "5GnlQCxBMJcI",
        "outputId": "26eae138-5958-4d18-f540-4e51d5107679"
      },
      "source": [
        "print(data_after_norm.shape)\n",
        "data_after_norm.head()"
      ],
      "execution_count": null,
      "outputs": [
        {
          "output_type": "stream",
          "name": "stdout",
          "text": [
            "(1051704, 9)\n"
          ]
        },
        {
          "output_type": "execute_result",
          "data": {
            "text/html": [
              "<div>\n",
              "<style scoped>\n",
              "    .dataframe tbody tr th:only-of-type {\n",
              "        vertical-align: middle;\n",
              "    }\n",
              "\n",
              "    .dataframe tbody tr th {\n",
              "        vertical-align: top;\n",
              "    }\n",
              "\n",
              "    .dataframe thead th {\n",
              "        text-align: right;\n",
              "    }\n",
              "</style>\n",
              "<table border=\"1\" class=\"dataframe\">\n",
              "  <thead>\n",
              "    <tr style=\"text-align: right;\">\n",
              "      <th></th>\n",
              "      <th>0</th>\n",
              "      <th>1</th>\n",
              "      <th>2</th>\n",
              "      <th>3</th>\n",
              "      <th>4</th>\n",
              "      <th>5</th>\n",
              "      <th>6</th>\n",
              "      <th>7</th>\n",
              "      <th>8</th>\n",
              "    </tr>\n",
              "  </thead>\n",
              "  <tbody>\n",
              "    <tr>\n",
              "      <th>0</th>\n",
              "      <td>0.000000e+00</td>\n",
              "      <td>0.000000</td>\n",
              "      <td>0.0</td>\n",
              "      <td>0.033333</td>\n",
              "      <td>0.833333</td>\n",
              "      <td>0.000786</td>\n",
              "      <td>0.779748</td>\n",
              "      <td>0.806502</td>\n",
              "      <td>0.666667</td>\n",
              "    </tr>\n",
              "    <tr>\n",
              "      <th>1</th>\n",
              "      <td>9.508388e-07</td>\n",
              "      <td>0.043478</td>\n",
              "      <td>0.0</td>\n",
              "      <td>0.033333</td>\n",
              "      <td>0.833333</td>\n",
              "      <td>0.000393</td>\n",
              "      <td>0.779748</td>\n",
              "      <td>0.806502</td>\n",
              "      <td>0.666667</td>\n",
              "    </tr>\n",
              "    <tr>\n",
              "      <th>2</th>\n",
              "      <td>1.901678e-06</td>\n",
              "      <td>0.086957</td>\n",
              "      <td>0.0</td>\n",
              "      <td>0.033333</td>\n",
              "      <td>0.833333</td>\n",
              "      <td>0.000786</td>\n",
              "      <td>0.779748</td>\n",
              "      <td>0.806502</td>\n",
              "      <td>0.666667</td>\n",
              "    </tr>\n",
              "    <tr>\n",
              "      <th>3</th>\n",
              "      <td>2.852516e-06</td>\n",
              "      <td>0.130435</td>\n",
              "      <td>0.0</td>\n",
              "      <td>0.033333</td>\n",
              "      <td>0.833333</td>\n",
              "      <td>0.001048</td>\n",
              "      <td>0.779748</td>\n",
              "      <td>0.806502</td>\n",
              "      <td>0.666667</td>\n",
              "    </tr>\n",
              "    <tr>\n",
              "      <th>4</th>\n",
              "      <td>3.803355e-06</td>\n",
              "      <td>0.173913</td>\n",
              "      <td>0.0</td>\n",
              "      <td>0.033333</td>\n",
              "      <td>0.833333</td>\n",
              "      <td>0.002490</td>\n",
              "      <td>0.779748</td>\n",
              "      <td>0.806502</td>\n",
              "      <td>0.666667</td>\n",
              "    </tr>\n",
              "  </tbody>\n",
              "</table>\n",
              "</div>"
            ],
            "text/plain": [
              "              0         1    2  ...         6         7         8\n",
              "0  0.000000e+00  0.000000  0.0  ...  0.779748  0.806502  0.666667\n",
              "1  9.508388e-07  0.043478  0.0  ...  0.779748  0.806502  0.666667\n",
              "2  1.901678e-06  0.086957  0.0  ...  0.779748  0.806502  0.666667\n",
              "3  2.852516e-06  0.130435  0.0  ...  0.779748  0.806502  0.666667\n",
              "4  3.803355e-06  0.173913  0.0  ...  0.779748  0.806502  0.666667\n",
              "\n",
              "[5 rows x 9 columns]"
            ]
          },
          "metadata": {},
          "execution_count": 5
        }
      ]
    },
    {
      "cell_type": "code",
      "metadata": {
        "id": "vnkbqJlCVL6P"
      },
      "source": [
        "# sampled_data = data_after_norm.sample(frac=0.7, random_state=1)\n",
        "# print(sampled_data.shape)"
      ],
      "execution_count": null,
      "outputs": []
    },
    {
      "cell_type": "code",
      "metadata": {
        "id": "yFvRPjCmMLpI"
      },
      "source": [
        "def to_supervised(data, n_in=1, n_out=1):\n",
        "\tn_vars = 1 if type(data) is list else data.shape[1]\n",
        "\tdf = pd.DataFrame(data)\n",
        "\tcols, names = list(), list()\n",
        "\t# input sequence (t-n, ... t-1)\n",
        "\tfor i in range(n_in, 0, -1):\n",
        "\t\tcols.append(df.shift(i))\n",
        "\t\tnames += [('var%d(t-%d)' % (j+1, i)) for j in range(n_vars)]\n",
        "\t# forecast sequence (t, t+1, ... t+n)\n",
        "\tfor i in range(0, n_out):\n",
        "\t\tcols.append(df.shift(-i))\n",
        "\t\tif i == 0:\n",
        "\t\t\tnames += [('var%d(t)' % (j+1)) for j in range(n_vars)]\n",
        "\t\telse:\n",
        "\t\t\tnames += [('var%d(t+%d)' % (j+1, i)) for j in range(n_vars)]\n",
        "\t# put it all together\n",
        "\tagg = pd.concat(cols, axis=1)\n",
        "\tagg.columns = names\n",
        "  # drop rows with NaN values\n",
        "\tagg.dropna(inplace=True)\n",
        "\treturn agg"
      ],
      "execution_count": null,
      "outputs": []
    },
    {
      "cell_type": "code",
      "metadata": {
        "colab": {
          "base_uri": "https://localhost:8080/",
          "height": 414
        },
        "id": "tQQvAQXeMOui",
        "outputId": "ac23b94a-ce7a-4fa1-f3ed-41720ca1851a"
      },
      "source": [
        "values = data_after_norm.values\n",
        "# values = sampled_data.values\n",
        "changed = to_supervised(values,4,1)\n",
        "print(changed.columns)\n",
        "print(changed.shape)\n",
        "# changed.drop(['var1(t-4)','var2(t-4)','var3(t-4)','var4(t-4)','var6(t-4)','var7(t-4)','var8(t-4)','var1(t-3)','var2(t-3)','var3(t-3)','var4(t-3)','var6(t-3)','var7(t-3)','var8(t-3)','var1(t-2)','var2(t-2)','var3(t-2)','var4(t-2)','var6(t-2)','var7(t-2)','var8(t-2)'])\n",
        "changed.drop(changed.columns[[0,1,2,3,5,6,7,8,9,10,11,13,14,15,16,17,18,19,21,22,23,24,25,26,27,29,30,31]], axis=1,inplace=True)\n",
        "print(changed.shape)\n",
        "changed.head()"
      ],
      "execution_count": null,
      "outputs": [
        {
          "output_type": "stream",
          "name": "stdout",
          "text": [
            "Index(['var1(t-4)', 'var2(t-4)', 'var3(t-4)', 'var4(t-4)', 'var5(t-4)',\n",
            "       'var6(t-4)', 'var7(t-4)', 'var8(t-4)', 'var9(t-4)', 'var1(t-3)',\n",
            "       'var2(t-3)', 'var3(t-3)', 'var4(t-3)', 'var5(t-3)', 'var6(t-3)',\n",
            "       'var7(t-3)', 'var8(t-3)', 'var9(t-3)', 'var1(t-2)', 'var2(t-2)',\n",
            "       'var3(t-2)', 'var4(t-2)', 'var5(t-2)', 'var6(t-2)', 'var7(t-2)',\n",
            "       'var8(t-2)', 'var9(t-2)', 'var1(t-1)', 'var2(t-1)', 'var3(t-1)',\n",
            "       'var4(t-1)', 'var5(t-1)', 'var6(t-1)', 'var7(t-1)', 'var8(t-1)',\n",
            "       'var9(t-1)', 'var1(t)', 'var2(t)', 'var3(t)', 'var4(t)', 'var5(t)',\n",
            "       'var6(t)', 'var7(t)', 'var8(t)', 'var9(t)'],\n",
            "      dtype='object')\n",
            "(1051700, 45)\n",
            "(1051700, 17)\n"
          ]
        },
        {
          "output_type": "execute_result",
          "data": {
            "text/html": [
              "<div>\n",
              "<style scoped>\n",
              "    .dataframe tbody tr th:only-of-type {\n",
              "        vertical-align: middle;\n",
              "    }\n",
              "\n",
              "    .dataframe tbody tr th {\n",
              "        vertical-align: top;\n",
              "    }\n",
              "\n",
              "    .dataframe thead th {\n",
              "        text-align: right;\n",
              "    }\n",
              "</style>\n",
              "<table border=\"1\" class=\"dataframe\">\n",
              "  <thead>\n",
              "    <tr style=\"text-align: right;\">\n",
              "      <th></th>\n",
              "      <th>var5(t-4)</th>\n",
              "      <th>var4(t-3)</th>\n",
              "      <th>var3(t-2)</th>\n",
              "      <th>var2(t-1)</th>\n",
              "      <th>var6(t-1)</th>\n",
              "      <th>var7(t-1)</th>\n",
              "      <th>var8(t-1)</th>\n",
              "      <th>var9(t-1)</th>\n",
              "      <th>var1(t)</th>\n",
              "      <th>var2(t)</th>\n",
              "      <th>var3(t)</th>\n",
              "      <th>var4(t)</th>\n",
              "      <th>var5(t)</th>\n",
              "      <th>var6(t)</th>\n",
              "      <th>var7(t)</th>\n",
              "      <th>var8(t)</th>\n",
              "      <th>var9(t)</th>\n",
              "    </tr>\n",
              "  </thead>\n",
              "  <tbody>\n",
              "    <tr>\n",
              "      <th>4</th>\n",
              "      <td>0.833333</td>\n",
              "      <td>0.033333</td>\n",
              "      <td>0.0</td>\n",
              "      <td>0.130435</td>\n",
              "      <td>0.001048</td>\n",
              "      <td>0.779748</td>\n",
              "      <td>0.806502</td>\n",
              "      <td>0.666667</td>\n",
              "      <td>0.000004</td>\n",
              "      <td>0.173913</td>\n",
              "      <td>0.0</td>\n",
              "      <td>0.033333</td>\n",
              "      <td>0.833333</td>\n",
              "      <td>0.002490</td>\n",
              "      <td>0.779748</td>\n",
              "      <td>0.806502</td>\n",
              "      <td>0.666667</td>\n",
              "    </tr>\n",
              "    <tr>\n",
              "      <th>5</th>\n",
              "      <td>0.833333</td>\n",
              "      <td>0.033333</td>\n",
              "      <td>0.0</td>\n",
              "      <td>0.173913</td>\n",
              "      <td>0.002490</td>\n",
              "      <td>0.779748</td>\n",
              "      <td>0.806502</td>\n",
              "      <td>0.666667</td>\n",
              "      <td>0.000005</td>\n",
              "      <td>0.217391</td>\n",
              "      <td>0.0</td>\n",
              "      <td>0.033333</td>\n",
              "      <td>0.833333</td>\n",
              "      <td>0.007338</td>\n",
              "      <td>0.779748</td>\n",
              "      <td>0.806502</td>\n",
              "      <td>0.666667</td>\n",
              "    </tr>\n",
              "    <tr>\n",
              "      <th>6</th>\n",
              "      <td>0.833333</td>\n",
              "      <td>0.033333</td>\n",
              "      <td>0.0</td>\n",
              "      <td>0.217391</td>\n",
              "      <td>0.007338</td>\n",
              "      <td>0.779748</td>\n",
              "      <td>0.806502</td>\n",
              "      <td>0.666667</td>\n",
              "      <td>0.000006</td>\n",
              "      <td>0.260870</td>\n",
              "      <td>0.0</td>\n",
              "      <td>0.033333</td>\n",
              "      <td>0.833333</td>\n",
              "      <td>0.015985</td>\n",
              "      <td>0.779748</td>\n",
              "      <td>0.806502</td>\n",
              "      <td>0.666667</td>\n",
              "    </tr>\n",
              "    <tr>\n",
              "      <th>7</th>\n",
              "      <td>0.833333</td>\n",
              "      <td>0.033333</td>\n",
              "      <td>0.0</td>\n",
              "      <td>0.260870</td>\n",
              "      <td>0.015985</td>\n",
              "      <td>0.779748</td>\n",
              "      <td>0.806502</td>\n",
              "      <td>0.666667</td>\n",
              "      <td>0.000007</td>\n",
              "      <td>0.304348</td>\n",
              "      <td>0.0</td>\n",
              "      <td>0.033333</td>\n",
              "      <td>0.833333</td>\n",
              "      <td>0.025550</td>\n",
              "      <td>0.779748</td>\n",
              "      <td>0.806502</td>\n",
              "      <td>0.666667</td>\n",
              "    </tr>\n",
              "    <tr>\n",
              "      <th>8</th>\n",
              "      <td>0.833333</td>\n",
              "      <td>0.033333</td>\n",
              "      <td>0.0</td>\n",
              "      <td>0.304348</td>\n",
              "      <td>0.025550</td>\n",
              "      <td>0.779748</td>\n",
              "      <td>0.806502</td>\n",
              "      <td>0.666667</td>\n",
              "      <td>0.000008</td>\n",
              "      <td>0.347826</td>\n",
              "      <td>0.0</td>\n",
              "      <td>0.033333</td>\n",
              "      <td>0.833333</td>\n",
              "      <td>0.025943</td>\n",
              "      <td>0.779748</td>\n",
              "      <td>0.806502</td>\n",
              "      <td>0.666667</td>\n",
              "    </tr>\n",
              "  </tbody>\n",
              "</table>\n",
              "</div>"
            ],
            "text/plain": [
              "   var5(t-4)  var4(t-3)  var3(t-2)  ...   var7(t)   var8(t)   var9(t)\n",
              "4   0.833333   0.033333        0.0  ...  0.779748  0.806502  0.666667\n",
              "5   0.833333   0.033333        0.0  ...  0.779748  0.806502  0.666667\n",
              "6   0.833333   0.033333        0.0  ...  0.779748  0.806502  0.666667\n",
              "7   0.833333   0.033333        0.0  ...  0.779748  0.806502  0.666667\n",
              "8   0.833333   0.033333        0.0  ...  0.779748  0.806502  0.666667\n",
              "\n",
              "[5 rows x 17 columns]"
            ]
          },
          "metadata": {},
          "execution_count": 8
        }
      ]
    },
    {
      "cell_type": "code",
      "metadata": {
        "colab": {
          "base_uri": "https://localhost:8080/"
        },
        "id": "B29H0kTLMTUa",
        "outputId": "9476b199-d415-40d9-ad2c-de0a38657d53"
      },
      "source": [
        "from sklearn.model_selection import train_test_split\n",
        "X = changed.drop(columns=['var5(t)'])\n",
        "Y = changed['var5(t)']\n",
        "X_train, X_test, y_train, y_test = train_test_split(X, Y, test_size=0.001)\n",
        "print(X_train.shape, y_train.shape, X_test.shape, y_test.shape)\n",
        "X_test.to_csv('task2_test_data.csv')"
      ],
      "execution_count": null,
      "outputs": [
        {
          "output_type": "stream",
          "name": "stdout",
          "text": [
            "(1050648, 16) (1050648,) (1052, 16) (1052,)\n"
          ]
        }
      ]
    },
    {
      "cell_type": "code",
      "metadata": {
        "colab": {
          "base_uri": "https://localhost:8080/"
        },
        "id": "Q7lzb26aMXDe",
        "outputId": "1112530b-b9e4-4ab4-fbc7-422cda6d7104"
      },
      "source": [
        "X_train = X_train.values.reshape((X_train.shape[0], 1, X_train.shape[1]))\n",
        "X_test = X_test.values.reshape((X_test.shape[0], 1, X_test.shape[1]))\n",
        "print(X_train.shape, y_train.shape, X_test.shape, y_test.shape)"
      ],
      "execution_count": null,
      "outputs": [
        {
          "output_type": "stream",
          "name": "stdout",
          "text": [
            "(1050648, 1, 16) (1050648,) (1052, 1, 16) (1052,)\n"
          ]
        }
      ]
    },
    {
      "cell_type": "code",
      "metadata": {
        "id": "5wWKpXFKMeya"
      },
      "source": [
        "# design network\n",
        "model = Sequential()\n",
        "model.add(LSTM(50, input_shape=(X_train.shape[1], X_train.shape[2])))\n",
        "model.add(Dense(1))\n",
        "model.compile(loss='mae', optimizer='adam')\n",
        "# fit network\n",
        "history = model.fit(X_train, y_train, epochs=50, batch_size=72, validation_data=(X_test, y_test), verbose=2, shuffle=False)"
      ],
      "execution_count": null,
      "outputs": []
    },
    {
      "cell_type": "code",
      "metadata": {
        "colab": {
          "base_uri": "https://localhost:8080/"
        },
        "id": "Gau2GZrdNbLe",
        "outputId": "77265f95-bf71-43db-eeee-7f52e69abe5a"
      },
      "source": [
        "model.summary()"
      ],
      "execution_count": null,
      "outputs": [
        {
          "output_type": "stream",
          "name": "stdout",
          "text": [
            "Model: \"sequential_4\"\n",
            "_________________________________________________________________\n",
            " Layer (type)                Output Shape              Param #   \n",
            "=================================================================\n",
            " lstm_4 (LSTM)               (None, 50)                13400     \n",
            "                                                                 \n",
            " dense_4 (Dense)             (None, 1)                 51        \n",
            "                                                                 \n",
            "=================================================================\n",
            "Total params: 13,451\n",
            "Trainable params: 13,451\n",
            "Non-trainable params: 0\n",
            "_________________________________________________________________\n"
          ]
        }
      ]
    },
    {
      "cell_type": "code",
      "metadata": {
        "colab": {
          "base_uri": "https://localhost:8080/",
          "height": 282
        },
        "id": "PLogLNZ5NcpP",
        "outputId": "39a3d763-9f76-45a3-fff0-c6400213584a"
      },
      "source": [
        "from sklearn.metrics import mean_squared_error\n",
        "import numpy as np\n",
        "import matplotlib.pyplot as plt\n",
        "plt.plot(history.history['loss'], label='train')\n",
        "plt.plot(history.history['val_loss'], label='test')\n",
        "plt.legend()\n",
        "plt.show()\n",
        " \n",
        "# make a prediction\n",
        "yhat = model.predict(X_test)\n",
        "# calculate RMSE\n",
        "rmse = np.sqrt(mean_squared_error(y_test, yhat))\n",
        "print('Test RMSE: %.3f' % rmse)"
      ],
      "execution_count": null,
      "outputs": [
        {
          "output_type": "display_data",
          "data": {
            "image/png": "[encoded data removed]",
            "text/plain": [
              "<Figure size 432x288 with 1 Axes>"
            ]
          },
          "metadata": {
            "needs_background": "light"
          }
        },
        {
          "output_type": "stream",
          "name": "stdout",
          "text": [
            "Test RMSE: 0.037\n"
          ]
        }
      ]
    },
    {
      "cell_type": "code",
      "metadata": {
        "id": "wqwSZTc4NeEF"
      },
      "source": [],
      "execution_count": null,
      "outputs": []
    }
  ]
}