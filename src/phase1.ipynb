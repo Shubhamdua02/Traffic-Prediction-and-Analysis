{
 "cells": [
  {
   "cell_type": "markdown",
   "metadata": {},
   "source": [
    "# 1) Preprocessing the data (before loading into models)"
   ]
  },
  {
   "cell_type": "markdown",
   "metadata": {},
   "source": [
    "<br>"
   ]
  },
  {
   "cell_type": "code",
   "execution_count": 20,
   "metadata": {},
   "outputs": [],
   "source": [
    "import warnings\n",
    "warnings.filterwarnings('ignore')"
   ]
  },
  {
   "cell_type": "code",
   "execution_count": 2,
   "metadata": {},
   "outputs": [],
   "source": [
    "import numpy as np\n",
    "import pandas as pd"
   ]
  },
  {
   "cell_type": "code",
   "execution_count": 3,
   "metadata": {
    "scrolled": true
   },
   "outputs": [
    {
     "data": {
      "text/plain": [
       "['.ipynb_checkpoints',\n",
       " 'alda_proj_mid (original).ipynb',\n",
       " 'alda_proj_mid.ipynb',\n",
       " 'alda_proj_mid2.ipynb',\n",
       " 'CSC522_Project_Fall2021.pdf',\n",
       " 'dot_traffic_2015.txt.gz',\n",
       " 'dot_traffic_2015.txt.gz.zip',\n",
       " 'dot_traffic_stations_2015.txt.gz',\n",
       " 'dot_traffic_stations_2015.txt.gz.zip',\n",
       " 'final_dataset.csv',\n",
       " 'final_dataset_stations.csv',\n",
       " 'final_data_without_labels.csv',\n",
       " 'MidtermProject.pdf',\n",
       " 'Midway_TrafficPrediction_P38.pdf',\n",
       " 'P38_Project_Proposal.pdf',\n",
       " 'Task 1 (only North Carolina).ipynb',\n",
       " 'Task 1.ipynb',\n",
       " 'Untitled.ipynb',\n",
       " 'Untitled1.ipynb']"
      ]
     },
     "execution_count": 3,
     "metadata": {},
     "output_type": "execute_result"
    }
   ],
   "source": [
    "import os\n",
    "os.listdir()"
   ]
  },
  {
   "cell_type": "code",
   "execution_count": 4,
   "metadata": {
    "scrolled": true
   },
   "outputs": [
    {
     "name": "stdout",
     "output_type": "stream",
     "text": [
      "<class 'pandas.core.frame.DataFrame'>\n",
      "RangeIndex: 7140391 entries, 0 to 7140390\n",
      "Data columns (total 38 columns):\n",
      " #   Column                                     Dtype  \n",
      "---  ------                                     -----  \n",
      " 0   date                                       object \n",
      " 1   day_of_data                                int64  \n",
      " 2   day_of_week                                int64  \n",
      " 3   direction_of_travel                        int64  \n",
      " 4   direction_of_travel_name                   object \n",
      " 5   fips_state_code                            int64  \n",
      " 6   functional_classification                  object \n",
      " 7   functional_classification_name             object \n",
      " 8   lane_of_travel                             int64  \n",
      " 9   month_of_data                              int64  \n",
      " 10  record_type                                int64  \n",
      " 11  restrictions                               float64\n",
      " 12  station_id                                 object \n",
      " 13  traffic_volume_counted_after_0000_to_0100  int64  \n",
      " 14  traffic_volume_counted_after_0100_to_0200  int64  \n",
      " 15  traffic_volume_counted_after_0200_to_0300  int64  \n",
      " 16  traffic_volume_counted_after_0300_to_0400  int64  \n",
      " 17  traffic_volume_counted_after_0400_to_0500  int64  \n",
      " 18  traffic_volume_counted_after_0500_to_0600  int64  \n",
      " 19  traffic_volume_counted_after_0600_to_0700  int64  \n",
      " 20  traffic_volume_counted_after_0700_to_0800  int64  \n",
      " 21  traffic_volume_counted_after_0800_to_0900  int64  \n",
      " 22  traffic_volume_counted_after_0900_to_1000  int64  \n",
      " 23  traffic_volume_counted_after_1000_to_1100  int64  \n",
      " 24  traffic_volume_counted_after_1100_to_1200  int64  \n",
      " 25  traffic_volume_counted_after_1200_to_1300  int64  \n",
      " 26  traffic_volume_counted_after_1300_to_1400  int64  \n",
      " 27  traffic_volume_counted_after_1400_to_1500  int64  \n",
      " 28  traffic_volume_counted_after_1500_to_1600  int64  \n",
      " 29  traffic_volume_counted_after_1600_to_1700  int64  \n",
      " 30  traffic_volume_counted_after_1700_to_1800  int64  \n",
      " 31  traffic_volume_counted_after_1800_to_1900  int64  \n",
      " 32  traffic_volume_counted_after_1900_to_2000  int64  \n",
      " 33  traffic_volume_counted_after_2000_to_2100  int64  \n",
      " 34  traffic_volume_counted_after_2100_to_2200  int64  \n",
      " 35  traffic_volume_counted_after_2200_to_2300  int64  \n",
      " 36  traffic_volume_counted_after_2300_to_2400  int64  \n",
      " 37  year_of_data                               int64  \n",
      "dtypes: float64(1), int64(32), object(5)\n",
      "memory usage: 2.0+ GB\n"
     ]
    }
   ],
   "source": [
    "df = pd.read_csv(\"dot_traffic_2015.txt.gz\", header=0, sep=',', quotechar='\"')\n",
    "df.info()"
   ]
  },
  {
   "cell_type": "code",
   "execution_count": 5,
   "metadata": {
    "scrolled": true
   },
   "outputs": [
    {
     "data": {
      "text/plain": [
       "Index(['date', 'day_of_data', 'day_of_week', 'direction_of_travel',\n",
       "       'direction_of_travel_name', 'fips_state_code',\n",
       "       'functional_classification', 'functional_classification_name',\n",
       "       'lane_of_travel', 'month_of_data', 'record_type', 'restrictions',\n",
       "       'station_id', 'traffic_volume_counted_after_0000_to_0100',\n",
       "       'traffic_volume_counted_after_0100_to_0200',\n",
       "       'traffic_volume_counted_after_0200_to_0300',\n",
       "       'traffic_volume_counted_after_0300_to_0400',\n",
       "       'traffic_volume_counted_after_0400_to_0500',\n",
       "       'traffic_volume_counted_after_0500_to_0600',\n",
       "       'traffic_volume_counted_after_0600_to_0700',\n",
       "       'traffic_volume_counted_after_0700_to_0800',\n",
       "       'traffic_volume_counted_after_0800_to_0900',\n",
       "       'traffic_volume_counted_after_0900_to_1000',\n",
       "       'traffic_volume_counted_after_1000_to_1100',\n",
       "       'traffic_volume_counted_after_1100_to_1200',\n",
       "       'traffic_volume_counted_after_1200_to_1300',\n",
       "       'traffic_volume_counted_after_1300_to_1400',\n",
       "       'traffic_volume_counted_after_1400_to_1500',\n",
       "       'traffic_volume_counted_after_1500_to_1600',\n",
       "       'traffic_volume_counted_after_1600_to_1700',\n",
       "       'traffic_volume_counted_after_1700_to_1800',\n",
       "       'traffic_volume_counted_after_1800_to_1900',\n",
       "       'traffic_volume_counted_after_1900_to_2000',\n",
       "       'traffic_volume_counted_after_2000_to_2100',\n",
       "       'traffic_volume_counted_after_2100_to_2200',\n",
       "       'traffic_volume_counted_after_2200_to_2300',\n",
       "       'traffic_volume_counted_after_2300_to_2400', 'year_of_data'],\n",
       "      dtype='object')"
      ]
     },
     "execution_count": 5,
     "metadata": {},
     "output_type": "execute_result"
    }
   ],
   "source": [
    "df.columns"
   ]
  },
  {
   "cell_type": "code",
   "execution_count": 6,
   "metadata": {
    "scrolled": true
   },
   "outputs": [
    {
     "name": "stdout",
     "output_type": "stream",
     "text": [
      "<class 'pandas.core.frame.DataFrame'>\n",
      "RangeIndex: 7140391 entries, 0 to 7140390\n",
      "Data columns (total 27 columns):\n",
      " #   Column                                     Dtype \n",
      "---  ------                                     ----- \n",
      " 0   fips_state_code                            int64 \n",
      " 1   functional_classification                  object\n",
      " 2   station_id                                 object\n",
      " 3   traffic_volume_counted_after_0000_to_0100  int64 \n",
      " 4   traffic_volume_counted_after_0100_to_0200  int64 \n",
      " 5   traffic_volume_counted_after_0200_to_0300  int64 \n",
      " 6   traffic_volume_counted_after_0300_to_0400  int64 \n",
      " 7   traffic_volume_counted_after_0400_to_0500  int64 \n",
      " 8   traffic_volume_counted_after_0500_to_0600  int64 \n",
      " 9   traffic_volume_counted_after_0600_to_0700  int64 \n",
      " 10  traffic_volume_counted_after_0700_to_0800  int64 \n",
      " 11  traffic_volume_counted_after_0800_to_0900  int64 \n",
      " 12  traffic_volume_counted_after_0900_to_1000  int64 \n",
      " 13  traffic_volume_counted_after_1000_to_1100  int64 \n",
      " 14  traffic_volume_counted_after_1100_to_1200  int64 \n",
      " 15  traffic_volume_counted_after_1200_to_1300  int64 \n",
      " 16  traffic_volume_counted_after_1300_to_1400  int64 \n",
      " 17  traffic_volume_counted_after_1400_to_1500  int64 \n",
      " 18  traffic_volume_counted_after_1500_to_1600  int64 \n",
      " 19  traffic_volume_counted_after_1600_to_1700  int64 \n",
      " 20  traffic_volume_counted_after_1700_to_1800  int64 \n",
      " 21  traffic_volume_counted_after_1800_to_1900  int64 \n",
      " 22  traffic_volume_counted_after_1900_to_2000  int64 \n",
      " 23  traffic_volume_counted_after_2000_to_2100  int64 \n",
      " 24  traffic_volume_counted_after_2100_to_2200  int64 \n",
      " 25  traffic_volume_counted_after_2200_to_2300  int64 \n",
      " 26  traffic_volume_counted_after_2300_to_2400  int64 \n",
      "dtypes: int64(25), object(2)\n",
      "memory usage: 1.4+ GB\n"
     ]
    }
   ],
   "source": [
    "df.drop(['day_of_data','functional_classification_name','direction_of_travel_name','record_type','restrictions',\n",
    "         'year_of_data','date','day_of_week','direction_of_travel','lane_of_travel','month_of_data'], axis=1, inplace=True)\n",
    "df.info()"
   ]
  },
  {
   "cell_type": "code",
   "execution_count": 7,
   "metadata": {
    "scrolled": true
   },
   "outputs": [
    {
     "name": "stdout",
     "output_type": "stream",
     "text": [
      "<class 'pandas.core.frame.DataFrame'>\n",
      "Int64Index: 6923 entries, 0 to 6922\n",
      "Data columns (total 27 columns):\n",
      " #   Column                                     Non-Null Count  Dtype \n",
      "---  ------                                     --------------  ----- \n",
      " 0   fips_state_code                            6923 non-null   int64 \n",
      " 1   functional_classification                  6923 non-null   object\n",
      " 2   station_id                                 6923 non-null   object\n",
      " 3   traffic_volume_counted_after_0000_to_0100  6923 non-null   int64 \n",
      " 4   traffic_volume_counted_after_0100_to_0200  6923 non-null   int64 \n",
      " 5   traffic_volume_counted_after_0200_to_0300  6923 non-null   int64 \n",
      " 6   traffic_volume_counted_after_0300_to_0400  6923 non-null   int64 \n",
      " 7   traffic_volume_counted_after_0400_to_0500  6923 non-null   int64 \n",
      " 8   traffic_volume_counted_after_0500_to_0600  6923 non-null   int64 \n",
      " 9   traffic_volume_counted_after_0600_to_0700  6923 non-null   int64 \n",
      " 10  traffic_volume_counted_after_0700_to_0800  6923 non-null   int64 \n",
      " 11  traffic_volume_counted_after_0800_to_0900  6923 non-null   int64 \n",
      " 12  traffic_volume_counted_after_0900_to_1000  6923 non-null   int64 \n",
      " 13  traffic_volume_counted_after_1000_to_1100  6923 non-null   int64 \n",
      " 14  traffic_volume_counted_after_1100_to_1200  6923 non-null   int64 \n",
      " 15  traffic_volume_counted_after_1200_to_1300  6923 non-null   int64 \n",
      " 16  traffic_volume_counted_after_1300_to_1400  6923 non-null   int64 \n",
      " 17  traffic_volume_counted_after_1400_to_1500  6923 non-null   int64 \n",
      " 18  traffic_volume_counted_after_1500_to_1600  6923 non-null   int64 \n",
      " 19  traffic_volume_counted_after_1600_to_1700  6923 non-null   int64 \n",
      " 20  traffic_volume_counted_after_1700_to_1800  6923 non-null   int64 \n",
      " 21  traffic_volume_counted_after_1800_to_1900  6923 non-null   int64 \n",
      " 22  traffic_volume_counted_after_1900_to_2000  6923 non-null   int64 \n",
      " 23  traffic_volume_counted_after_2000_to_2100  6923 non-null   int64 \n",
      " 24  traffic_volume_counted_after_2100_to_2200  6923 non-null   int64 \n",
      " 25  traffic_volume_counted_after_2200_to_2300  6923 non-null   int64 \n",
      " 26  traffic_volume_counted_after_2300_to_2400  6923 non-null   int64 \n",
      "dtypes: int64(25), object(2)\n",
      "memory usage: 1.5+ MB\n"
     ]
    }
   ],
   "source": [
    "df_sum=df.groupby(['fips_state_code','functional_classification','station_id'],as_index=False).agg('sum')\n",
    "df_sum.info()"
   ]
  },
  {
   "cell_type": "code",
   "execution_count": 8,
   "metadata": {
    "scrolled": true
   },
   "outputs": [
    {
     "name": "stdout",
     "output_type": "stream",
     "text": [
      "<class 'pandas.core.frame.DataFrame'>\n",
      "Int64Index: 6923 entries, 0 to 6922\n",
      "Data columns (total 27 columns):\n",
      " #   Column                                     Non-Null Count  Dtype  \n",
      "---  ------                                     --------------  -----  \n",
      " 0   fips_state_code                            6923 non-null   int64  \n",
      " 1   functional_classification                  6923 non-null   object \n",
      " 2   station_id                                 6923 non-null   object \n",
      " 3   traffic_volume_counted_after_0000_to_0100  6923 non-null   float64\n",
      " 4   traffic_volume_counted_after_0100_to_0200  6923 non-null   float64\n",
      " 5   traffic_volume_counted_after_0200_to_0300  6923 non-null   float64\n",
      " 6   traffic_volume_counted_after_0300_to_0400  6923 non-null   float64\n",
      " 7   traffic_volume_counted_after_0400_to_0500  6923 non-null   float64\n",
      " 8   traffic_volume_counted_after_0500_to_0600  6923 non-null   float64\n",
      " 9   traffic_volume_counted_after_0600_to_0700  6923 non-null   float64\n",
      " 10  traffic_volume_counted_after_0700_to_0800  6923 non-null   float64\n",
      " 11  traffic_volume_counted_after_0800_to_0900  6923 non-null   float64\n",
      " 12  traffic_volume_counted_after_0900_to_1000  6923 non-null   float64\n",
      " 13  traffic_volume_counted_after_1000_to_1100  6923 non-null   float64\n",
      " 14  traffic_volume_counted_after_1100_to_1200  6923 non-null   float64\n",
      " 15  traffic_volume_counted_after_1200_to_1300  6923 non-null   float64\n",
      " 16  traffic_volume_counted_after_1300_to_1400  6923 non-null   float64\n",
      " 17  traffic_volume_counted_after_1400_to_1500  6923 non-null   float64\n",
      " 18  traffic_volume_counted_after_1500_to_1600  6923 non-null   float64\n",
      " 19  traffic_volume_counted_after_1600_to_1700  6923 non-null   float64\n",
      " 20  traffic_volume_counted_after_1700_to_1800  6923 non-null   float64\n",
      " 21  traffic_volume_counted_after_1800_to_1900  6923 non-null   float64\n",
      " 22  traffic_volume_counted_after_1900_to_2000  6923 non-null   float64\n",
      " 23  traffic_volume_counted_after_2000_to_2100  6923 non-null   float64\n",
      " 24  traffic_volume_counted_after_2100_to_2200  6923 non-null   float64\n",
      " 25  traffic_volume_counted_after_2200_to_2300  6923 non-null   float64\n",
      " 26  traffic_volume_counted_after_2300_to_2400  6923 non-null   float64\n",
      "dtypes: float64(24), int64(1), object(2)\n",
      "memory usage: 1.5+ MB\n"
     ]
    }
   ],
   "source": [
    "df_mean=df.groupby(['fips_state_code','functional_classification','station_id'],as_index=False).agg('mean')\n",
    "df_mean.info()"
   ]
  },
  {
   "cell_type": "code",
   "execution_count": 9,
   "metadata": {
    "scrolled": true
   },
   "outputs": [
    {
     "name": "stdout",
     "output_type": "stream",
     "text": [
      "<class 'pandas.core.frame.DataFrame'>\n",
      "RangeIndex: 28466 entries, 0 to 28465\n",
      "Data columns (total 5 columns):\n",
      " #   Column                   Non-Null Count  Dtype  \n",
      "---  ------                   --------------  -----  \n",
      " 0   latitude                 28465 non-null  float64\n",
      " 1   longitude                28465 non-null  float64\n",
      " 2   national_highway_system  28466 non-null  object \n",
      " 3   station_id               28466 non-null  object \n",
      " 4   fips_state_code          28466 non-null  int64  \n",
      "dtypes: float64(2), int64(1), object(2)\n",
      "memory usage: 1.1+ MB\n"
     ]
    }
   ],
   "source": [
    "df_stations = pd.read_csv(\"dot_traffic_stations_2015.txt.gz\", header=0, sep=',', quotechar='\"')\n",
    "cols = df_stations[['latitude','longitude','national_highway_system','station_id','fips_state_code']]\n",
    "cols.info()"
   ]
  },
  {
   "cell_type": "code",
   "execution_count": 10,
   "metadata": {
    "scrolled": true
   },
   "outputs": [
    {
     "name": "stdout",
     "output_type": "stream",
     "text": [
      "<class 'pandas.core.frame.DataFrame'>\n",
      "Int64Index: 7300 entries, 0 to 22970\n",
      "Data columns (total 30 columns):\n",
      " #   Column                                     Non-Null Count  Dtype  \n",
      "---  ------                                     --------------  -----  \n",
      " 0   fips_state_code                            7300 non-null   int64  \n",
      " 1   functional_classification                  7300 non-null   object \n",
      " 2   station_id                                 7300 non-null   object \n",
      " 3   traffic_volume_counted_after_0000_to_0100  7300 non-null   float64\n",
      " 4   traffic_volume_counted_after_0100_to_0200  7300 non-null   float64\n",
      " 5   traffic_volume_counted_after_0200_to_0300  7300 non-null   float64\n",
      " 6   traffic_volume_counted_after_0300_to_0400  7300 non-null   float64\n",
      " 7   traffic_volume_counted_after_0400_to_0500  7300 non-null   float64\n",
      " 8   traffic_volume_counted_after_0500_to_0600  7300 non-null   float64\n",
      " 9   traffic_volume_counted_after_0600_to_0700  7300 non-null   float64\n",
      " 10  traffic_volume_counted_after_0700_to_0800  7300 non-null   float64\n",
      " 11  traffic_volume_counted_after_0800_to_0900  7300 non-null   float64\n",
      " 12  traffic_volume_counted_after_0900_to_1000  7300 non-null   float64\n",
      " 13  traffic_volume_counted_after_1000_to_1100  7300 non-null   float64\n",
      " 14  traffic_volume_counted_after_1100_to_1200  7300 non-null   float64\n",
      " 15  traffic_volume_counted_after_1200_to_1300  7300 non-null   float64\n",
      " 16  traffic_volume_counted_after_1300_to_1400  7300 non-null   float64\n",
      " 17  traffic_volume_counted_after_1400_to_1500  7300 non-null   float64\n",
      " 18  traffic_volume_counted_after_1500_to_1600  7300 non-null   float64\n",
      " 19  traffic_volume_counted_after_1600_to_1700  7300 non-null   float64\n",
      " 20  traffic_volume_counted_after_1700_to_1800  7300 non-null   float64\n",
      " 21  traffic_volume_counted_after_1800_to_1900  7300 non-null   float64\n",
      " 22  traffic_volume_counted_after_1900_to_2000  7300 non-null   float64\n",
      " 23  traffic_volume_counted_after_2000_to_2100  7300 non-null   float64\n",
      " 24  traffic_volume_counted_after_2100_to_2200  7300 non-null   float64\n",
      " 25  traffic_volume_counted_after_2200_to_2300  7300 non-null   float64\n",
      " 26  traffic_volume_counted_after_2300_to_2400  7300 non-null   float64\n",
      " 27  latitude                                   7299 non-null   float64\n",
      " 28  longitude                                  7299 non-null   float64\n",
      " 29  national_highway_system                    7300 non-null   object \n",
      "dtypes: float64(26), int64(1), object(3)\n",
      "memory usage: 1.7+ MB\n"
     ]
    }
   ],
   "source": [
    "df_mean_latlong = df_mean.merge(cols, on=['station_id','fips_state_code'], how='inner')\n",
    "df_mean_latlong.drop_duplicates(inplace=True)\n",
    "df_mean_latlong.info()"
   ]
  },
  {
   "cell_type": "code",
   "execution_count": 11,
   "metadata": {
    "scrolled": true
   },
   "outputs": [
    {
     "name": "stdout",
     "output_type": "stream",
     "text": [
      "<class 'pandas.core.frame.DataFrame'>\n",
      "Int64Index: 6904 entries, 0 to 22970\n",
      "Data columns (total 30 columns):\n",
      " #   Column                                     Non-Null Count  Dtype  \n",
      "---  ------                                     --------------  -----  \n",
      " 0   fips_state_code                            6904 non-null   int64  \n",
      " 1   functional_classification                  6904 non-null   object \n",
      " 2   station_id                                 6904 non-null   object \n",
      " 3   traffic_volume_counted_after_0000_to_0100  6904 non-null   float64\n",
      " 4   traffic_volume_counted_after_0100_to_0200  6904 non-null   float64\n",
      " 5   traffic_volume_counted_after_0200_to_0300  6904 non-null   float64\n",
      " 6   traffic_volume_counted_after_0300_to_0400  6904 non-null   float64\n",
      " 7   traffic_volume_counted_after_0400_to_0500  6904 non-null   float64\n",
      " 8   traffic_volume_counted_after_0500_to_0600  6904 non-null   float64\n",
      " 9   traffic_volume_counted_after_0600_to_0700  6904 non-null   float64\n",
      " 10  traffic_volume_counted_after_0700_to_0800  6904 non-null   float64\n",
      " 11  traffic_volume_counted_after_0800_to_0900  6904 non-null   float64\n",
      " 12  traffic_volume_counted_after_0900_to_1000  6904 non-null   float64\n",
      " 13  traffic_volume_counted_after_1000_to_1100  6904 non-null   float64\n",
      " 14  traffic_volume_counted_after_1100_to_1200  6904 non-null   float64\n",
      " 15  traffic_volume_counted_after_1200_to_1300  6904 non-null   float64\n",
      " 16  traffic_volume_counted_after_1300_to_1400  6904 non-null   float64\n",
      " 17  traffic_volume_counted_after_1400_to_1500  6904 non-null   float64\n",
      " 18  traffic_volume_counted_after_1500_to_1600  6904 non-null   float64\n",
      " 19  traffic_volume_counted_after_1600_to_1700  6904 non-null   float64\n",
      " 20  traffic_volume_counted_after_1700_to_1800  6904 non-null   float64\n",
      " 21  traffic_volume_counted_after_1800_to_1900  6904 non-null   float64\n",
      " 22  traffic_volume_counted_after_1900_to_2000  6904 non-null   float64\n",
      " 23  traffic_volume_counted_after_2000_to_2100  6904 non-null   float64\n",
      " 24  traffic_volume_counted_after_2100_to_2200  6904 non-null   float64\n",
      " 25  traffic_volume_counted_after_2200_to_2300  6904 non-null   float64\n",
      " 26  traffic_volume_counted_after_2300_to_2400  6904 non-null   float64\n",
      " 27  latitude                                   6904 non-null   float64\n",
      " 28  longitude                                  6904 non-null   float64\n",
      " 29  national_highway_system                    6904 non-null   object \n",
      "dtypes: float64(26), int64(1), object(3)\n",
      "memory usage: 1.6+ MB\n"
     ]
    }
   ],
   "source": [
    "df_mean_latlong = df_mean_latlong.drop_duplicates(subset=['fips_state_code','station_id'])\n",
    "df_mean_latlong.info()"
   ]
  },
  {
   "cell_type": "code",
   "execution_count": 12,
   "metadata": {},
   "outputs": [
    {
     "name": "stdout",
     "output_type": "stream",
     "text": [
      "['R', 'R', 'R', 'R', 'R', 'R', 'R', 'R', 'R', 'R', 'R', 'R', 'R', 'R', 'R', 'R', 'R', 'R', 'R', 'R', 'R', 'R', 'U', 'U', 'U', 'U', 'U', 'U', 'U', 'U', 'U', 'U', 'U', 'U', 'U', 'U', 'U', 'U', 'U', 'U', 'U', 'U', 'U', 'U', 'U', 'U', 'U', 'U', 'U', 'U', 'U', 'U', 'U', 'U', 'U', 'U', 'U', 'U', 'U', 'U', 'U', 'U', 'U', 'U', 'U', 'U', 'R', 'R', 'R', 'R', 'R', 'R', 'R', 'R', 'R', 'R', 'R', 'R', 'R', 'R', 'R', 'R', 'R', 'R', 'R', 'R', 'R', 'R', 'R', 'R', 'R', 'R', 'R', 'R', 'R', 'R', 'R', 'R', 'R', 'R', 'R', 'R', 'R', 'R', 'R', 'R', 'R', 'U', 'U', 'U', 'U', 'U', 'U', 'U', 'U', 'U', 'U', 'U', 'U', 'U', 'U', 'U', 'U', 'U', 'U', 'R', 'R', 'R', 'R', 'R', 'R', 'R', 'R', 'R', 'R', 'R', 'U', 'U', 'U', 'U', 'U', 'U', 'U', 'U', 'R', 'R', 'U', 'U', 'U', 'R', 'R', 'R', 'R', 'R', 'R', 'R', 'R', 'R', 'R', 'R', 'R', 'R', 'R', 'R', 'R', 'R', 'R', 'R', 'R', 'R', 'R', 'R', 'U', 'U', 'U', 'U', 'U', 'U', 'U', 'U', 'U', 'R', 'R', 'R', 'R', 'R', 'R', 'R', 'R', 'R', 'R', 'R', 'R', 'U', 'U', 'U', 'U', 'U', 'U', 'U', 'U', 'U', 'U', 'U', 'U', 'U', 'U', 'U', 'U', 'U', 'U', 'U', 'U', 'U', 'U', 'U', 'R', 'R', 'R', 'R', 'R', 'R', 'R', 'U', 'U', 'U', 'U', 'U', 'U', 'U', 'U', 'U', 'U', 'U', 'U', 'U', 'U', 'U', 'U', 'U', 'U', 'U', 'U', 'U', 'R', 'R', 'R', 'R', 'U', 'U', 'U', 'U', 'U', 'U', 'R', 'R', 'R', 'R', 'R', 'R', 'R', 'R', 'R', 'R', 'R', 'R', 'R', 'R', 'R', 'R', 'R', 'R', 'R', 'R', 'R', 'R', 'R', 'R', 'R', 'R', 'R', 'R', 'R', 'R', 'R', 'R', 'R', 'R', 'R', 'R', 'U', 'U', 'U', 'U', 'U', 'U', 'U', 'U', 'U', 'U', 'U', 'U', 'U', 'U', 'U', 'U', 'U', 'U', 'U', 'U', 'U', 'U', 'U', 'U', 'U', 'U', 'U', 'U', 'U', 'U', 'U', 'U', 'U', 'U', 'U', 'U', 'U', 'U', 'U', 'U', 'U', 'U', 'U', 'U', 'U', 'U', 'U', 'U', 'U', 'U', 'U', 'U', 'U', 'U', 'U', 'U', 'U', 'U', 'U', 'U', 'U', 'U', 'U', 'U', 'U', 'U', 'U', 'U', 'U', 'U', 'U', 'U', 'U', 'U', 'U', 'U', 'U', 'U', 'U', 'U', 'U', 'U', 'U', 'U', 'U', 'U', 'U', 'U', 'U', 'U', 'U', 'U', 'U', 'U', 'U', 'U', 'U', 'U', 'U', 'U', 'U', 'U', 'U', 'U', 'U', 'U', 'U', 'U', 'U', 'U', 'U', 'U', 'U', 'U', 'U', 'U', 'U', 'U', 'U', 'U', 'U', 'U', 'U', 'U', 'U', 'U', 'U', 'U', 'U', 'U', 'U', 'U', 'U', 'U', 'U', 'U', 'U', 'U', 'U', 'U', 'U', 'R', 'R', 'R', 'R', 'R', 'R', 'R', 'R', 'R', 'R', 'R', 'R', 'R', 'R', 'R', 'R', 'R', 'R', 'R', 'R', 'R', 'R', 'R', 'R', 'R', 'R', 'R', 'R', 'R', 'R', 'R', 'U', 'U', 'U', 'U', 'U', 'U', 'U', 'U', 'U', 'U', 'U', 'U', 'U', 'U', 'U', 'U', 'U', 'U', 'U', 'R', 'R', 'R', 'R', 'R', 'R', 'R', 'R', 'R', 'R', 'R', 'R', 'R', 'R', 'R', 'R', 'R', 'R', 'U', 'U', 'R', 'R', 'R', 'R', 'R', 'R', 'R', 'R', 'R', 'R', 'R', 'R', 'R', 'R', 'R', 'R', 'R', 'R', 'R', 'R', 'R', 'R', 'R', 'R', 'R', 'R', 'R', 'R', 'R', 'R', 'R', 'R', 'R', 'R', 'R', 'R', 'R', 'R', 'R', 'R', 'U', 'U', 'U', 'U', 'U', 'U', 'U', 'U', 'U', 'U', 'U', 'R', 'R', 'R', 'R', 'R', 'R', 'R', 'R', 'R', 'R', 'R', 'R', 'R', 'R', 'R', 'R', 'U', 'R', 'R', 'R', 'R', 'R', 'R', 'R', 'R', 'R', 'U', 'U', 'R', 'R', 'R', 'R', 'R', 'R', 'R', 'R', 'R', 'R', 'R', 'R', 'R', 'R', 'R', 'R', 'R', 'R', 'R', 'R', 'R', 'R', 'R', 'R', 'R', 'R', 'R', 'R', 'R', 'R', 'R', 'R', 'R', 'R', 'R', 'R', 'R', 'R', 'R', 'R', 'R', 'U', 'U', 'U', 'U', 'U', 'U', 'U', 'U', 'U', 'U', 'U', 'U', 'U', 'U', 'U', 'U', 'U', 'U', 'U', 'U', 'U', 'U', 'U', 'U', 'U', 'U', 'U', 'U', 'U', 'U', 'U', 'U', 'U', 'U', 'U', 'U', 'U', 'U', 'U', 'U', 'U', 'U', 'U', 'U', 'U', 'U', 'U', 'U', 'U', 'U', 'U', 'U', 'U', 'U', 'U', 'U', 'U', 'U', 'U', 'U', 'U', 'U', 'U', 'U', 'U', 'U', 'U', 'U', 'U', 'U', 'U', 'U', 'U', 'U', 'U', 'U', 'U', 'U', 'U', 'U', 'U', 'U', 'U', 'U', 'U', 'U', 'U', 'U', 'U', 'U', 'U', 'U', 'U', 'U', 'U', 'U', 'U', 'U', 'U', 'U', 'U', 'U', 'U', 'U', 'U', 'U', 'U', 'U', 'U', 'U', 'U', 'U', 'U', 'U', 'U', 'U', 'U', 'U', 'U', 'U', 'U', 'U', 'U', 'U', 'U', 'U', 'U', 'U', 'U', 'U', 'U', 'U', 'U', 'U', 'U', 'U', 'U', 'U', 'U', 'U', 'U', 'U', 'U', 'U', 'U', 'U', 'U', 'U', 'U', 'U', 'U', 'U', 'U', 'U', 'U', 'U', 'U', 'R', 'R', 'R', 'R', 'R', 'R', 'R', 'R', 'R', 'R', 'R', 'R', 'R', 'R', 'R', 'R', 'R', 'R', 'R', 'R', 'R', 'R', 'R', 'R', 'R', 'R', 'R', 'R', 'R', 'R', 'R', 'R', 'R', 'R', 'R', 'R', 'R', 'R', 'R', 'R', 'R', 'R', 'R', 'R', 'R', 'R', 'R', 'R', 'R', 'R', 'R', 'R', 'R', 'R', 'R', 'R', 'U', 'U', 'U', 'U', 'U', 'U', 'U', 'U', 'U', 'U', 'U', 'U', 'U', 'U', 'U', 'U', 'U', 'U', 'U', 'U', 'U', 'U', 'U', 'U', 'U', 'R', 'R', 'R', 'R', 'R', 'R', 'R', 'R', 'R', 'R', 'R', 'R', 'R', 'R', 'R', 'R', 'R', 'R', 'R', 'R', 'R', 'U', 'U', 'U', 'R', 'R', 'R', 'R', 'R', 'R', 'R', 'R', 'R', 'R', 'R', 'R', 'R', 'R', 'R', 'R', 'U', 'U', 'U', 'U', 'U', 'U', 'U', 'U', 'U', 'U', 'U', 'U', 'U', 'U', 'U', 'U', 'U', 'U', 'U', 'U', 'U', 'U', 'U', 'U', 'U', 'U', 'R', 'R', 'R', 'R', 'R', 'R', 'R', 'R', 'R', 'R', 'R', 'R', 'R', 'R', 'R', 'R', 'R', 'R', 'R', 'R', 'R', 'R', 'R', 'R', 'R', 'R', 'R', 'R', 'R', 'R', 'R', 'U', 'U', 'U', 'U', 'U', 'U', 'U', 'U', 'U', 'U', 'U', 'U', 'U', 'U', 'R', 'R', 'R', 'R', 'R', 'R', 'R', 'R', 'R', 'R', 'R', 'R', 'R', 'R', 'R', 'R', 'U', 'R', 'R', 'R', 'R', 'R', 'R', 'U', 'U', 'U', 'U', 'U', 'U', 'U', 'U', 'U', 'U', 'U', 'U', 'U', 'U', 'U', 'U', 'U', 'U', 'R', 'R', 'R', 'U', 'U', 'U', 'U', 'U', 'U', 'U', 'R', 'R', 'R', 'U', 'U', 'R', 'U', 'U', 'U', 'R', 'R', 'R', 'R', 'R', 'R', 'R', 'R', 'R', 'R', 'R', 'R', 'R', 'R', 'R', 'R', 'R', 'R', 'R', 'R', 'R', 'R', 'R', 'R', 'R', 'R', 'R', 'R', 'R', 'R', 'R', 'R', 'R', 'R', 'R', 'R', 'U', 'U', 'U', 'U', 'U', 'U', 'U', 'U', 'U', 'U', 'U', 'U', 'U', 'U', 'U', 'R', 'R', 'R', 'R', 'R', 'R', 'R', 'R', 'R', 'R', 'R', 'R', 'R', 'R', 'R', 'R', 'R', 'R', 'U', 'U', 'U', 'U', 'R', 'R', 'R', 'R', 'R', 'R', 'R', 'R', 'U', 'U', 'U', 'R', 'R', 'R', 'R', 'R', 'R', 'R', 'R', 'R', 'R', 'R', 'R', 'R', 'R', 'R', 'R', 'R', 'R', 'R', 'R', 'R', 'R', 'R', 'U', 'U', 'U', 'U', 'U', 'U', 'U', 'U', 'U', 'U', 'U', 'U', 'U', 'U', 'U', 'U', 'U', 'U', 'U', 'U', 'U', 'U', 'U', 'U', 'U', 'U', 'U', 'U', 'U', 'U', 'U', 'U', 'U', 'U', 'U', 'U', 'U', 'U', 'U', 'U', 'U', 'U', 'U', 'U', 'U', 'U', 'U', 'U', 'U', 'U', 'U', 'U', 'R', 'R', 'R', 'R', 'R', 'R', 'R', 'R', 'R', 'R', 'R', 'R', 'R', 'R', 'R', 'R', 'R', 'R', 'R', 'R', 'R', 'R', 'R', 'R', 'R', 'R', 'R', 'R', 'R', 'R', 'R', 'R', 'R', 'R', 'R', 'R', 'R', 'R', 'R', 'R', 'R', 'R', 'R', 'R', 'R', 'R', 'R', 'R', 'R', 'R', 'R', 'R', 'R', 'U', 'U', 'U', 'U', 'U', 'U', 'U', 'U', 'U', 'U', 'U', 'U', 'U', 'U', 'U', 'U', 'U', 'U', 'U', 'U', 'U', 'U', 'U', 'U', 'U', 'U', 'U', 'U', 'U', 'U', 'U', 'U', 'U', 'U', 'U', 'U', 'U', 'U', 'U', 'U', 'U', 'U', 'U', 'U', 'U', 'U', 'U', 'U', 'U', 'U', 'U', 'U', 'U', 'U', 'U', 'U', 'U', 'U', 'U', 'U', 'U', 'U', 'U', 'U', 'U', 'U', 'U', 'U', 'U', 'U', 'U', 'U', 'U', 'U', 'U', 'U', 'R', 'R', 'R', 'R', 'R', 'R', 'R', 'R', 'R', 'R', 'R', 'R', 'R', 'R', 'R', 'R', 'R', 'R', 'R', 'R', 'R', 'R', 'R', 'R', 'R', 'R', 'R', 'R', 'R', 'R', 'R', 'R', 'R', 'R', 'R', 'R', 'R', 'U', 'U', 'U', 'U', 'U', 'U', 'U', 'U', 'U', 'U', 'U', 'U', 'U', 'U', 'U', 'U', 'U', 'U', 'U', 'U', 'U', 'U', 'U', 'U', 'U', 'U', 'R', 'R', 'R', 'R', 'R', 'R', 'U', 'R', 'R', 'R', 'R', 'R', 'R', 'R', 'R', 'R', 'R', 'R', 'R', 'R', 'R', 'R', 'R', 'R', 'R', 'R', 'R', 'R', 'R', 'R', 'R', 'R', 'R', 'R', 'R', 'R', 'U', 'U', 'U', 'U', 'U', 'U', 'U', 'U', 'U', 'U', 'U', 'U', 'U', 'U', 'U', 'U', 'U', 'U', 'U', 'U', 'U', 'U', 'U', 'U', 'U', 'U', 'U', 'U', 'U', 'U', 'U', 'U', 'U', 'U', 'U', 'U', 'U', 'U', 'U', 'U', 'U', 'U', 'U', 'U', 'U', 'U', 'U', 'U', 'U', 'U', 'U', 'U', 'U', 'U', 'U', 'U', 'U', 'U', 'U', 'U', 'U', 'U', 'U', 'U', 'U', 'U', 'U', 'U', 'U', 'R', 'R', 'R', 'R', 'R', 'R', 'R', 'R', 'R', 'R', 'R', 'R', 'R', 'R', 'R', 'R', 'R', 'R', 'R', 'R', 'R', 'R', 'U', 'U', 'U', 'U', 'U', 'U', 'U', 'U', 'U', 'U', 'U', 'U', 'U', 'U', 'U', 'U', 'U', 'U', 'U', 'U', 'U', 'U', 'U', 'U', 'U', 'U', 'U', 'U', 'U', 'R', 'R', 'R', 'R', 'R', 'R', 'R', 'R', 'R', 'R', 'R', 'R', 'R', 'R', 'U', 'U', 'U', 'U', 'U', 'U', 'U', 'U', 'U', 'U', 'U', 'U', 'U', 'U', 'U', 'U', 'U', 'U', 'U', 'U', 'U', 'U', 'U', 'U', 'U', 'U', 'U', 'R', 'R', 'R', 'R', 'R', 'R', 'R', 'R', 'R', 'R', 'R', 'R', 'R', 'R', 'R', 'R', 'R', 'R', 'U', 'U', 'U', 'U', 'U', 'U', 'U', 'U', 'U', 'U', 'U', 'U', 'U', 'U', 'U', 'U', 'U', 'U', 'U', 'U', 'U', 'U', 'U', 'U', 'U', 'U', 'U', 'U', 'U', 'U', 'U', 'U', 'U', 'U', 'U', 'U', 'U', 'R', 'R', 'R', 'U', 'U', 'U', 'U', 'U', 'U', 'U', 'U', 'U', 'U', 'U', 'U', 'U', 'U', 'U', 'U', 'U', 'U', 'U', 'U', 'U', 'U', 'U', 'U', 'U', 'U', 'U', 'U', 'R', 'R', 'R', 'R', 'R', 'R', 'R', 'R', 'R', 'U', 'U', 'U', 'U', 'U', 'U', 'R', 'R', 'R', 'R', 'U', 'U', 'U', 'U', 'R', 'R', 'R', 'R', 'R', 'R', 'R', 'R', 'R', 'R', 'R', 'R', 'R', 'R', 'R', 'R', 'R', 'R', 'R', 'R', 'R', 'R', 'R', 'R', 'R', 'U', 'U', 'U', 'U', 'U', 'U', 'U', 'U', 'U', 'U', 'U', 'U', 'U', 'U', 'U', 'U', 'U', 'U', 'U', 'U', 'U', 'U', 'U', 'U', 'U', 'U', 'U', 'U', 'U', 'R', 'R', 'R', 'R', 'R', 'R', 'R', 'R', 'R', 'R', 'R', 'R', 'R', 'R', 'R', 'R', 'R', 'R', 'R', 'R', 'R', 'R', 'R', 'R', 'R', 'R', 'R', 'R', 'R', 'R', 'R', 'R', 'R', 'R', 'R', 'R', 'R', 'R', 'R', 'R', 'R', 'R', 'R', 'R', 'R', 'R', 'R', 'R', 'R', 'R', 'R', 'R', 'R', 'R', 'R', 'R', 'R', 'R', 'R', 'R', 'R', 'U', 'U', 'U', 'U', 'U', 'U', 'U', 'U', 'U', 'U', 'U', 'U', 'U', 'U', 'U', 'U', 'U', 'U', 'U', 'U', 'U', 'U', 'U', 'U', 'U', 'U', 'U', 'U', 'U', 'U', 'U', 'U', 'U', 'U', 'U', 'U', 'U', 'U', 'U', 'U', 'U', 'U', 'U', 'U', 'U', 'R', 'R', 'R', 'R', 'R', 'R', 'R', 'R', 'R', 'R', 'R', 'R', 'R', 'R', 'R', 'R', 'R', 'R', 'R', 'R', 'R', 'R', 'R', 'R', 'R', 'R', 'R', 'R', 'R', 'R', 'R', 'R', 'R', 'U', 'U', 'U', 'U', 'U', 'U', 'U', 'U', 'U', 'U', 'R', 'R', 'R', 'R', 'R', 'R', 'R', 'R', 'U', 'U', 'U', 'U', 'R', 'R', 'R', 'R', 'R', 'R', 'R', 'R', 'R', 'R', 'R', 'R', 'R', 'R', 'R', 'R', 'R', 'R', 'R', 'R', 'U', 'U', 'U', 'U', 'U', 'U', 'U', 'U', 'U', 'U', 'U', 'U', 'U', 'U', 'U', 'U', 'U', 'R', 'R', 'R', 'R', 'R', 'R', 'U', 'U', 'U', 'U', 'U', 'U', 'U', 'U', 'U', 'U', 'U', 'U', 'U', 'U', 'U', 'U', 'U', 'U', 'U', 'U', 'U', 'U', 'U', 'U', 'U', 'U', 'U', 'U', 'U', 'U', 'U', 'U', 'U', 'U', 'U', 'U', 'R', 'R', 'R', 'R', 'U', 'U', 'U', 'U', 'U', 'U', 'U', 'U', 'U', 'U', 'U', 'U', 'U', 'U', 'R', 'R', 'R', 'U', 'U', 'U', 'U', 'U', 'U', 'R', 'R', 'R', 'R', 'R', 'R', 'R', 'R', 'R', 'R', 'R', 'R', 'R', 'R', 'R', 'R', 'R', 'U', 'U', 'U', 'U', 'U', 'U', 'U', 'U', 'U', 'U', 'U', 'U', 'U', 'U', 'U', 'U', 'U', 'U', 'U', 'U', 'U', 'U', 'R', 'R', 'R', 'R', 'R', 'R', 'R', 'R', 'R', 'R', 'R', 'R', 'R', 'R', 'U', 'U', 'U', 'U', 'U', 'U', 'U', 'U', 'U', 'U', 'R', 'R', 'R', 'R', 'R', 'R', 'R', 'U', 'R', 'R', 'R', 'R', 'R', 'R', 'R', 'R', 'R', 'R', 'R', 'R', 'R', 'R', 'R', 'R', 'R', 'R', 'R', 'R', 'R', 'R', 'R', 'R', 'R', 'R', 'R', 'R', 'R', 'R', 'U', 'U', 'U', 'U', 'U', 'U', 'U', 'U', 'R', 'R', 'R', 'R', 'R', 'R', 'R', 'R', 'R', 'R', 'R', 'R', 'R', 'R', 'R', 'R', 'R', 'R', 'R', 'R', 'R', 'R', 'R', 'R', 'R', 'R', 'R', 'R', 'R', 'R', 'R', 'R', 'R', 'R', 'R', 'R', 'R', 'R', 'R', 'R', 'R', 'R', 'R', 'R', 'U', 'U', 'U', 'U', 'U', 'U', 'U', 'U', 'U', 'U', 'U', 'U', 'U', 'U', 'U', 'U', 'U', 'R', 'R', 'R', 'R', 'U', 'U', 'U', 'U', 'R', 'R', 'U', 'U', 'R', 'R', 'R', 'R', 'R', 'R', 'R', 'R', 'R', 'R', 'R', 'R', 'U', 'U', 'U', 'U', 'U', 'U', 'U', 'U', 'U', 'U', 'R', 'R', 'R', 'R', 'R', 'R', 'R', 'R', 'R', 'R', 'R', 'R', 'R', 'R', 'R', 'R', 'R', 'R', 'R', 'R', 'R', 'R', 'R', 'R', 'R', 'R', 'R', 'R', 'R', 'R', 'R', 'R', 'R', 'R', 'R', 'U', 'U', 'U', 'U', 'U', 'U', 'R', 'R', 'R', 'R', 'R', 'R', 'R', 'R', 'R', 'R', 'R', 'R', 'R', 'R', 'R', 'R', 'R', 'R', 'R', 'R', 'R', 'R', 'R', 'R', 'U', 'U', 'U', 'U', 'R', 'R', 'R', 'R', 'R', 'R', 'R', 'R', 'R', 'R', 'R', 'R', 'R', 'R', 'R', 'R', 'R', 'R', 'R', 'R', 'R', 'U', 'U', 'U', 'U', 'U', 'U', 'U', 'U', 'U', 'U', 'U', 'U', 'U', 'R', 'R', 'R', 'R', 'R', 'R', 'R', 'R', 'R', 'R', 'R', 'R', 'R', 'R', 'R', 'R', 'R', 'R', 'R', 'R', 'U', 'U', 'U', 'U', 'U', 'R', 'R', 'R', 'R', 'R', 'R', 'U', 'U', 'U', 'R', 'R', 'R', 'R', 'R', 'R', 'R', 'R', 'R', 'R', 'R', 'R', 'U', 'U', 'U', 'U', 'R', 'R', 'R', 'R', 'R', 'R', 'R', 'R', 'U', 'U', 'U', 'U', 'U', 'U', 'U', 'U', 'U', 'U', 'U', 'R', 'R', 'R', 'R', 'R', 'R', 'R', 'U', 'U', 'U', 'U', 'U', 'U', 'U', 'U', 'U', 'U', 'R', 'R', 'R', 'R', 'R', 'R', 'R', 'R', 'R', 'R', 'R', 'U', 'U', 'U', 'U', 'R', 'R', 'R', 'R', 'R', 'R', 'R', 'R', 'R', 'R', 'R', 'R', 'R', 'R', 'R', 'R', 'R', 'R', 'R', 'R', 'U', 'U', 'U', 'U', 'R', 'R', 'R', 'R', 'R', 'R', 'R', 'R', 'R', 'R', 'R', 'R', 'R', 'R', 'R', 'R', 'R', 'R', 'R', 'R', 'R', 'R', 'R', 'R', 'R', 'R', 'R', 'R', 'R', 'R', 'R', 'R', 'U', 'U', 'U', 'U', 'U', 'U', 'R', 'R', 'R', 'R', 'R', 'R', 'R', 'R', 'R', 'R', 'R', 'R', 'R', 'R', 'R', 'R', 'R', 'R', 'R', 'R', 'R', 'R', 'R', 'R', 'R', 'R', 'U', 'U', 'U', 'U', 'R', 'R', 'R', 'R', 'R', 'R', 'R', 'R', 'R', 'R', 'R', 'R', 'R', 'R', 'R', 'R', 'R', 'R', 'R', 'R', 'R', 'R', 'R', 'R', 'U', 'U', 'R', 'R', 'R', 'R', 'R', 'R', 'R', 'R', 'R', 'U', 'U', 'U', 'U', 'U', 'U', 'U', 'U', 'U', 'U', 'U', 'U', 'U', 'U', 'U', 'U', 'U', 'U', 'U', 'U', 'U', 'U', 'U', 'U', 'U', 'U', 'U', 'U', 'U', 'R', 'R', 'R', 'R', 'R', 'R', 'R', 'R', 'R', 'R', 'R', 'R', 'R', 'U', 'U', 'U', 'U', 'U', 'U', 'U', 'U', 'R', 'R', 'R', 'R', 'R', 'U', 'R', 'R', 'R', 'R', 'R', 'R', 'R', 'U', 'U', 'U', 'R', 'R', 'R', 'R', 'U', 'U', 'U', 'U', 'U', 'U', 'U', 'U', 'U', 'U', 'U', 'U', 'U', 'U', 'U', 'U', 'U', 'U', 'U', 'U', 'U', 'U', 'U', 'U', 'U', 'U', 'U', 'U', 'U', 'U', 'U', 'U', 'U', 'U', 'U', 'U', 'U', 'U', 'U', 'U', 'U', 'U', 'U', 'U', 'U', 'U', 'U', 'U', 'U', 'U', 'U', 'U', 'U', 'U', 'U', 'U', 'U', 'U', 'U', 'U', 'U', 'U', 'U', 'U', 'U', 'U', 'U', 'U', 'U', 'U', 'U', 'U', 'U', 'U', 'U', 'U', 'U', 'U', 'U', 'U', 'U', 'U', 'U', 'U', 'R', 'R', 'R', 'R', 'R', 'R', 'R', 'R', 'U', 'U', 'U', 'R', 'R', 'R', 'R', 'R', 'R', 'R', 'R', 'R', 'R', 'R', 'R', 'R', 'R', 'R', 'R', 'R', 'R', 'R', 'R', 'R', 'U', 'U', 'U', 'U', 'U', 'U', 'U', 'U', 'U', 'U', 'U', 'U', 'U', 'U', 'U', 'U', 'U', 'U', 'U', 'U', 'U', 'U', 'U', 'U', 'U', 'U', 'U', 'U', 'U', 'U', 'U', 'U', 'U', 'U', 'U', 'U', 'U', 'U', 'U', 'U', 'U', 'U', 'U', 'R', 'R', 'R', 'R', 'R', 'R', 'R', 'R', 'R', 'R', 'R', 'R', 'R', 'R', 'R', 'R', 'R', 'R', 'R', 'R', 'R', 'R', 'R', 'R', 'R', 'R', 'R', 'R', 'R', 'R', 'R', 'R', 'R', 'R', 'R', 'R', 'R', 'U', 'U', 'U', 'U', 'U', 'U', 'U', 'U', 'U', 'U', 'U', 'U', 'U', 'R', 'R', 'R', 'R', 'R', 'R', 'U', 'R', 'U', 'R', 'R', 'R', 'R', 'R', 'U', 'U', 'U', 'U', 'U', 'U', 'U', 'U', 'U', 'U', 'U', 'U', 'U', 'U', 'U', 'U', 'U', 'U', 'U', 'U', 'R', 'R', 'R', 'R', 'R', 'R', 'R', 'R', 'R', 'R', 'R', 'R', 'R', 'R', 'R', 'R', 'R', 'R', 'R', 'R', 'R', 'R', 'R', 'R', 'R', 'R', 'U', 'U', 'U', 'U', 'U', 'U', 'U', 'U', 'U', 'R', 'R', 'R', 'R', 'R', 'R', 'R', 'R', 'R', 'R', 'U', 'U', 'U', 'U', 'U', 'U', 'R', 'R', 'R', 'R', 'R', 'R', 'R', 'R', 'R', 'U', 'U', 'R', 'U', 'R', 'R', 'R', 'R', 'R', 'R', 'R', 'R', 'R', 'R', 'R', 'R', 'R', 'R', 'U', 'U', 'U', 'U', 'U', 'U', 'U', 'U', 'U', 'U', 'U', 'U', 'U', 'U', 'U', 'U', 'U', 'R', 'R', 'R', 'R', 'R', 'R', 'R', 'R', 'R', 'R', 'R', 'R', 'R', 'R', 'R', 'R', 'R', 'R', 'R', 'R', 'R', 'R', 'R', 'R', 'R', 'R', 'U', 'U', 'U', 'U', 'U', 'U', 'U', 'U', 'U', 'U', 'U', 'U', 'U', 'R', 'R', 'R', 'R', 'R', 'R', 'R', 'R', 'R', 'R', 'U', 'U', 'U', 'R', 'R', 'R', 'R', 'R', 'R', 'R', 'U', 'U', 'U', 'R', 'R', 'R', 'R', 'R', 'R', 'R', 'R', 'R', 'R', 'R', 'R', 'R', 'R', 'R', 'R', 'R', 'R', 'R', 'R', 'R', 'U', 'U', 'U', 'U', 'U', 'U', 'U', 'U', 'U', 'U', 'U', 'U', 'U', 'U', 'U', 'U', 'U', 'U', 'U', 'U', 'U', 'U', 'U', 'U', 'U', 'U', 'U', 'U', 'U', 'U', 'U', 'U', 'U', 'U', 'U', 'U', 'U', 'U', 'U', 'U', 'U', 'U', 'U', 'U', 'U', 'U', 'U', 'U', 'R', 'R', 'R', 'R', 'R', 'R', 'R', 'R', 'R', 'R', 'R', 'R', 'R', 'R', 'R', 'R', 'R', 'R', 'R', 'R', 'R', 'R', 'R', 'R', 'R', 'R', 'R', 'R', 'R', 'R', 'R', 'R', 'R', 'R', 'R', 'R', 'R', 'R', 'R', 'R', 'R', 'R', 'R', 'R', 'R', 'R', 'R', 'R', 'R', 'R', 'R', 'R', 'R', 'R', 'U', 'U', 'U', 'U', 'U', 'U', 'U', 'U', 'U', 'U', 'U', 'U', 'R', 'R', 'R', 'R', 'R', 'R', 'R', 'R', 'R', 'R', 'R', 'R', 'R', 'R', 'R', 'R', 'U', 'U', 'U', 'U', 'U', 'U', 'R', 'R', 'R', 'R', 'R', 'R', 'R', 'R', 'R', 'R', 'R', 'R', 'U', 'U', 'R', 'R', 'R', 'R', 'R', 'R', 'R', 'R', 'R', 'R', 'R', 'R', 'R', 'R', 'R', 'R', 'R', 'R', 'R', 'R', 'U', 'U', 'U', 'R', 'R', 'R', 'R', 'R', 'R', 'R', 'R', 'R', 'R', 'R', 'R', 'R', 'R', 'R', 'R', 'R', 'R', 'R', 'R', 'R', 'R', 'R', 'R', 'R', 'R', 'R', 'R', 'R', 'R', 'R', 'R', 'R', 'R', 'R', 'R', 'U', 'U', 'U', 'U', 'U', 'R', 'R', 'R', 'R', 'R', 'R', 'R', 'R', 'R', 'R', 'R', 'R', 'R', 'R', 'R', 'R', 'R', 'R', 'R', 'R', 'R', 'U', 'R', 'R', 'R', 'R', 'R', 'R', 'R', 'R', 'R', 'U', 'U', 'R', 'R', 'R', 'R', 'R', 'R', 'R', 'R', 'R', 'R', 'U', 'U', 'U', 'U', 'U', 'U', 'R', 'R', 'R', 'R', 'R', 'R', 'R', 'R', 'R', 'R', 'R', 'R', 'R', 'R', 'R', 'R', 'R', 'R', 'R', 'R', 'R', 'U', 'U', 'U', 'U', 'U', 'U', 'R', 'R', 'R', 'R', 'R', 'R', 'U', 'U', 'R', 'R', 'R', 'R', 'R', 'R', 'R', 'R', 'U', 'R', 'R', 'R', 'R', 'R', 'R', 'R', 'R', 'R', 'R', 'R', 'R', 'R', 'R', 'R', 'R', 'U', 'U', 'U', 'U', 'U', 'U', 'U', 'U', 'U', 'U', 'U', 'U', 'U', 'U', 'U', 'U', 'R', 'R', 'R', 'R', 'R', 'R', 'R', 'R', 'R', 'R', 'R', 'R', 'R', 'R', 'R', 'R', 'R', 'R', 'R', 'U', 'U', 'U', 'U', 'U', 'U', 'U', 'U', 'U', 'U', 'U', 'U', 'U', 'U', 'U', 'R', 'R', 'R', 'R', 'R', 'R', 'R', 'R', 'U', 'U', 'U', 'U', 'U', 'U', 'U', 'U', 'U', 'R', 'R', 'R', 'R', 'R', 'R', 'R', 'R', 'R', 'R', 'R', 'U', 'U', 'U', 'R', 'R', 'R', 'R', 'R', 'R', 'R', 'R', 'R', 'R', 'R', 'R', 'R', 'R', 'R', 'R', 'R', 'R', 'R', 'R', 'U', 'U', 'U', 'U', 'U', 'U', 'U', 'U', 'U', 'U', 'U', 'U', 'U', 'U', 'U', 'U', 'U', 'U', 'U', 'U', 'U', 'U', 'U', 'U', 'U', 'U', 'U', 'U', 'U', 'U', 'U', 'U', 'U', 'U', 'U', 'U', 'U', 'U', 'U', 'U', 'U', 'U', 'U', 'U', 'U', 'U', 'U', 'U', 'U', 'U', 'U', 'U', 'R', 'R', 'R', 'R', 'R', 'R', 'R', 'R', 'R', 'R', 'R', 'R', 'R', 'R', 'R', 'R', 'R', 'R', 'R', 'R', 'R', 'R', 'R', 'R', 'R', 'R', 'R', 'R', 'R', 'R', 'R', 'R', 'R', 'R', 'R', 'R', 'R', 'R', 'R', 'U', 'U', 'U', 'U', 'U', 'U', 'U', 'U', 'U', 'U', 'U', 'U', 'U', 'U', 'U', 'U', 'U', 'U', 'U', 'U', 'U', 'R', 'R', 'R', 'R', 'R', 'R', 'R', 'R', 'R', 'R', 'R', 'R', 'R', 'R', 'R', 'R', 'R', 'R', 'R', 'R', 'R', 'R', 'R', 'R', 'R', 'R', 'R', 'R', 'R', 'R', 'R', 'R', 'R', 'U', 'U', 'U', 'U', 'U', 'U', 'U', 'U', 'U', 'U', 'U', 'U', 'U', 'U', 'U', 'U', 'U', 'U', 'R', 'R', 'R', 'R', 'R', 'R', 'R', 'R', 'R', 'R', 'R', 'R', 'U', 'U', 'U', 'U', 'U', 'U', 'U', 'U', 'U', 'U', 'U', 'U', 'U', 'U', 'U', 'U', 'U', 'U', 'U', 'U', 'U', 'U', 'U', 'U', 'R', 'R', 'U', 'U', 'U', 'U', 'U', 'U', 'U', 'U', 'U', 'U', 'U', 'U', 'U', 'U', 'U', 'U', 'U', 'U', 'U', 'U', 'U', 'U', 'U', 'U', 'U', 'U', 'U', 'U', 'U', 'U', 'U', 'U', 'R', 'R', 'R', 'R', 'U', 'U', 'U', 'U', 'U', 'U', 'U', 'U', 'U', 'U', 'R', 'R', 'R', 'R', 'R', 'R', 'R', 'R', 'R', 'R', 'R', 'R', 'R', 'R', 'R', 'R', 'U', 'U', 'U', 'U', 'U', 'U', 'U', 'R', 'R', 'R', 'R', 'R', 'R', 'R', 'R', 'R', 'R', 'R', 'R', 'R', 'R', 'R', 'R', 'R', 'R', 'R', 'R', 'R', 'R', 'R', 'U', 'U', 'U', 'U', 'U', 'U', 'U', 'U', 'U', 'U', 'U', 'U', 'U', 'U', 'U', 'U', 'U', 'U', 'U', 'U', 'U', 'U', 'U', 'U', 'U', 'U', 'U', 'R', 'R', 'R', 'R', 'R', 'R', 'R', 'R', 'R', 'R', 'R', 'R', 'R', 'R', 'R', 'R', 'R', 'R', 'R', 'R', 'U', 'U', 'U', 'U', 'U', 'U', 'U', 'U', 'U', 'U', 'R', 'R', 'R', 'R', 'R', 'R', 'U', 'U', 'U', 'R', 'R', 'R', 'R', 'R', 'R', 'R', 'R', 'R', 'R', 'R', 'R', 'R', 'R', 'R', 'R', 'R', 'R', 'R', 'U', 'U', 'U', 'U', 'U', 'U', 'U', 'U', 'U', 'U', 'U', 'U', 'U', 'U', 'U', 'U', 'U', 'U', 'U', 'U', 'U', 'U', 'U', 'U', 'U', 'U', 'U', 'U', 'U', 'U', 'U', 'U', 'U', 'U', 'U', 'U', 'U', 'U', 'U', 'U', 'U', 'U', 'U', 'U', 'U', 'U', 'R', 'R', 'R', 'R', 'R', 'R', 'R', 'R', 'R', 'R', 'R', 'R', 'R', 'R', 'R', 'R', 'R', 'R', 'R', 'R', 'R', 'U', 'U', 'U', 'U', 'U', 'U', 'U', 'U', 'U', 'U', 'U', 'U', 'U', 'U', 'U', 'U', 'U', 'U', 'U', 'U', 'U', 'U', 'U', 'U', 'U', 'U', 'U', 'U', 'U', 'R', 'R', 'R', 'R', 'R', 'R', 'R', 'R', 'R', 'R', 'R', 'R', 'R', 'R', 'R', 'R', 'R', 'R', 'R', 'R', 'R', 'U', 'U', 'U', 'U', 'U', 'U', 'U', 'U', 'U', 'U', 'U', 'U', 'U', 'U', 'U', 'U', 'U', 'U', 'U', 'U', 'U', 'U', 'R', 'R', 'R', 'R', 'R', 'R', 'R', 'R', 'R', 'R', 'R', 'R', 'R', 'R', 'U', 'U', 'U', 'U', 'U', 'U', 'R', 'R', 'R', 'R', 'R', 'R', 'U', 'U', 'U', 'U', 'U', 'U', 'U', 'U', 'U', 'U', 'U', 'U', 'U', 'U', 'R', 'R', 'R', 'R', 'R', 'R', 'R', 'R', 'R', 'R', 'R', 'R', 'R', 'R', 'U', 'U', 'U', 'R', 'R', 'R', 'U', 'U', 'U', 'U', 'U', 'U', 'U', 'U', 'R', 'R', 'R', 'R', 'R', 'U', 'U', 'U', 'R', 'R', 'R', 'R', 'R', 'R', 'R', 'U', 'U', 'U', 'U', 'R', 'R', 'R', 'R', 'R', 'R', 'R', 'R', 'U', 'U', 'U', 'R', 'R', 'R', 'R', 'R', 'R', 'R', 'R', 'R', 'R', 'R', 'R', 'R', 'R', 'R', 'R', 'R', 'R', 'R', 'R', 'R', 'R', 'R', 'R', 'R', 'R', 'R', 'R', 'R', 'R', 'U', 'U', 'U', 'U', 'U', 'R', 'R', 'R', 'R', 'R', 'R', 'R', 'R', 'R', 'R', 'R', 'U', 'U', 'R', 'R', 'R', 'R', 'R', 'R', 'R', 'R', 'U', 'R', 'R', 'R', 'R', 'R', 'R', 'R', 'R', 'R', 'R', 'R', 'R', 'R', 'R', 'R', 'R', 'R', 'R', 'R', 'U', 'U', 'U', 'U', 'U', 'U', 'U', 'U', 'U', 'U', 'U', 'U', 'U', 'U', 'U', 'U', 'U', 'U', 'U', 'U', 'U', 'U', 'U', 'U', 'U', 'U', 'U', 'U', 'U', 'U', 'U', 'U', 'U', 'U', 'U', 'U', 'U', 'U', 'U', 'U', 'U', 'U', 'U', 'U', 'U', 'U', 'U', 'U', 'U', 'U', 'U', 'U', 'U', 'U', 'U', 'U', 'U', 'U', 'U', 'U', 'U', 'U', 'U', 'U', 'U', 'U', 'U', 'U', 'U', 'U', 'U', 'U', 'U', 'U', 'U', 'U', 'U', 'U', 'U', 'U', 'U', 'U', 'U', 'U', 'U', 'U', 'R', 'R', 'R', 'R', 'R', 'R', 'R', 'R', 'R', 'R', 'R', 'R', 'R', 'R', 'R', 'R', 'R', 'R', 'R', 'R', 'R', 'R', 'R', 'R', 'U', 'U', 'U', 'U', 'U', 'U', 'U', 'U', 'U', 'U', 'U', 'U', 'U', 'U', 'U', 'U', 'U', 'U', 'R', 'R', 'R', 'R', 'R', 'R', 'R', 'R', 'R', 'R', 'R', 'R', 'U', 'U', 'U', 'U', 'R', 'R', 'R', 'R', 'R', 'R', 'R', 'R', 'R', 'R', 'R', 'U', 'R', 'R', 'R', 'R', 'R', 'R', 'R', 'R', 'R', 'R', 'R', 'R', 'R', 'R', 'R', 'R', 'U', 'U', 'U', 'U', 'U', 'U', 'U', 'U', 'U', 'U', 'U', 'U', 'U', 'U', 'U', 'U', 'U', 'U', 'U', 'U', 'U', 'U', 'U', 'U', 'R', 'R', 'R', 'R', 'R', 'R', 'R', 'R', 'R', 'R', 'R', 'R', 'R', 'R', 'R', 'R', 'R', 'R', 'R', 'R', 'R', 'R', 'R', 'R', 'R', 'R', 'R', 'R', 'U', 'U', 'U', 'U', 'R', 'R', 'R', 'R', 'R', 'R', 'R', 'R', 'R', 'U', 'U', 'U', 'U', 'R', 'R', 'R', 'R', 'R', 'R', 'R', 'R', 'R', 'R', 'R', 'R', 'R', 'R', 'R', 'R', 'R', 'R', 'R', 'R', 'R', 'R', 'R', 'R', 'R', 'R', 'R', 'R', 'R', 'R', 'R', 'R', 'R', 'R', 'R', 'U', 'U', 'U', 'U', 'U', 'U', 'U', 'U', 'U', 'U', 'U', 'U', 'U', 'U', 'U', 'U', 'U', 'U', 'U', 'U', 'U', 'U', 'U', 'U', 'U', 'U', 'U', 'U', 'U', 'U', 'R', 'R', 'R', 'R', 'R', 'R', 'R', 'R', 'R', 'R', 'R', 'R', 'R', 'R', 'R', 'R', 'R', 'R', 'R', 'R', 'R', 'R', 'R', 'R', 'R', 'R', 'R', 'R', 'R', 'R', 'R', 'R', 'R', 'R', 'R', 'R', 'R', 'R', 'R', 'R', 'R', 'R', 'R', 'R', 'R', 'R', 'R', 'R', 'R', 'R', 'R', 'R', 'R', 'R', 'R', 'R', 'R', 'R', 'R', 'R', 'R', 'R', 'R', 'U', 'U', 'U', 'U', 'U', 'U', 'U', 'U', 'U', 'U', 'U', 'U', 'U', 'U', 'U', 'U', 'U', 'U', 'U', 'U', 'U', 'U', 'U', 'R', 'R', 'R', 'R', 'R', 'R', 'R', 'R', 'R', 'R', 'R', 'R', 'R', 'R', 'R', 'R', 'R', 'R', 'R', 'R', 'R', 'R', 'R', 'R', 'R', 'R', 'R', 'R', 'R', 'R', 'R', 'R', 'R', 'R', 'R', 'R', 'R', 'R', 'R', 'R', 'R', 'R', 'R', 'R', 'R', 'R', 'R', 'U', 'U', 'U', 'U', 'U', 'U', 'U', 'U', 'U', 'U', 'U', 'U', 'U', 'U', 'U', 'U', 'U', 'U', 'U', 'U', 'U', 'U', 'R', 'R', 'R', 'R', 'R', 'R', 'R', 'R', 'R', 'R', 'R', 'R', 'R', 'R', 'R', 'U', 'U', 'U', 'U', 'U', 'U', 'U', 'U', 'U', 'U', 'R', 'R', 'R', 'R', 'R', 'R', 'R', 'R', 'R', 'R', 'R', 'R', 'R', 'U', 'U', 'U', 'R', 'R', 'R', 'R', 'R', 'R', 'R', 'R', 'R', 'R', 'R', 'U', 'U', 'R', 'R', 'R', 'U', 'U', 'U', 'U', 'U', 'U', 'U', 'U', 'U', 'U', 'U', 'U', 'U', 'U', 'U', 'U', 'U', 'U', 'U', 'U', 'U', 'U', 'U', 'U', 'U', 'U', 'U', 'U', 'U', 'U', 'U', 'U', 'U', 'U', 'U', 'U', 'U', 'U', 'U', 'U', 'U', 'U', 'U', 'U', 'U', 'U', 'U', 'U', 'U', 'U', 'U', 'U', 'U', 'U', 'U', 'U', 'U', 'U', 'U', 'U', 'U', 'U', 'U', 'U', 'U', 'U', 'U', 'U', 'U', 'U', 'U', 'U', 'U', 'U', 'U', 'U', 'U', 'U', 'U', 'U', 'U', 'U', 'U', 'R', 'R', 'U', 'R', 'R', 'R', 'U', 'U', 'R', 'R', 'R', 'R', 'R', 'R', 'R', 'R', 'R', 'R', 'R', 'R', 'R', 'R', 'R', 'R', 'R', 'R', 'R', 'R', 'R', 'R', 'R', 'R', 'R', 'R', 'R', 'R', 'R', 'R', 'R', 'R', 'R', 'R', 'R', 'R', 'U', 'U', 'U', 'U', 'U', 'U', 'U', 'U', 'U', 'U', 'U', 'U', 'U', 'U', 'U', 'U', 'U', 'U', 'U', 'U', 'U', 'U', 'U', 'U', 'U', 'U', 'U', 'U', 'U', 'U', 'U', 'U', 'U', 'U', 'U', 'R', 'R', 'R', 'R', 'R', 'R', 'R', 'R', 'R', 'R', 'R', 'R', 'R', 'R', 'R', 'R', 'R', 'R', 'R', 'R', 'R', 'R', 'R', 'U', 'U', 'U', 'U', 'U', 'U', 'U', 'U', 'U', 'U', 'U', 'U', 'R', 'R', 'R', 'R', 'R', 'R', 'R', 'R', 'R', 'R', 'R', 'R', 'R', 'U', 'U', 'U', 'U', 'R', 'R', 'R', 'R', 'R', 'R', 'R', 'U', 'R', 'R', 'R', 'R', 'R', 'R', 'R', 'R', 'R', 'R', 'R', 'R', 'R', 'R', 'R', 'R', 'R', 'R', 'R', 'R', 'R', 'U', 'U', 'U', 'R', 'R', 'R', 'R', 'R', 'R', 'R', 'R', 'R', 'R', 'R', 'R', 'R', 'R', 'R', 'R', 'R', 'R', 'R', 'R', 'R', 'R', 'R', 'R', 'R', 'R', 'R', 'U', 'U', 'R', 'R', 'R', 'R', 'R', 'R', 'U', 'U', 'R', 'R', 'R', 'R', 'R', 'R', 'U', 'R', 'R', 'R', 'R', 'R', 'R', 'R', 'R', 'U', 'U', 'U', 'U', 'U', 'U', 'U', 'U', 'U', 'U', 'U', 'U', 'U', 'R', 'R', 'R', 'R', 'R', 'R', 'R', 'R', 'R', 'U', 'U', 'U', 'U', 'U', 'R', 'R', 'R', 'R', 'R', 'R', 'R', 'R', 'R', 'R', 'R', 'R', 'R', 'U', 'U', 'U', 'U', 'R', 'R', 'R', 'R', 'R', 'R', 'R', 'R', 'U', 'R', 'R', 'R', 'R', 'R', 'R', 'R', 'R', 'R', 'R', 'R', 'R', 'R', 'R', 'R', 'R', 'R', 'R', 'R', 'R', 'R', 'R', 'R', 'R', 'R', 'R', 'R', 'R', 'R', 'R', 'R', 'R', 'R', 'R', 'R', 'R', 'R', 'R', 'R', 'R', 'R', 'R', 'R', 'R', 'U', 'U', 'U', 'U', 'U', 'U', 'U', 'U', 'U', 'U', 'U', 'U', 'U', 'U', 'U', 'U', 'U', 'U', 'U', 'U', 'U', 'U', 'U', 'U', 'U', 'U', 'U', 'U', 'U', 'U', 'U', 'U', 'U', 'U', 'U', 'U', 'U', 'U', 'U', 'U', 'U', 'U', 'U', 'U', 'U', 'U', 'U', 'U', 'U', 'U', 'U', 'U', 'U', 'U', 'U', 'U', 'U', 'U', 'U', 'U', 'U', 'U', 'U', 'U', 'U', 'U', 'U', 'U', 'U', 'U', 'U', 'U', 'U', 'R', 'R', 'R', 'R', 'R', 'R', 'R', 'R', 'R', 'R', 'R', 'R', 'R', 'R', 'R', 'R', 'R', 'R', 'R', 'R', 'R', 'R', 'R', 'R', 'R', 'R', 'R', 'R', 'R', 'R', 'R', 'R', 'R', 'R', 'R', 'R', 'R', 'R', 'R', 'R', 'R', 'R', 'R', 'R', 'R', 'R', 'R', 'R', 'R', 'U', 'U', 'U', 'U', 'U', 'U', 'U', 'U', 'U', 'U', 'U', 'U', 'U', 'U', 'U', 'U', 'R', 'R', 'R', 'R', 'R', 'R', 'R', 'R', 'R', 'R', 'R', 'R', 'R', 'R', 'R', 'R', 'R', 'R', 'R', 'R', 'R', 'R', 'R', 'R', 'R', 'R', 'R', 'R', 'R', 'R', 'R', 'R', 'R', 'R', 'R', 'R', 'R', 'R', 'R', 'U', 'U', 'U', 'U', 'U', 'U', 'R', 'R', 'R', 'R', 'R', 'R', 'R', 'R', 'R', 'R', 'R', 'R', 'R', 'R', 'R', 'R', 'R', 'R', 'R', 'R', 'R', 'R', 'R', 'R', 'R', 'R', 'R', 'R', 'R', 'R', 'R', 'U', 'U', 'R', 'R', 'R', 'R', 'R', 'R', 'R', 'R', 'R', 'R', 'R', 'R', 'R', 'R', 'R', 'R', 'R', 'R', 'R', 'R', 'R', 'U', 'U', 'U', 'U', 'U', 'U', 'U', 'U', 'U', 'U', 'U', 'U', 'U', 'U', 'U', 'U', 'U', 'U', 'U', 'U', 'U', 'U', 'U', 'U', 'U', 'U', 'U', 'U', 'R', 'R', 'R', 'R', 'R', 'R', 'R', 'R', 'R', 'R', 'R', 'R', 'R', 'R', 'R', 'R', 'R', 'R', 'R', 'R', 'R', 'R', 'U', 'U', 'U', 'U', 'U', 'U', 'U', 'U', 'U', 'U', 'U', 'U', 'U', 'U', 'U', 'U', 'U', 'R', 'R', 'R', 'R', 'R', 'R', 'R', 'R', 'R', 'U', 'U', 'U', 'U', 'U', 'U', 'U', 'U', 'U', 'U', 'U', 'U', 'U', 'U', 'R', 'R', 'R', 'R', 'U', 'U', 'R', 'R', 'R', 'R', 'R', 'R', 'R', 'R', 'R', 'R', 'R', 'R', 'R', 'R', 'R', 'U', 'U', 'U', 'U', 'U', 'U', 'U', 'U', 'R', 'R', 'R', 'R', 'R', 'R', 'R', 'R', 'R', 'R', 'R', 'R', 'R', 'R', 'R', 'R', 'R', 'R', 'R', 'U', 'U', 'U', 'U', 'U', 'U', 'U', 'U', 'U', 'R', 'R', 'R', 'R', 'R', 'R', 'R', 'R', 'R', 'R', 'R', 'R', 'R', 'U', 'R', 'R', 'R', 'R', 'R', 'R', 'R', 'R', 'R', 'R', 'R', 'R', 'R', 'R', 'R', 'R', 'R', 'R', 'R', 'R', 'R', 'R', 'R', 'R', 'R', 'R', 'R', 'R', 'R', 'R', 'R', 'R', 'R', 'R', 'R', 'R', 'R', 'R', 'R', 'R', 'R', 'R', 'R', 'R', 'R', 'R', 'R', 'R', 'R', 'R', 'R', 'R', 'R', 'R', 'R', 'R', 'R', 'R', 'R', 'R', 'R', 'R', 'R', 'R', 'R', 'R', 'R', 'R', 'R', 'R', 'R', 'R', 'R', 'R', 'R', 'R', 'R', 'R', 'R', 'R', 'R', 'R', 'R', 'R', 'R', 'R', 'R', 'R', 'R', 'R', 'R', 'R', 'R', 'R', 'R', 'R', 'R', 'R', 'R', 'R', 'R', 'R', 'R', 'R', 'R', 'R', 'R', 'R', 'R', 'R', 'R', 'R', 'R', 'R', 'R', 'R', 'R', 'R', 'R', 'R', 'R', 'R', 'R', 'R', 'R', 'R', 'R', 'R', 'R', 'R', 'R', 'R', 'R', 'R', 'R', 'R', 'R', 'R', 'R', 'R', 'R', 'R', 'R', 'R', 'R', 'R', 'R', 'R', 'R', 'R', 'R', 'R', 'R', 'R', 'R', 'R', 'R', 'R', 'R', 'R', 'R', 'R', 'R', 'R', 'R', 'R', 'R', 'R', 'R', 'R', 'R', 'R', 'R', 'R', 'R', 'R', 'R', 'R', 'R', 'R', 'R', 'R', 'R', 'R', 'R', 'R', 'R', 'R', 'R', 'R', 'R', 'R', 'R', 'R', 'R', 'R', 'R', 'R', 'R', 'R', 'R', 'R', 'R', 'R', 'R', 'R', 'R', 'R', 'R', 'R', 'R', 'R', 'R', 'R', 'R', 'R', 'R', 'R', 'R', 'R', 'R', 'R', 'R', 'R', 'R', 'R', 'R', 'R', 'R', 'R', 'R', 'R', 'R', 'R', 'R', 'R', 'R', 'R', 'R', 'R', 'R', 'R', 'R', 'R', 'R', 'R', 'R', 'R', 'R', 'R', 'R', 'R', 'R', 'R', 'R', 'R', 'R', 'R', 'R', 'R', 'R', 'R', 'R', 'R', 'R', 'R', 'R', 'R', 'R', 'R', 'R', 'R', 'R', 'R', 'R', 'R', 'R', 'R', 'R', 'R', 'R', 'R', 'R', 'R', 'R', 'R', 'R', 'R', 'R', 'R', 'R', 'R', 'R', 'R', 'R', 'R', 'R', 'U', 'U', 'U', 'U', 'U', 'U', 'U', 'U', 'U', 'U', 'U', 'U', 'U', 'U', 'U', 'U', 'U', 'U', 'U', 'U', 'U', 'U', 'U', 'U', 'U', 'U', 'U', 'U', 'U', 'U', 'U', 'U', 'U', 'U', 'U', 'U', 'U', 'U', 'U', 'U', 'U', 'U', 'U', 'U', 'U', 'U', 'U', 'U', 'U', 'U', 'U', 'U', 'U', 'U', 'U', 'U', 'U', 'U', 'U', 'U', 'U', 'U', 'U', 'U', 'U', 'U', 'U', 'U', 'U', 'U', 'U', 'U', 'U', 'U', 'U', 'U', 'U', 'U', 'U', 'U', 'U', 'U', 'U', 'U', 'U', 'U', 'U', 'U', 'U', 'U', 'U', 'U', 'U', 'U', 'U', 'U', 'U', 'U', 'U', 'U', 'U', 'U', 'U', 'U', 'U', 'U', 'U', 'U', 'U', 'U', 'U', 'U', 'U', 'U', 'U', 'U', 'U', 'U', 'U', 'U', 'U', 'U', 'U', 'U', 'U', 'U', 'U', 'U', 'U', 'U', 'U', 'U', 'U', 'U', 'U', 'U', 'U', 'U', 'U', 'U', 'U', 'U', 'U', 'U', 'U', 'U', 'U', 'U', 'U', 'U', 'U', 'U', 'U', 'U', 'U', 'U', 'U', 'U', 'U', 'U', 'U', 'U', 'U', 'U', 'U', 'U', 'U', 'U', 'U', 'U', 'U', 'U', 'U', 'U', 'U', 'U', 'U', 'U', 'U', 'U', 'U', 'U', 'U', 'U', 'U', 'U', 'U', 'U', 'U', 'U', 'U', 'U', 'U', 'U', 'U', 'U', 'U', 'U', 'U', 'U', 'U', 'U', 'U', 'U', 'U', 'U', 'U', 'U', 'U', 'U', 'U', 'U', 'U', 'U', 'U', 'U', 'U', 'U', 'U', 'U', 'U', 'U', 'U', 'U', 'U', 'U', 'U', 'U', 'U', 'U', 'U', 'U', 'U', 'U', 'U', 'U', 'U', 'U', 'U', 'U', 'U', 'U', 'U', 'U', 'U', 'U', 'U', 'U', 'U', 'U', 'U', 'U', 'U', 'U', 'U', 'U', 'U', 'U', 'U', 'U', 'U', 'U', 'U', 'U', 'U', 'U', 'U', 'U', 'U', 'U', 'U', 'U', 'U', 'U', 'U', 'U', 'U', 'U', 'U', 'U', 'U', 'U', 'U', 'U', 'U', 'U', 'U', 'U', 'U', 'U', 'U', 'U', 'U', 'U', 'U', 'U', 'U', 'U', 'U', 'U', 'U', 'U', 'U', 'U', 'U', 'U', 'U', 'U', 'U', 'U', 'U', 'U', 'U', 'U', 'U', 'U', 'U', 'U', 'U', 'U', 'U', 'U', 'U', 'U', 'U', 'U', 'U', 'U', 'U', 'U', 'U', 'U', 'U', 'U', 'U', 'U', 'U', 'U', 'U', 'U', 'U', 'U', 'R', 'R', 'R', 'R', 'R', 'R', 'R', 'R', 'R', 'R', 'R', 'R', 'R', 'R', 'R', 'R', 'R', 'R', 'R', 'R', 'R', 'R', 'R', 'R', 'R', 'R', 'R', 'R', 'R', 'R', 'R', 'R', 'R', 'R', 'R', 'R', 'R', 'R', 'R', 'R', 'R', 'R', 'R', 'R', 'R', 'U', 'U', 'U', 'U', 'U', 'U', 'U', 'U', 'U', 'U', 'U', 'U', 'U', 'U', 'U', 'U', 'U', 'U', 'U', 'U', 'U', 'U', 'U', 'U', 'U', 'U', 'U', 'U', 'U', 'U', 'U', 'U', 'U', 'U', 'U', 'U', 'U', 'U', 'U', 'U', 'U', 'U', 'U', 'U', 'U', 'U', 'U', 'U', 'U', 'U', 'U', 'U', 'U', 'U', 'U', 'U', 'U', 'U', 'U', 'U', 'U', 'U', 'U', 'U', 'U', 'U', 'U', 'U', 'U', 'U', 'U', 'U', 'U', 'R', 'R', 'R', 'R', 'R', 'R', 'R', 'R', 'R', 'R', 'R', 'R', 'R', 'R', 'R', 'R', 'R', 'R', 'R', 'U', 'U', 'U', 'U', 'U', 'U', 'U', 'R', 'R', 'R', 'R', 'R', 'R', 'R', 'R', 'R', 'R', 'R', 'R', 'U', 'R', 'R', 'R', 'R', 'R', 'R', 'R', 'R', 'R', 'R', 'R', 'R', 'R', 'R', 'R', 'R', 'R', 'R', 'R', 'R', 'R', 'R', 'R', 'R', 'R', 'R', 'R', 'U', 'U', 'U', 'U', 'U', 'U', 'U', 'U', 'U', 'U', 'U', 'U', 'U', 'U', 'U', 'U', 'U', 'U', 'U', 'U', 'U', 'U', 'U', 'U', 'U', 'U', 'U', 'U', 'U', 'U', 'U', 'U', 'U', 'U', 'U', 'U', 'U', 'U', 'U', 'U', 'U', 'U', 'U', 'U', 'U', 'U', 'U', 'U', 'U', 'U', 'U', 'U', 'U', 'U', 'U', 'U', 'U', 'U', 'U', 'U', 'U', 'U', 'U', 'U', 'U', 'U', 'U', 'U', 'U', 'U', 'U', 'U', 'U', 'U', 'U', 'U', 'U', 'U', 'U', 'U', 'U', 'U', 'U', 'R', 'R', 'R', 'R', 'R', 'R', 'R', 'R', 'R', 'R', 'R', 'R', 'R', 'R', 'R', 'R', 'R', 'R', 'R', 'R', 'R', 'R', 'R', 'R', 'R', 'R', 'R', 'R', 'R', 'R', 'R', 'R', 'R', 'R', 'R', 'R', 'R', 'R', 'R', 'R', 'R', 'R', 'R', 'R', 'R', 'R', 'R', 'R', 'R', 'R', 'R', 'R', 'U', 'U', 'U', 'U', 'U', 'R', 'R', 'R', 'R', 'R', 'R', 'R', 'R', 'R', 'R', 'R', 'R', 'R', 'U', 'R', 'R', 'R', 'R', 'R', 'R', 'R', 'R', 'R', 'R', 'R', 'R', 'R', 'R', 'R', 'R', 'R', 'U', 'U', 'U', 'U', 'U', 'U', 'U', 'U', 'U', 'U', 'R', 'R', 'R', 'R', 'R', 'R', 'R', 'R', 'R', 'R', 'R', 'R', 'R', 'R', 'R', 'U', 'U', 'U', 'U', 'U', 'U', 'U', 'U', 'R', 'R', 'R', 'R', 'R', 'U', 'U', 'U', 'U', 'U', 'U', 'R', 'R', 'R', 'R', 'R', 'R', 'R', 'R', 'R', 'R', 'U', 'U', 'R', 'R', 'R', 'R', 'R', 'R', 'R', 'R', 'R', 'R', 'R', 'R', 'R', 'R', 'R', 'R', 'R', 'R', 'R', 'R', 'U', 'U', 'U', 'U', 'U', 'U', 'U', 'U', 'U', 'U', 'U', 'U', 'U', 'U', 'U', 'U', 'U', 'U', 'U', 'U', 'U', 'U', 'U', 'U', 'U', 'U', 'U', 'U', 'U', 'U', 'U', 'U', 'U', 'U', 'U', 'U', 'U', 'U', 'U', 'U', 'U', 'U', 'U', 'U', 'U', 'U', 'U', 'U', 'U', 'U', 'U', 'U', 'U', 'U', 'U', 'U', 'U', 'U', 'U', 'U', 'U', 'U', 'U', 'R', 'R', 'R', 'R', 'R', 'R', 'R', 'R', 'R', 'R', 'R', 'R', 'R', 'R', 'R', 'R', 'R', 'R', 'R', 'R', 'R', 'R', 'R', 'R', 'R', 'R', 'R', 'R', 'R', 'R', 'R', 'R', 'R', 'R', 'R', 'R', 'R', 'R', 'R', 'R', 'R', 'R', 'R', 'R', 'R', 'R', 'R', 'R', 'R', 'R', 'R', 'R', 'R', 'R', 'R', 'R', 'R', 'R', 'R', 'R', 'R', 'R', 'R', 'R', 'R', 'R', 'R', 'R', 'R', 'R', 'R', 'U', 'U', 'U', 'U', 'U', 'U', 'U', 'U', 'U', 'U', 'U', 'U', 'U', 'U', 'U', 'U', 'U', 'U', 'U', 'U', 'U', 'U', 'U', 'U', 'U', 'U', 'U', 'U', 'U', 'U', 'U', 'U', 'U', 'U', 'U', 'U', 'U', 'U', 'U', 'U', 'U', 'U', 'R', 'R', 'R', 'R', 'R', 'R', 'R', 'R', 'R', 'R', 'R', 'R', 'R', 'R', 'R', 'R', 'R', 'R', 'U', 'U', 'U', 'U', 'R', 'R', 'R', 'R', 'R', 'R', 'R', 'R', 'R', 'R', 'R', 'R', 'R', 'R', 'R', 'R', 'R', 'R', 'R', 'R', 'R', 'U', 'U', 'U', 'U', 'U', 'U', 'U', 'U', 'U', 'U', 'U', 'R', 'R', 'R', 'R', 'R', 'R', 'R', 'R', 'R', 'R', 'R', 'R', 'R', 'R', 'R', 'R', 'R', 'R', 'R', 'R', 'R', 'R', 'R', 'R', 'R', 'R', 'R', 'R', 'R', 'R', 'R', 'R', 'R', 'R', 'R', 'R', 'R', 'R', 'R', 'R', 'R', 'R', 'R', 'R', 'R', 'R', 'R', 'R', 'R', 'R', 'R', 'R', 'R', 'R', 'R', 'R', 'R', 'R', 'R', 'R', 'R', 'R', 'R', 'R', 'R', 'R', 'U', 'U', 'U', 'U', 'U', 'U', 'U', 'U', 'U', 'U', 'U', 'U', 'U', 'U', 'U', 'U', 'U', 'R', 'R', 'R', 'R', 'R', 'R', 'R', 'R', 'R', 'R', 'R', 'R', 'R', 'R', 'R', 'R', 'R', 'R', 'R', 'R', 'R', 'R', 'U', 'U', 'U', 'U', 'U', 'U', 'U', 'U', 'U', 'U', 'U', 'R', 'R', 'R', 'R', 'R', 'R', 'R', 'R', 'R', 'R', 'R', 'R', 'R', 'R', 'R', 'R', 'R', 'R', 'R', 'U', 'U', 'U', 'U', 'R', 'R', 'R', 'R', 'U']\n"
     ]
    }
   ],
   "source": [
    "labels = []\n",
    "for i in df_mean_latlong['functional_classification']:\n",
    "    if 'U' in i:\n",
    "        labels.append('U')\n",
    "    else:\n",
    "        labels.append('R')\n",
    "        \n",
    "print(labels)"
   ]
  },
  {
   "cell_type": "code",
   "execution_count": 13,
   "metadata": {
    "scrolled": true
   },
   "outputs": [
    {
     "name": "stdout",
     "output_type": "stream",
     "text": [
      "<class 'pandas.core.frame.DataFrame'>\n",
      "Int64Index: 6904 entries, 0 to 22970\n",
      "Data columns (total 28 columns):\n",
      " #   Column                                     Non-Null Count  Dtype  \n",
      "---  ------                                     --------------  -----  \n",
      " 0   fips_state_code                            6904 non-null   int64  \n",
      " 1   traffic_volume_counted_after_0000_to_0100  6904 non-null   float64\n",
      " 2   traffic_volume_counted_after_0100_to_0200  6904 non-null   float64\n",
      " 3   traffic_volume_counted_after_0200_to_0300  6904 non-null   float64\n",
      " 4   traffic_volume_counted_after_0300_to_0400  6904 non-null   float64\n",
      " 5   traffic_volume_counted_after_0400_to_0500  6904 non-null   float64\n",
      " 6   traffic_volume_counted_after_0500_to_0600  6904 non-null   float64\n",
      " 7   traffic_volume_counted_after_0600_to_0700  6904 non-null   float64\n",
      " 8   traffic_volume_counted_after_0700_to_0800  6904 non-null   float64\n",
      " 9   traffic_volume_counted_after_0800_to_0900  6904 non-null   float64\n",
      " 10  traffic_volume_counted_after_0900_to_1000  6904 non-null   float64\n",
      " 11  traffic_volume_counted_after_1000_to_1100  6904 non-null   float64\n",
      " 12  traffic_volume_counted_after_1100_to_1200  6904 non-null   float64\n",
      " 13  traffic_volume_counted_after_1200_to_1300  6904 non-null   float64\n",
      " 14  traffic_volume_counted_after_1300_to_1400  6904 non-null   float64\n",
      " 15  traffic_volume_counted_after_1400_to_1500  6904 non-null   float64\n",
      " 16  traffic_volume_counted_after_1500_to_1600  6904 non-null   float64\n",
      " 17  traffic_volume_counted_after_1600_to_1700  6904 non-null   float64\n",
      " 18  traffic_volume_counted_after_1700_to_1800  6904 non-null   float64\n",
      " 19  traffic_volume_counted_after_1800_to_1900  6904 non-null   float64\n",
      " 20  traffic_volume_counted_after_1900_to_2000  6904 non-null   float64\n",
      " 21  traffic_volume_counted_after_2000_to_2100  6904 non-null   float64\n",
      " 22  traffic_volume_counted_after_2100_to_2200  6904 non-null   float64\n",
      " 23  traffic_volume_counted_after_2200_to_2300  6904 non-null   float64\n",
      " 24  traffic_volume_counted_after_2300_to_2400  6904 non-null   float64\n",
      " 25  latitude                                   6904 non-null   float64\n",
      " 26  longitude                                  6904 non-null   float64\n",
      " 27  national_highway_system                    6904 non-null   object \n",
      "dtypes: float64(26), int64(1), object(1)\n",
      "memory usage: 1.5+ MB\n"
     ]
    }
   ],
   "source": [
    "df_mean_latlong.drop(['functional_classification','station_id'], axis=1, inplace=True)\n",
    "df_mean_latlong.info()"
   ]
  },
  {
   "cell_type": "code",
   "execution_count": 14,
   "metadata": {
    "scrolled": true
   },
   "outputs": [
    {
     "name": "stdout",
     "output_type": "stream",
     "text": [
      "<class 'pandas.core.frame.DataFrame'>\n",
      "Int64Index: 6904 entries, 0 to 22970\n",
      "Data columns (total 27 columns):\n",
      " #   Column                                     Non-Null Count  Dtype  \n",
      "---  ------                                     --------------  -----  \n",
      " 0   fips_state_code                            6904 non-null   int64  \n",
      " 1   traffic_volume_counted_after_0000_to_0100  6904 non-null   float64\n",
      " 2   traffic_volume_counted_after_0100_to_0200  6904 non-null   float64\n",
      " 3   traffic_volume_counted_after_0200_to_0300  6904 non-null   float64\n",
      " 4   traffic_volume_counted_after_0300_to_0400  6904 non-null   float64\n",
      " 5   traffic_volume_counted_after_0400_to_0500  6904 non-null   float64\n",
      " 6   traffic_volume_counted_after_0500_to_0600  6904 non-null   float64\n",
      " 7   traffic_volume_counted_after_0600_to_0700  6904 non-null   float64\n",
      " 8   traffic_volume_counted_after_0700_to_0800  6904 non-null   float64\n",
      " 9   traffic_volume_counted_after_0800_to_0900  6904 non-null   float64\n",
      " 10  traffic_volume_counted_after_0900_to_1000  6904 non-null   float64\n",
      " 11  traffic_volume_counted_after_1000_to_1100  6904 non-null   float64\n",
      " 12  traffic_volume_counted_after_1100_to_1200  6904 non-null   float64\n",
      " 13  traffic_volume_counted_after_1200_to_1300  6904 non-null   float64\n",
      " 14  traffic_volume_counted_after_1300_to_1400  6904 non-null   float64\n",
      " 15  traffic_volume_counted_after_1400_to_1500  6904 non-null   float64\n",
      " 16  traffic_volume_counted_after_1500_to_1600  6904 non-null   float64\n",
      " 17  traffic_volume_counted_after_1600_to_1700  6904 non-null   float64\n",
      " 18  traffic_volume_counted_after_1700_to_1800  6904 non-null   float64\n",
      " 19  traffic_volume_counted_after_1800_to_1900  6904 non-null   float64\n",
      " 20  traffic_volume_counted_after_1900_to_2000  6904 non-null   float64\n",
      " 21  traffic_volume_counted_after_2000_to_2100  6904 non-null   float64\n",
      " 22  traffic_volume_counted_after_2100_to_2200  6904 non-null   float64\n",
      " 23  traffic_volume_counted_after_2200_to_2300  6904 non-null   float64\n",
      " 24  traffic_volume_counted_after_2300_to_2400  6904 non-null   float64\n",
      " 25  latitude                                   6904 non-null   float64\n",
      " 26  longitude                                  6904 non-null   float64\n",
      "dtypes: float64(26), int64(1)\n",
      "memory usage: 1.5 MB\n"
     ]
    }
   ],
   "source": [
    "df_mean_latlong.to_csv('final_data_without_labels.csv', index=False)\n",
    "\n",
    "df_norm = df_mean_latlong.drop(['national_highway_system'],axis=1, inplace=False)\n",
    "df_norm.info()"
   ]
  },
  {
   "cell_type": "code",
   "execution_count": 15,
   "metadata": {},
   "outputs": [],
   "source": [
    "from sklearn import preprocessing\n",
    "\n",
    "x = df_norm.values #returns a numpy array\n",
    "min_max_scaler = preprocessing.MinMaxScaler()\n",
    "x_scaled = min_max_scaler.fit_transform(x)\n",
    "df_after_norm = pd.DataFrame(x_scaled)"
   ]
  },
  {
   "cell_type": "code",
   "execution_count": 16,
   "metadata": {},
   "outputs": [
    {
     "data": {
      "text/html": [
       "<div>\n",
       "<style scoped>\n",
       "    .dataframe tbody tr th:only-of-type {\n",
       "        vertical-align: middle;\n",
       "    }\n",
       "\n",
       "    .dataframe tbody tr th {\n",
       "        vertical-align: top;\n",
       "    }\n",
       "\n",
       "    .dataframe thead th {\n",
       "        text-align: right;\n",
       "    }\n",
       "</style>\n",
       "<table border=\"1\" class=\"dataframe\">\n",
       "  <thead>\n",
       "    <tr style=\"text-align: right;\">\n",
       "      <th></th>\n",
       "      <th>0</th>\n",
       "      <th>1</th>\n",
       "      <th>2</th>\n",
       "      <th>3</th>\n",
       "      <th>4</th>\n",
       "      <th>5</th>\n",
       "      <th>6</th>\n",
       "      <th>7</th>\n",
       "      <th>8</th>\n",
       "      <th>9</th>\n",
       "      <th>...</th>\n",
       "      <th>17</th>\n",
       "      <th>18</th>\n",
       "      <th>19</th>\n",
       "      <th>20</th>\n",
       "      <th>21</th>\n",
       "      <th>22</th>\n",
       "      <th>23</th>\n",
       "      <th>24</th>\n",
       "      <th>25</th>\n",
       "      <th>26</th>\n",
       "    </tr>\n",
       "  </thead>\n",
       "  <tbody>\n",
       "    <tr>\n",
       "      <th>count</th>\n",
       "      <td>6904.000000</td>\n",
       "      <td>6904.000000</td>\n",
       "      <td>6904.000000</td>\n",
       "      <td>6904.000000</td>\n",
       "      <td>6904.000000</td>\n",
       "      <td>6904.000000</td>\n",
       "      <td>6904.000000</td>\n",
       "      <td>6904.000000</td>\n",
       "      <td>6904.000000</td>\n",
       "      <td>6904.000000</td>\n",
       "      <td>...</td>\n",
       "      <td>6904.000000</td>\n",
       "      <td>6904.000000</td>\n",
       "      <td>6904.000000</td>\n",
       "      <td>6904.000000</td>\n",
       "      <td>6904.000000</td>\n",
       "      <td>6904.000000</td>\n",
       "      <td>6904.000000</td>\n",
       "      <td>6904.000000</td>\n",
       "      <td>6904.000000</td>\n",
       "      <td>6904.000000</td>\n",
       "    </tr>\n",
       "    <tr>\n",
       "      <th>mean</th>\n",
       "      <td>0.543943</td>\n",
       "      <td>0.016845</td>\n",
       "      <td>0.011213</td>\n",
       "      <td>0.009241</td>\n",
       "      <td>0.009524</td>\n",
       "      <td>0.015974</td>\n",
       "      <td>0.032993</td>\n",
       "      <td>0.057427</td>\n",
       "      <td>0.077188</td>\n",
       "      <td>0.078877</td>\n",
       "      <td>...</td>\n",
       "      <td>0.095197</td>\n",
       "      <td>0.089777</td>\n",
       "      <td>0.084014</td>\n",
       "      <td>0.073333</td>\n",
       "      <td>0.069288</td>\n",
       "      <td>0.061927</td>\n",
       "      <td>0.049955</td>\n",
       "      <td>0.026133</td>\n",
       "      <td>0.389068</td>\n",
       "      <td>0.098011</td>\n",
       "    </tr>\n",
       "    <tr>\n",
       "      <th>std</th>\n",
       "      <td>0.312638</td>\n",
       "      <td>0.033164</td>\n",
       "      <td>0.024167</td>\n",
       "      <td>0.021316</td>\n",
       "      <td>0.021934</td>\n",
       "      <td>0.035722</td>\n",
       "      <td>0.066685</td>\n",
       "      <td>0.100136</td>\n",
       "      <td>0.122131</td>\n",
       "      <td>0.124126</td>\n",
       "      <td>...</td>\n",
       "      <td>0.135942</td>\n",
       "      <td>0.129433</td>\n",
       "      <td>0.128655</td>\n",
       "      <td>0.117216</td>\n",
       "      <td>0.113510</td>\n",
       "      <td>0.106428</td>\n",
       "      <td>0.090008</td>\n",
       "      <td>0.048423</td>\n",
       "      <td>0.062563</td>\n",
       "      <td>0.068062</td>\n",
       "    </tr>\n",
       "    <tr>\n",
       "      <th>min</th>\n",
       "      <td>0.000000</td>\n",
       "      <td>0.000000</td>\n",
       "      <td>0.000000</td>\n",
       "      <td>0.000000</td>\n",
       "      <td>0.000000</td>\n",
       "      <td>0.000000</td>\n",
       "      <td>0.000000</td>\n",
       "      <td>0.000000</td>\n",
       "      <td>0.000000</td>\n",
       "      <td>0.000000</td>\n",
       "      <td>...</td>\n",
       "      <td>0.000000</td>\n",
       "      <td>0.000000</td>\n",
       "      <td>0.000000</td>\n",
       "      <td>0.000000</td>\n",
       "      <td>0.000000</td>\n",
       "      <td>0.000000</td>\n",
       "      <td>0.000000</td>\n",
       "      <td>0.000000</td>\n",
       "      <td>0.000000</td>\n",
       "      <td>0.000000</td>\n",
       "    </tr>\n",
       "    <tr>\n",
       "      <th>25%</th>\n",
       "      <td>0.272727</td>\n",
       "      <td>0.001775</td>\n",
       "      <td>0.001111</td>\n",
       "      <td>0.000898</td>\n",
       "      <td>0.000965</td>\n",
       "      <td>0.001702</td>\n",
       "      <td>0.003837</td>\n",
       "      <td>0.007614</td>\n",
       "      <td>0.011894</td>\n",
       "      <td>0.012435</td>\n",
       "      <td>...</td>\n",
       "      <td>0.017504</td>\n",
       "      <td>0.015964</td>\n",
       "      <td>0.013812</td>\n",
       "      <td>0.011446</td>\n",
       "      <td>0.010317</td>\n",
       "      <td>0.008364</td>\n",
       "      <td>0.006035</td>\n",
       "      <td>0.002916</td>\n",
       "      <td>0.350194</td>\n",
       "      <td>0.079313</td>\n",
       "    </tr>\n",
       "    <tr>\n",
       "      <th>50%</th>\n",
       "      <td>0.581818</td>\n",
       "      <td>0.005390</td>\n",
       "      <td>0.003397</td>\n",
       "      <td>0.002673</td>\n",
       "      <td>0.002767</td>\n",
       "      <td>0.004745</td>\n",
       "      <td>0.010326</td>\n",
       "      <td>0.020273</td>\n",
       "      <td>0.030980</td>\n",
       "      <td>0.032273</td>\n",
       "      <td>...</td>\n",
       "      <td>0.044482</td>\n",
       "      <td>0.041200</td>\n",
       "      <td>0.036343</td>\n",
       "      <td>0.030441</td>\n",
       "      <td>0.027992</td>\n",
       "      <td>0.023721</td>\n",
       "      <td>0.017962</td>\n",
       "      <td>0.008860</td>\n",
       "      <td>0.390636</td>\n",
       "      <td>0.088825</td>\n",
       "    </tr>\n",
       "    <tr>\n",
       "      <th>75%</th>\n",
       "      <td>0.854545</td>\n",
       "      <td>0.017156</td>\n",
       "      <td>0.011191</td>\n",
       "      <td>0.009023</td>\n",
       "      <td>0.009116</td>\n",
       "      <td>0.014338</td>\n",
       "      <td>0.030211</td>\n",
       "      <td>0.057876</td>\n",
       "      <td>0.082624</td>\n",
       "      <td>0.084258</td>\n",
       "      <td>...</td>\n",
       "      <td>0.107348</td>\n",
       "      <td>0.100895</td>\n",
       "      <td>0.093047</td>\n",
       "      <td>0.079270</td>\n",
       "      <td>0.073522</td>\n",
       "      <td>0.064575</td>\n",
       "      <td>0.051888</td>\n",
       "      <td>0.027634</td>\n",
       "      <td>0.428919</td>\n",
       "      <td>0.109129</td>\n",
       "    </tr>\n",
       "    <tr>\n",
       "      <th>max</th>\n",
       "      <td>1.000000</td>\n",
       "      <td>1.000000</td>\n",
       "      <td>1.000000</td>\n",
       "      <td>1.000000</td>\n",
       "      <td>1.000000</td>\n",
       "      <td>1.000000</td>\n",
       "      <td>1.000000</td>\n",
       "      <td>1.000000</td>\n",
       "      <td>1.000000</td>\n",
       "      <td>1.000000</td>\n",
       "      <td>...</td>\n",
       "      <td>1.000000</td>\n",
       "      <td>1.000000</td>\n",
       "      <td>1.000000</td>\n",
       "      <td>1.000000</td>\n",
       "      <td>1.000000</td>\n",
       "      <td>1.000000</td>\n",
       "      <td>1.000000</td>\n",
       "      <td>1.000000</td>\n",
       "      <td>1.000000</td>\n",
       "      <td>1.000000</td>\n",
       "    </tr>\n",
       "  </tbody>\n",
       "</table>\n",
       "<p>8 rows × 27 columns</p>\n",
       "</div>"
      ],
      "text/plain": [
       "                0            1            2            3            4   \\\n",
       "count  6904.000000  6904.000000  6904.000000  6904.000000  6904.000000   \n",
       "mean      0.543943     0.016845     0.011213     0.009241     0.009524   \n",
       "std       0.312638     0.033164     0.024167     0.021316     0.021934   \n",
       "min       0.000000     0.000000     0.000000     0.000000     0.000000   \n",
       "25%       0.272727     0.001775     0.001111     0.000898     0.000965   \n",
       "50%       0.581818     0.005390     0.003397     0.002673     0.002767   \n",
       "75%       0.854545     0.017156     0.011191     0.009023     0.009116   \n",
       "max       1.000000     1.000000     1.000000     1.000000     1.000000   \n",
       "\n",
       "                5            6            7            8            9   ...  \\\n",
       "count  6904.000000  6904.000000  6904.000000  6904.000000  6904.000000  ...   \n",
       "mean      0.015974     0.032993     0.057427     0.077188     0.078877  ...   \n",
       "std       0.035722     0.066685     0.100136     0.122131     0.124126  ...   \n",
       "min       0.000000     0.000000     0.000000     0.000000     0.000000  ...   \n",
       "25%       0.001702     0.003837     0.007614     0.011894     0.012435  ...   \n",
       "50%       0.004745     0.010326     0.020273     0.030980     0.032273  ...   \n",
       "75%       0.014338     0.030211     0.057876     0.082624     0.084258  ...   \n",
       "max       1.000000     1.000000     1.000000     1.000000     1.000000  ...   \n",
       "\n",
       "                17           18           19           20           21  \\\n",
       "count  6904.000000  6904.000000  6904.000000  6904.000000  6904.000000   \n",
       "mean      0.095197     0.089777     0.084014     0.073333     0.069288   \n",
       "std       0.135942     0.129433     0.128655     0.117216     0.113510   \n",
       "min       0.000000     0.000000     0.000000     0.000000     0.000000   \n",
       "25%       0.017504     0.015964     0.013812     0.011446     0.010317   \n",
       "50%       0.044482     0.041200     0.036343     0.030441     0.027992   \n",
       "75%       0.107348     0.100895     0.093047     0.079270     0.073522   \n",
       "max       1.000000     1.000000     1.000000     1.000000     1.000000   \n",
       "\n",
       "                22           23           24           25           26  \n",
       "count  6904.000000  6904.000000  6904.000000  6904.000000  6904.000000  \n",
       "mean      0.061927     0.049955     0.026133     0.389068     0.098011  \n",
       "std       0.106428     0.090008     0.048423     0.062563     0.068062  \n",
       "min       0.000000     0.000000     0.000000     0.000000     0.000000  \n",
       "25%       0.008364     0.006035     0.002916     0.350194     0.079313  \n",
       "50%       0.023721     0.017962     0.008860     0.390636     0.088825  \n",
       "75%       0.064575     0.051888     0.027634     0.428919     0.109129  \n",
       "max       1.000000     1.000000     1.000000     1.000000     1.000000  \n",
       "\n",
       "[8 rows x 27 columns]"
      ]
     },
     "execution_count": 16,
     "metadata": {},
     "output_type": "execute_result"
    }
   ],
   "source": [
    "df_after_norm.describe()"
   ]
  },
  {
   "cell_type": "code",
   "execution_count": 17,
   "metadata": {},
   "outputs": [
    {
     "name": "stdout",
     "output_type": "stream",
     "text": [
      "6904\n",
      "6904\n"
     ]
    }
   ],
   "source": [
    "print(len(labels))\n",
    "print((len(df_after_norm)))"
   ]
  },
  {
   "cell_type": "markdown",
   "metadata": {},
   "source": [
    "<br>"
   ]
  },
  {
   "cell_type": "markdown",
   "metadata": {},
   "source": [
    "<br>"
   ]
  },
  {
   "cell_type": "markdown",
   "metadata": {},
   "source": [
    "## Split 1\n",
    "\n",
    "* Training - 80%\n",
    "* Test - 20%"
   ]
  },
  {
   "cell_type": "code",
   "execution_count": 18,
   "metadata": {},
   "outputs": [],
   "source": [
    "from sklearn.model_selection import train_test_split\n",
    "X_train, X_test, y_train, y_test = train_test_split(df_after_norm, labels, test_size=0.2, random_state=42)"
   ]
  },
  {
   "cell_type": "markdown",
   "metadata": {},
   "source": [
    "<br>"
   ]
  },
  {
   "cell_type": "markdown",
   "metadata": {},
   "source": [
    "### Model 1 - KNN"
   ]
  },
  {
   "cell_type": "code",
   "execution_count": 24,
   "metadata": {},
   "outputs": [
    {
     "name": "stdout",
     "output_type": "stream",
     "text": [
      "Number of neighbors : 5 \t Accuracy : 0.7871107892831282 \n",
      "Number of neighbors : 10 \t Accuracy : 0.7936278059377263 \n",
      "Number of neighbors : 15 \t Accuracy : 0.7907313540912382 \n",
      "Number of neighbors : 20 \t Accuracy : 0.7863866763215062 \n",
      "Number of neighbors : 25 \t Accuracy : 0.7907313540912382 \n",
      "Number of neighbors : 30 \t Accuracy : 0.7849384503982622 \n",
      "Number of neighbors : 35 \t Accuracy : 0.7885590152063722 \n",
      "Number of neighbors : 40 \t Accuracy : 0.7856625633598842 \n",
      "Number of neighbors : 45 \t Accuracy : 0.7878349022447502 \n",
      "Number of neighbors : 50 \t Accuracy : 0.782041998551774 \n",
      "Number of neighbors : 55 \t Accuracy : 0.7849384503982622 \n",
      "Number of neighbors : 60 \t Accuracy : 0.782766111513396 \n",
      "Number of neighbors : 65 \t Accuracy : 0.7711803041274439 \n",
      "Number of neighbors : 70 \t Accuracy : 0.7740767559739319 \n",
      "Number of neighbors : 75 \t Accuracy : 0.7740767559739319 \n",
      "\n",
      "\n",
      "The best accuracy is 0.7936278059377263 for a KNN model with 10 number of neighbors\n"
     ]
    }
   ],
   "source": [
    "from sklearn.neighbors import KNeighborsClassifier\n",
    "from sklearn.metrics import accuracy_score\n",
    "\n",
    "best_accuracy = 0.0\n",
    "j = 0\n",
    "neighbors = []\n",
    "acc_list = []\n",
    "for i in range(5,76,5):\n",
    "    model = KNeighborsClassifier(n_neighbors=i, metric='euclidean')\n",
    "    model.fit(X_train, y_train)\n",
    "    \n",
    "    predicted_labels = model.predict(X_test)\n",
    "    acc = accuracy_score(y_test, predicted_labels)\n",
    "    \n",
    "    acc_list.append(acc)\n",
    "    neighbors.append(i)\n",
    "    \n",
    "    if (acc > best_accuracy):\n",
    "        best_accuracy=acc\n",
    "        j=i\n",
    "    \n",
    "    print('Number of neighbors : {} \\t Accuracy : {} '.format(i, acc))\n",
    "\n",
    "print('\\n')\n",
    "print('The best accuracy is {} for a KNN model with {} number of neighbors'.format(best_accuracy, j))"
   ]
  },
  {
   "cell_type": "markdown",
   "metadata": {},
   "source": [
    "<br>"
   ]
  },
  {
   "cell_type": "code",
   "execution_count": 25,
   "metadata": {},
   "outputs": [
    {
     "data": {
      "image/png": "[encoded data removed]",
      "text/plain": [
       "<Figure size 432x288 with 1 Axes>"
      ]
     },
     "metadata": {
      "needs_background": "light"
     },
     "output_type": "display_data"
    }
   ],
   "source": [
    "import matplotlib.pyplot as plt\n",
    "%matplotlib inline\n",
    "\n",
    "plt.plot(neighbors, acc_list, 'ro--')\n",
    "plt.xlabel('Number of neighbors')\n",
    "plt.ylabel('Accuracy')\n",
    "plt.show()"
   ]
  },
  {
   "cell_type": "markdown",
   "metadata": {},
   "source": [
    "<br>"
   ]
  },
  {
   "cell_type": "markdown",
   "metadata": {},
   "source": [
    "### Model 2 - SVM"
   ]
  },
  {
   "cell_type": "code",
   "execution_count": 26,
   "metadata": {},
   "outputs": [
    {
     "data": {
      "text/plain": [
       "SVC(C=1.0, cache_size=200, class_weight=None, coef0=0.0,\n",
       "  decision_function_shape='ovr', degree=3, gamma='auto_deprecated',\n",
       "  kernel='rbf', max_iter=-1, probability=False, random_state=None,\n",
       "  shrinking=True, tol=0.001, verbose=False)"
      ]
     },
     "execution_count": 26,
     "metadata": {},
     "output_type": "execute_result"
    }
   ],
   "source": [
    "from sklearn import svm\n",
    "\n",
    "svm1 = svm.SVC()\n",
    "svm1.fit(X_train, y_train)"
   ]
  },
  {
   "cell_type": "code",
   "execution_count": 29,
   "metadata": {},
   "outputs": [
    {
     "name": "stdout",
     "output_type": "stream",
     "text": [
      "The best accuracy for the SVM model is 0.6965966690803765\n"
     ]
    }
   ],
   "source": [
    "pred_SVM = svm1.predict(X_test)\n",
    "acc_SVM1 = accuracy_score(y_test, pred_SVM)\n",
    "\n",
    "print('The best accuracy for the SVM model is {}'.format(acc_SVM1))"
   ]
  },
  {
   "cell_type": "markdown",
   "metadata": {},
   "source": [
    "<br>"
   ]
  },
  {
   "cell_type": "markdown",
   "metadata": {},
   "source": [
    "### Model 3 - Naive Bayes"
   ]
  },
  {
   "cell_type": "code",
   "execution_count": 48,
   "metadata": {},
   "outputs": [
    {
     "data": {
      "text/plain": [
       "GaussianNB(priors=None, var_smoothing=1e-09)"
      ]
     },
     "execution_count": 48,
     "metadata": {},
     "output_type": "execute_result"
    }
   ],
   "source": [
    "from sklearn.naive_bayes import GaussianNB\n",
    "\n",
    "nb1 = GaussianNB()\n",
    "nb1.fit(X_train, y_train)"
   ]
  },
  {
   "cell_type": "code",
   "execution_count": 49,
   "metadata": {},
   "outputs": [
    {
     "name": "stdout",
     "output_type": "stream",
     "text": [
      "501 number of misclassified data points from a total of 1381 points\n"
     ]
    }
   ],
   "source": [
    "y_pred = nb1.predict(X_test)\n",
    "\n",
    "print('{} number of misclassified data points from a total of {} points'.format((y_pred!=y_test).sum(), len(y_test)))"
   ]
  },
  {
   "cell_type": "code",
   "execution_count": 50,
   "metadata": {},
   "outputs": [
    {
     "name": "stdout",
     "output_type": "stream",
     "text": [
      "The best accuracy for the Naive Bayes model is 0.6372194062273715\n"
     ]
    }
   ],
   "source": [
    "from sklearn import metrics\n",
    "\n",
    "acc_nb1 = metrics.accuracy_score(y_test, y_pred)\n",
    "print(\"The best accuracy for the Naive Bayes model is\", acc_nb1)"
   ]
  },
  {
   "cell_type": "markdown",
   "metadata": {},
   "source": [
    "<br>"
   ]
  },
  {
   "cell_type": "markdown",
   "metadata": {},
   "source": [
    "### Model 4 - Decision Tree"
   ]
  },
  {
   "cell_type": "code",
   "execution_count": 70,
   "metadata": {},
   "outputs": [
    {
     "data": {
      "text/plain": [
       "DecisionTreeClassifier(class_weight=None, criterion='gini', max_depth=None,\n",
       "            max_features=None, max_leaf_nodes=None,\n",
       "            min_impurity_decrease=0.0, min_impurity_split=None,\n",
       "            min_samples_leaf=1, min_samples_split=2,\n",
       "            min_weight_fraction_leaf=0.0, presort=False, random_state=None,\n",
       "            splitter='best')"
      ]
     },
     "execution_count": 70,
     "metadata": {},
     "output_type": "execute_result"
    }
   ],
   "source": [
    "from sklearn.tree import DecisionTreeClassifier\n",
    "\n",
    "dt_gini_1 = DecisionTreeClassifier()\n",
    "dt_gini_1.fit(X_train, y_train)"
   ]
  },
  {
   "cell_type": "code",
   "execution_count": 71,
   "metadata": {},
   "outputs": [
    {
     "name": "stdout",
     "output_type": "stream",
     "text": [
      "Accuracy for the Decision Tree (with Gini Index) is 0.7566980448950036\n"
     ]
    }
   ],
   "source": [
    "y_pred = dt_gini_1.predict(X_test)\n",
    "acc_dt_gini1 = metrics.accuracy_score(y_test, y_pred)\n",
    "\n",
    "print('Accuracy for the Decision Tree (with Gini Index) is', acc_dtgini1)"
   ]
  },
  {
   "cell_type": "markdown",
   "metadata": {},
   "source": [
    "<br>"
   ]
  },
  {
   "cell_type": "code",
   "execution_count": 72,
   "metadata": {},
   "outputs": [
    {
     "data": {
      "text/plain": [
       "DecisionTreeClassifier(class_weight=None, criterion='entropy', max_depth=None,\n",
       "            max_features=None, max_leaf_nodes=None,\n",
       "            min_impurity_decrease=0.0, min_impurity_split=None,\n",
       "            min_samples_leaf=1, min_samples_split=2,\n",
       "            min_weight_fraction_leaf=0.0, presort=False, random_state=None,\n",
       "            splitter='best')"
      ]
     },
     "execution_count": 72,
     "metadata": {},
     "output_type": "execute_result"
    }
   ],
   "source": [
    "dt_entropy_1 = DecisionTreeClassifier(criterion='entropy')\n",
    "dt_entropy_1.fit(X_train, y_train)"
   ]
  },
  {
   "cell_type": "code",
   "execution_count": 73,
   "metadata": {},
   "outputs": [
    {
     "name": "stdout",
     "output_type": "stream",
     "text": [
      "Accuracy for the Decision Tree (with entropy) is 0.7733526430123099\n"
     ]
    }
   ],
   "source": [
    "y_pred = dt_entropy_1.predict(X_test)\n",
    "acc_dt_entropy1 = metrics.accuracy_score(y_test, y_pred)\n",
    "\n",
    "print('Accuracy for the Decision Tree (with entropy) is', acc_dt_entropy1)"
   ]
  },
  {
   "cell_type": "markdown",
   "metadata": {},
   "source": [
    "<br>"
   ]
  },
  {
   "cell_type": "code",
   "execution_count": 74,
   "metadata": {},
   "outputs": [
    {
     "name": "stdout",
     "output_type": "stream",
     "text": [
      "The best accuracy for the Decision Tree is 0.7733526430123099\n"
     ]
    }
   ],
   "source": [
    "acc_DT1 = 0\n",
    "\n",
    "if acc_dt_entropy1 > acc_dt_gini1:\n",
    "    acc_DT1 = acc_dt_entropy1\n",
    "    \n",
    "else:\n",
    "    acc_DT1 = acc_dt_gini1\n",
    "    \n",
    "print('The best accuracy for the Decision Tree is', acc_DT1)"
   ]
  },
  {
   "cell_type": "markdown",
   "metadata": {},
   "source": [
    "<br>"
   ]
  },
  {
   "cell_type": "code",
   "execution_count": 78,
   "metadata": {
    "scrolled": true
   },
   "outputs": [
    {
     "data": {
      "image/png": "[encoded data removed]",
      "text/plain": [
       "<Figure size 432x288 with 1 Axes>"
      ]
     },
     "metadata": {
      "needs_background": "light"
     },
     "output_type": "display_data"
    }
   ],
   "source": [
    "DT = ['with Gini Index', 'with Entropy']\n",
    "DT_acc = [acc_dt_gini1, acc_dt_entropy1]\n",
    "\n",
    "plt.title('Accuracy of Decision Trees')\n",
    "plt.bar(DT, DT_acc, width=0.25, edgecolor='k')\n",
    "\n",
    "plt.ylabel('Accuracy')\n",
    "plt.yticks(ticks=[x * 0.1 for x in range(11)])\n",
    "\n",
    "plt.show()"
   ]
  },
  {
   "cell_type": "markdown",
   "metadata": {},
   "source": [
    "<br>"
   ]
  },
  {
   "cell_type": "markdown",
   "metadata": {},
   "source": [
    "<br>"
   ]
  },
  {
   "cell_type": "markdown",
   "metadata": {},
   "source": [
    "### Comparing the models"
   ]
  },
  {
   "cell_type": "code",
   "execution_count": 79,
   "metadata": {
    "scrolled": true
   },
   "outputs": [
    {
     "data": {
      "image/png": "[encoded data removed]",
      "text/plain": [
       "<Figure size 432x288 with 1 Axes>"
      ]
     },
     "metadata": {
      "needs_background": "light"
     },
     "output_type": "display_data"
    }
   ],
   "source": [
    "Models = ['KNN', 'SVM', 'Naive Bayes', 'Decision Tree']\n",
    "\n",
    "Accuracy = [best_accuracy, acc_SVM1, acc_nb1, acc_DT1]\n",
    "\n",
    "plt.title('Comparison of Models')\n",
    "plt.bar(Models, Accuracy, width=0.50, edgecolor='k')\n",
    "\n",
    "plt.ylabel('Accuracy')\n",
    "plt.yticks(ticks=[x * 0.10 for x in range(11)])\n",
    "\n",
    "plt.show()"
   ]
  },
  {
   "cell_type": "markdown",
   "metadata": {},
   "source": [
    "<br>"
   ]
  },
  {
   "cell_type": "markdown",
   "metadata": {},
   "source": [
    "<br>"
   ]
  },
  {
   "cell_type": "markdown",
   "metadata": {},
   "source": [
    "## Split 2\n",
    "\n",
    "* Training 70%\n",
    "* Validation 15%\n",
    "* Test 15%"
   ]
  },
  {
   "cell_type": "code",
   "execution_count": 80,
   "metadata": {},
   "outputs": [],
   "source": [
    "X_train2, X_test2, y_train2, y_test2 = train_test_split(df_after_norm, labels, test_size=0.15, random_state=42)\n",
    "X_train2_val_split, X_val, y_train2_val_split, y_val = train_test_split(X_train2, y_train2, test_size=0.15/0.85, random_state=42)"
   ]
  },
  {
   "cell_type": "code",
   "execution_count": 81,
   "metadata": {},
   "outputs": [
    {
     "name": "stdout",
     "output_type": "stream",
     "text": [
      "5868\n",
      "1036\n",
      "4832\n",
      "1036\n"
     ]
    }
   ],
   "source": [
    "print(len(X_train2))\n",
    "\n",
    "# 15% test split\n",
    "print(len(X_test2))\n",
    "\n",
    "# 70% train split\n",
    "print(len(X_train2_val_split))\n",
    "\n",
    "# 15% validation split\n",
    "print(len(X_val))"
   ]
  },
  {
   "cell_type": "markdown",
   "metadata": {},
   "source": [
    "<br>"
   ]
  },
  {
   "cell_type": "markdown",
   "metadata": {},
   "source": [
    "### Model 1 - KNN"
   ]
  },
  {
   "cell_type": "code",
   "execution_count": 85,
   "metadata": {
    "scrolled": true
   },
   "outputs": [
    {
     "name": "stdout",
     "output_type": "stream",
     "text": [
      "Number of neighbors : 5 \t Validation Accuracy : 0.7837837837837838 \t Accuracy : 0.803088803088803\n",
      "Number of neighbors : 10 \t Validation Accuracy : 0.7577220077220077 \t Accuracy : 0.8088803088803089\n",
      "Number of neighbors : 15 \t Validation Accuracy : 0.7712355212355212 \t Accuracy : 0.805019305019305\n",
      "Number of neighbors : 20 \t Validation Accuracy : 0.7577220077220077 \t Accuracy : 0.7982625482625483\n",
      "Number of neighbors : 25 \t Validation Accuracy : 0.7722007722007722 \t Accuracy : 0.7953667953667953\n",
      "Number of neighbors : 30 \t Validation Accuracy : 0.7673745173745173 \t Accuracy : 0.8001930501930502\n",
      "Number of neighbors : 35 \t Validation Accuracy : 0.7722007722007722 \t Accuracy : 0.7915057915057915\n",
      "Number of neighbors : 40 \t Validation Accuracy : 0.7683397683397684 \t Accuracy : 0.7944015444015444\n",
      "Number of neighbors : 45 \t Validation Accuracy : 0.7606177606177607 \t Accuracy : 0.7934362934362934\n",
      "Number of neighbors : 50 \t Validation Accuracy : 0.7548262548262549 \t Accuracy : 0.7934362934362934\n",
      "Number of neighbors : 55 \t Validation Accuracy : 0.7557915057915058 \t Accuracy : 0.7847490347490348\n",
      "Number of neighbors : 60 \t Validation Accuracy : 0.7538610038610039 \t Accuracy : 0.7799227799227799\n",
      "Number of neighbors : 65 \t Validation Accuracy : 0.7615830115830116 \t Accuracy : 0.7876447876447876\n",
      "Number of neighbors : 70 \t Validation Accuracy : 0.7519305019305019 \t Accuracy : 0.7866795366795367\n",
      "Number of neighbors : 75 \t Validation Accuracy : 0.7567567567567568 \t Accuracy : 0.7837837837837838\n",
      "\n",
      "\n",
      "The best accuracy is 0.8088803088803089 for a KNN model with 10 number of neighbors\n"
     ]
    }
   ],
   "source": [
    "neighbors2 = []\n",
    "acc_list2 = []\n",
    "val_acc_list2 = []\n",
    "best_accuracy2 = 0.0\n",
    "j = 0\n",
    "\n",
    "for i in range(5,76,5):\n",
    "    model2 = KNeighborsClassifier(n_neighbors=i, metric='euclidean')\n",
    "    model2.fit(X_train2_val_split, y_train2_val_split)\n",
    "    \n",
    "    val_pred = model2.predict(X_val)\n",
    "    val_acc = accuracy_score(y_val, val_pred)\n",
    "    \n",
    "    predicted_labels = model2.predict(X_test2)\n",
    "    acc = accuracy_score(y_test2, predicted_labels)\n",
    "    \n",
    "    acc_list2.append(acc)\n",
    "    neighbors2.append(i)\n",
    "    val_acc_list2.append(val_acc)\n",
    "    \n",
    "    if (acc > best_accuracy2):\n",
    "        best_accuracy2=acc\n",
    "        j=i\n",
    "    \n",
    "    print('Number of neighbors : {} \\t Validation Accuracy : {} \\t Accuracy : {}'.format(i, val_acc, acc))\n",
    "\n",
    "print('\\n')\n",
    "print('The best accuracy is {} for a KNN model with {} number of neighbors'.format(best_accuracy2, j))"
   ]
  },
  {
   "cell_type": "markdown",
   "metadata": {},
   "source": [
    "<br>"
   ]
  },
  {
   "cell_type": "code",
   "execution_count": 86,
   "metadata": {},
   "outputs": [
    {
     "data": {
      "image/png": "[encoded data removed]",
      "text/plain": [
       "<Figure size 432x288 with 1 Axes>"
      ]
     },
     "metadata": {
      "needs_background": "light"
     },
     "output_type": "display_data"
    }
   ],
   "source": [
    "plt.plot(neighbors2, acc_list2, 'go--')\n",
    "plt.plot(neighbors2, val_acc_list2, 'bo--')\n",
    "plt.xlabel('Number of neighbors')\n",
    "plt.ylabel('Accuracy')\n",
    "plt.legend(['Test Accuracy', 'Validation Accuracy'], loc=0)\n",
    "plt.show()"
   ]
  },
  {
   "cell_type": "markdown",
   "metadata": {},
   "source": [
    "<br>"
   ]
  },
  {
   "cell_type": "markdown",
   "metadata": {},
   "source": [
    "### Model 2 - SVM"
   ]
  },
  {
   "cell_type": "code",
   "execution_count": 104,
   "metadata": {},
   "outputs": [
    {
     "data": {
      "text/plain": [
       "SVC(C=1.0, cache_size=200, class_weight=None, coef0=0.0,\n",
       "  decision_function_shape='ovr', degree=3, gamma='auto_deprecated',\n",
       "  kernel='rbf', max_iter=-1, probability=False, random_state=None,\n",
       "  shrinking=True, tol=0.001, verbose=False)"
      ]
     },
     "execution_count": 104,
     "metadata": {},
     "output_type": "execute_result"
    }
   ],
   "source": [
    "svm2 = svm.SVC()\n",
    "svm2.fit(X_train2_val_split, y_train2_val_split)"
   ]
  },
  {
   "cell_type": "code",
   "execution_count": 105,
   "metadata": {},
   "outputs": [
    {
     "data": {
      "text/plain": [
       "0.6698841698841699"
      ]
     },
     "execution_count": 105,
     "metadata": {},
     "output_type": "execute_result"
    }
   ],
   "source": [
    "pred_SVM_val = svm2.predict(X_val)\n",
    "acc_SVM_val = accuracy_score(y_val, pred_SVM_val)\n",
    "acc_SVM_val"
   ]
  },
  {
   "cell_type": "code",
   "execution_count": 106,
   "metadata": {},
   "outputs": [
    {
     "name": "stdout",
     "output_type": "stream",
     "text": [
      "The best accuracy for the SVM model is 0.7084942084942085\n"
     ]
    }
   ],
   "source": [
    "pred_SVM_test = svm2.predict(X_test2)\n",
    "acc_SVM2 = accuracy_score(y_test2, pred_SVM_test)\n",
    "\n",
    "print(\"The best accuracy for the SVM model is\", acc_SVM2)"
   ]
  },
  {
   "cell_type": "markdown",
   "metadata": {},
   "source": [
    "<br>"
   ]
  },
  {
   "cell_type": "markdown",
   "metadata": {},
   "source": [
    "### Model 3 - Naive Bayes"
   ]
  },
  {
   "cell_type": "code",
   "execution_count": 100,
   "metadata": {},
   "outputs": [
    {
     "data": {
      "text/plain": [
       "GaussianNB(priors=None, var_smoothing=1e-09)"
      ]
     },
     "execution_count": 100,
     "metadata": {},
     "output_type": "execute_result"
    }
   ],
   "source": [
    "nb2 = GaussianNB()\n",
    "nb2.fit(X_train2_val_split, y_train2_val_split)"
   ]
  },
  {
   "cell_type": "code",
   "execution_count": 101,
   "metadata": {},
   "outputs": [
    {
     "data": {
      "text/plain": [
       "0.612934362934363"
      ]
     },
     "execution_count": 101,
     "metadata": {},
     "output_type": "execute_result"
    }
   ],
   "source": [
    "pred_NB_val = nb2.predict(X_val)\n",
    "acc_NB_val = accuracy_score(y_val, pred_NB_val)\n",
    "acc_NB_val"
   ]
  },
  {
   "cell_type": "code",
   "execution_count": 103,
   "metadata": {},
   "outputs": [
    {
     "name": "stdout",
     "output_type": "stream",
     "text": [
      "The best accuracy for the Naive Bayes model is 0.6486486486486487\n"
     ]
    }
   ],
   "source": [
    "pred_NB_test = nb2.predict(X_test2)\n",
    "acc_NB2 = accuracy_score(y_test2, pred_NB_test)\n",
    "\n",
    "print(\"The best accuracy for the Naive Bayes model is\", acc_NB2)"
   ]
  },
  {
   "cell_type": "markdown",
   "metadata": {},
   "source": [
    "<br>"
   ]
  },
  {
   "cell_type": "markdown",
   "metadata": {},
   "source": [
    "### Model 4 - Decision Trees"
   ]
  },
  {
   "cell_type": "code",
   "execution_count": 96,
   "metadata": {},
   "outputs": [
    {
     "data": {
      "text/plain": [
       "DecisionTreeClassifier(class_weight=None, criterion='gini', max_depth=None,\n",
       "            max_features=None, max_leaf_nodes=None,\n",
       "            min_impurity_decrease=0.0, min_impurity_split=None,\n",
       "            min_samples_leaf=1, min_samples_split=2,\n",
       "            min_weight_fraction_leaf=0.0, presort=False, random_state=None,\n",
       "            splitter='best')"
      ]
     },
     "execution_count": 96,
     "metadata": {},
     "output_type": "execute_result"
    }
   ],
   "source": [
    "dt_gini_2 = DecisionTreeClassifier()\n",
    "dt_gini_2.fit(X_train2_val_split, y_train2_val_split)"
   ]
  },
  {
   "cell_type": "code",
   "execution_count": 97,
   "metadata": {},
   "outputs": [
    {
     "data": {
      "text/plain": [
       "0.7461389961389961"
      ]
     },
     "execution_count": 97,
     "metadata": {},
     "output_type": "execute_result"
    }
   ],
   "source": [
    "pred_dtgini_val = dt_gini_2.predict(X_val)\n",
    "acc_dtgini_val = accuracy_score(y_val, pred_dtgini_val)\n",
    "acc_dtgini_val"
   ]
  },
  {
   "cell_type": "code",
   "execution_count": 99,
   "metadata": {},
   "outputs": [
    {
     "name": "stdout",
     "output_type": "stream",
     "text": [
      "Accuracy for the Decision Tree (with Gini Index) is 0.7566980448950036\n"
     ]
    }
   ],
   "source": [
    "pred_dtgini_test = dt_gini_2.predict(X_test2)\n",
    "acc_dt_gini2 = accuracy_score(y_test2, pred_dtgini_test)\n",
    "\n",
    "print('Accuracy for the Decision Tree (with Gini Index) is', acc_dtgini1)"
   ]
  },
  {
   "cell_type": "markdown",
   "metadata": {},
   "source": [
    "<br>"
   ]
  },
  {
   "cell_type": "code",
   "execution_count": 107,
   "metadata": {},
   "outputs": [
    {
     "data": {
      "text/plain": [
       "DecisionTreeClassifier(class_weight=None, criterion='entropy', max_depth=None,\n",
       "            max_features=None, max_leaf_nodes=None,\n",
       "            min_impurity_decrease=0.0, min_impurity_split=None,\n",
       "            min_samples_leaf=1, min_samples_split=2,\n",
       "            min_weight_fraction_leaf=0.0, presort=False, random_state=None,\n",
       "            splitter='best')"
      ]
     },
     "execution_count": 107,
     "metadata": {},
     "output_type": "execute_result"
    }
   ],
   "source": [
    "dt_entropy_2 = DecisionTreeClassifier(criterion='entropy')\n",
    "dt_entropy_2.fit(X_train2_val_split, y_train2_val_split)"
   ]
  },
  {
   "cell_type": "code",
   "execution_count": 108,
   "metadata": {},
   "outputs": [
    {
     "data": {
      "text/plain": [
       "0.7393822393822393"
      ]
     },
     "execution_count": 108,
     "metadata": {},
     "output_type": "execute_result"
    }
   ],
   "source": [
    "pred_dtentropy_val = dt_entropy_2.predict(X_val)\n",
    "acc_dtentropy_val = accuracy_score(y_val, pred_dtentropy_val)\n",
    "acc_dtentropy_val"
   ]
  },
  {
   "cell_type": "code",
   "execution_count": 110,
   "metadata": {},
   "outputs": [
    {
     "name": "stdout",
     "output_type": "stream",
     "text": [
      "Accuracy for the Decision Tree (with Entropy) is 0.7828185328185329\n"
     ]
    }
   ],
   "source": [
    "pred_dtentropy_test = dt_entropy_2.predict(X_test2)\n",
    "acc_dt_entropy2 = accuracy_score(y_test2, pred_dtentropy_test)\n",
    "\n",
    "print('Accuracy for the Decision Tree (with Entropy) is', acc_dt_entropy2)"
   ]
  },
  {
   "cell_type": "markdown",
   "metadata": {},
   "source": [
    "<br>"
   ]
  },
  {
   "cell_type": "code",
   "execution_count": 111,
   "metadata": {
    "scrolled": true
   },
   "outputs": [
    {
     "name": "stdout",
     "output_type": "stream",
     "text": [
      "The best accuracy for the Decision Tree is 0.7828185328185329\n"
     ]
    }
   ],
   "source": [
    "acc_DT2 = 0\n",
    "\n",
    "if acc_dt_entropy2 > acc_dt_gini2:\n",
    "    acc_DT2 = acc_dt_entropy2\n",
    "    \n",
    "else:\n",
    "    acc_DT2 = acc_dt_gini2\n",
    "    \n",
    "print('The best accuracy for the Decision Tree is', acc_DT2)"
   ]
  },
  {
   "cell_type": "markdown",
   "metadata": {},
   "source": [
    "<br>"
   ]
  },
  {
   "cell_type": "code",
   "execution_count": 112,
   "metadata": {},
   "outputs": [
    {
     "data": {
      "image/png": "[encoded data removed]",
      "text/plain": [
       "<Figure size 432x288 with 1 Axes>"
      ]
     },
     "metadata": {
      "needs_background": "light"
     },
     "output_type": "display_data"
    }
   ],
   "source": [
    "DT = ['with Gini Index', 'with Entropy']\n",
    "DT_acc = [acc_dt_gini2, acc_dt_entropy2]\n",
    "\n",
    "plt.title('Accuracy of Decision Trees')\n",
    "plt.bar(DT, DT_acc, width=0.25, edgecolor='k')\n",
    "\n",
    "plt.ylabel('Accuracy')\n",
    "plt.yticks(ticks=[x * 0.1 for x in range(11)])\n",
    "\n",
    "plt.show()"
   ]
  },
  {
   "cell_type": "markdown",
   "metadata": {},
   "source": [
    "<br>"
   ]
  },
  {
   "cell_type": "markdown",
   "metadata": {},
   "source": [
    "<br>"
   ]
  },
  {
   "cell_type": "markdown",
   "metadata": {},
   "source": [
    "### Comparing the Models"
   ]
  },
  {
   "cell_type": "code",
   "execution_count": 113,
   "metadata": {
    "scrolled": false
   },
   "outputs": [
    {
     "data": {
      "image/png": "[encoded data removed]",
      "text/plain": [
       "<Figure size 432x288 with 1 Axes>"
      ]
     },
     "metadata": {
      "needs_background": "light"
     },
     "output_type": "display_data"
    }
   ],
   "source": [
    "Models = ['KNN', 'SVM', 'Naive Bayes', 'Decision Tree']\n",
    "\n",
    "Accuracy = [best_accuracy2, acc_SVM2, acc_NB2, acc_DT2]\n",
    "\n",
    "plt.title('Comparison of Models')\n",
    "plt.bar(Models, Accuracy, width=0.50, edgecolor='k')\n",
    "\n",
    "plt.ylabel('Accuracy')\n",
    "plt.yticks(ticks=[x * 0.10 for x in range(11)])\n",
    "\n",
    "plt.show()"
   ]
  },
  {
   "cell_type": "markdown",
   "metadata": {},
   "source": [
    "<br>"
   ]
  },
  {
   "cell_type": "markdown",
   "metadata": {},
   "source": [
    "<br>"
   ]
  },
  {
   "cell_type": "markdown",
   "metadata": {},
   "source": [
    "## Split 3\n",
    "\n",
    "* Include K-fold cross validation"
   ]
  },
  {
   "cell_type": "code",
   "execution_count": 115,
   "metadata": {},
   "outputs": [],
   "source": [
    "from sklearn.model_selection import cross_val_score"
   ]
  },
  {
   "cell_type": "markdown",
   "metadata": {},
   "source": [
    "<br>"
   ]
  },
  {
   "cell_type": "markdown",
   "metadata": {},
   "source": [
    "### Model 1 - KNN"
   ]
  },
  {
   "cell_type": "code",
   "execution_count": 117,
   "metadata": {},
   "outputs": [
    {
     "name": "stdout",
     "output_type": "stream",
     "text": [
      "For KNN with 5 neighbors\n",
      "Number of folds : 2 \t Accuracy 0.5603997682502897\n",
      "Number of folds : 3 \t Accuracy 0.6025673957113536\n",
      "Number of folds : 4 \t Accuracy 0.5941958493827783\n",
      "Number of folds : 5 \t Accuracy 0.5705828549690841\n",
      "Number of folds : 6 \t Accuracy 0.5687386775362319\n",
      "Number of folds : 7 \t Accuracy 0.5475958087351346\n",
      "Number of folds : 8 \t Accuracy 0.5408986193129388\n",
      "Number of folds : 9 \t Accuracy 0.5307343489982156\n",
      "Number of folds : 10 \t Accuracy 0.5472789540696856\n",
      "\n",
      "\n",
      "For KNN with 10 neighbors\n",
      "Number of folds : 2 \t Accuracy 0.578505214368482\n",
      "Number of folds : 3 \t Accuracy 0.6001019907075132\n",
      "Number of folds : 4 \t Accuracy 0.6008546276948381\n",
      "Number of folds : 5 \t Accuracy 0.5978164251308977\n",
      "Number of folds : 6 \t Accuracy 0.5848155696457327\n",
      "Number of folds : 7 \t Accuracy 0.5600417208419841\n",
      "Number of folds : 8 \t Accuracy 0.5532094817354711\n",
      "Number of folds : 9 \t Accuracy 0.5611291170365315\n",
      "Number of folds : 10 \t Accuracy 0.5800118426227939\n",
      "\n",
      "\n",
      "For KNN with 15 neighbors\n",
      "Number of folds : 2 \t Accuracy 0.6209443800695249\n",
      "Number of folds : 3 \t Accuracy 0.6060418791473073\n",
      "Number of folds : 4 \t Accuracy 0.6185294092965098\n",
      "Number of folds : 5 \t Accuracy 0.6015822329144523\n",
      "Number of folds : 6 \t Accuracy 0.5995931461352658\n",
      "Number of folds : 7 \t Accuracy 0.5622032455365512\n",
      "Number of folds : 8 \t Accuracy 0.5675496691338243\n",
      "Number of folds : 9 \t Accuracy 0.5724262939736096\n",
      "Number of folds : 10 \t Accuracy 0.5914418131462185\n",
      "\n",
      "\n",
      "For KNN with 20 neighbors\n",
      "Number of folds : 2 \t Accuracy 0.6409327925840094\n",
      "Number of folds : 3 \t Accuracy 0.5872155277704327\n",
      "Number of folds : 4 \t Accuracy 0.6208437182682544\n",
      "Number of folds : 5 \t Accuracy 0.6222959570367237\n",
      "Number of folds : 6 \t Accuracy 0.60407432568438\n",
      "Number of folds : 7 \t Accuracy 0.5710303959877354\n",
      "Number of folds : 8 \t Accuracy 0.58101743136715\n",
      "Number of folds : 9 \t Accuracy 0.5737266737655341\n",
      "Number of folds : 10 \t Accuracy 0.6004109567273959\n",
      "\n",
      "\n",
      "For KNN with 25 neighbors\n",
      "Number of folds : 2 \t Accuracy 0.6486095017381228\n",
      "Number of folds : 3 \t Accuracy 0.581134237399111\n",
      "Number of folds : 4 \t Accuracy 0.6311238387754589\n",
      "Number of folds : 5 \t Accuracy 0.628378190475136\n",
      "Number of folds : 6 \t Accuracy 0.6020481078904992\n",
      "Number of folds : 7 \t Accuracy 0.5814589305002589\n",
      "Number of folds : 8 \t Accuracy 0.5953581213055991\n",
      "Number of folds : 9 \t Accuracy 0.5769150162517162\n",
      "Number of folds : 10 \t Accuracy 0.6112658410376286\n",
      "\n",
      "\n",
      "For KNN with 30 neighbors\n",
      "Number of folds : 2 \t Accuracy 0.6646871378910777\n",
      "Number of folds : 3 \t Accuracy 0.5869252949546079\n",
      "Number of folds : 4 \t Accuracy 0.6347408171999698\n",
      "Number of folds : 5 \t Accuracy 0.6296814887102757\n",
      "Number of folds : 6 \t Accuracy 0.6085648148148147\n",
      "Number of folds : 7 \t Accuracy 0.590000131577969\n",
      "Number of folds : 8 \t Accuracy 0.6056342988432379\n",
      "Number of folds : 9 \t Accuracy 0.58386662798096\n",
      "Number of folds : 10 \t Accuracy 0.6134359782253301\n",
      "\n",
      "\n",
      "For KNN with 35 neighbors\n",
      "Number of folds : 2 \t Accuracy 0.7098783314020858\n",
      "Number of folds : 3 \t Accuracy 0.5963392890869943\n",
      "Number of folds : 4 \t Accuracy 0.640534729739936\n",
      "Number of folds : 5 \t Accuracy 0.6312751676486517\n",
      "Number of folds : 6 \t Accuracy 0.61479518921095\n",
      "Number of folds : 7 \t Accuracy 0.5960812158359923\n",
      "Number of folds : 8 \t Accuracy 0.6153331184888852\n",
      "Number of folds : 9 \t Accuracy 0.5873424326143437\n",
      "Number of folds : 10 \t Accuracy 0.6185073987930473\n",
      "\n",
      "\n",
      "For KNN with 40 neighbors\n",
      "Number of folds : 2 \t Accuracy 0.7119061413673233\n",
      "Number of folds : 3 \t Accuracy 0.6058972034399829\n",
      "Number of folds : 4 \t Accuracy 0.6399548517576764\n",
      "Number of folds : 5 \t Accuracy 0.6340275315101676\n",
      "Number of folds : 6 \t Accuracy 0.6158079206924315\n",
      "Number of folds : 7 \t Accuracy 0.6005654720074102\n",
      "Number of folds : 8 \t Accuracy 0.6208326434686939\n",
      "Number of folds : 9 \t Accuracy 0.5903815667399122\n",
      "Number of folds : 10 \t Accuracy 0.6193746544798213\n",
      "\n",
      "\n",
      "For KNN with 45 neighbors\n",
      "Number of folds : 2 \t Accuracy 0.7161066048667439\n",
      "Number of folds : 3 \t Accuracy 0.6115447185182387\n",
      "Number of folds : 4 \t Accuracy 0.6403856062704026\n",
      "Number of folds : 5 \t Accuracy 0.6386631137914383\n",
      "Number of folds : 6 \t Accuracy 0.6213129025764895\n",
      "Number of folds : 7 \t Accuracy 0.6065002018922282\n",
      "Number of folds : 8 \t Accuracy 0.6280711341585024\n",
      "Number of folds : 9 \t Accuracy 0.5951634217566573\n",
      "Number of folds : 10 \t Accuracy 0.6258919921995276\n",
      "\n",
      "\n",
      "For KNN with 50 neighbors\n",
      "Number of folds : 2 \t Accuracy 0.7139339513325609\n",
      "Number of folds : 3 \t Accuracy 0.6145859303189414\n",
      "Number of folds : 4 \t Accuracy 0.642847192501028\n",
      "Number of folds : 5 \t Accuracy 0.6386625890719009\n",
      "Number of folds : 6 \t Accuracy 0.6208781199677939\n",
      "Number of folds : 7 \t Accuracy 0.6099733437401088\n",
      "Number of folds : 8 \t Accuracy 0.6347300829295089\n",
      "Number of folds : 9 \t Accuracy 0.6012462253974541\n",
      "Number of folds : 10 \t Accuracy 0.6264712822637577\n",
      "\n",
      "\n",
      "For KNN with 55 neighbors\n",
      "Number of folds : 2 \t Accuracy 0.7143684820393974\n",
      "Number of folds : 3 \t Accuracy 0.6167583323889749\n",
      "Number of folds : 4 \t Accuracy 0.6387898928358635\n",
      "Number of folds : 5 \t Accuracy 0.6411254131482931\n",
      "Number of folds : 6 \t Accuracy 0.6240642612721418\n",
      "Number of folds : 7 \t Accuracy 0.6135916647161339\n",
      "Number of folds : 8 \t Accuracy 0.6409553419315175\n",
      "Number of folds : 9 \t Accuracy 0.6024077850331404\n",
      "Number of folds : 10 \t Accuracy 0.6331324994487962\n",
      "\n",
      "\n",
      "For KNN with 60 neighbors\n",
      "Number of folds : 2 \t Accuracy 0.7117612977983777\n",
      "Number of folds : 3 \t Accuracy 0.6183516538863496\n",
      "Number of folds : 4 \t Accuracy 0.6383525926671869\n",
      "Number of folds : 5 \t Accuracy 0.6441681571055552\n",
      "Number of folds : 6 \t Accuracy 0.6233386171497585\n",
      "Number of folds : 7 \t Accuracy 0.6166279456503674\n",
      "Number of folds : 8 \t Accuracy 0.6396463790109732\n",
      "Number of folds : 9 \t Accuracy 0.6038551072145825\n",
      "Number of folds : 10 \t Accuracy 0.6341469922024195\n",
      "\n",
      "\n",
      "For KNN with 65 neighbors\n",
      "Number of folds : 2 \t Accuracy 0.7121958285052143\n",
      "Number of folds : 3 \t Accuracy 0.6195106964328435\n",
      "Number of folds : 4 \t Accuracy 0.6416827370912113\n",
      "Number of folds : 5 \t Accuracy 0.6448910107402875\n",
      "Number of folds : 6 \t Accuracy 0.6265237520128825\n",
      "Number of folds : 7 \t Accuracy 0.6214059411058053\n",
      "Number of folds : 8 \t Accuracy 0.647754773608145\n",
      "Number of folds : 9 \t Accuracy 0.6061718073015894\n",
      "Number of folds : 10 \t Accuracy 0.6358865457619627\n",
      "\n",
      "\n",
      "For KNN with 70 neighbors\n",
      "Number of folds : 2 \t Accuracy 0.7108922363847046\n",
      "Number of folds : 3 \t Accuracy 0.6242894017804304\n",
      "Number of folds : 4 \t Accuracy 0.6438539647373765\n",
      "Number of folds : 5 \t Accuracy 0.6434407911865464\n",
      "Number of folds : 6 \t Accuracy 0.6286901167471819\n",
      "Number of folds : 7 \t Accuracy 0.6234289046163582\n",
      "Number of folds : 8 \t Accuracy 0.6520933706771346\n",
      "Number of folds : 9 \t Accuracy 0.6160188198665719\n",
      "Number of folds : 10 \t Accuracy 0.6366074051520949\n",
      "\n",
      "\n",
      "For KNN with 75 neighbors\n",
      "Number of folds : 2 \t Accuracy 0.7121958285052143\n",
      "Number of folds : 3 \t Accuracy 0.6257379216560269\n",
      "Number of folds : 4 \t Accuracy 0.6477639871436605\n",
      "Number of folds : 5 \t Accuracy 0.6414110710719476\n",
      "Number of folds : 6 \t Accuracy 0.6333245269726248\n",
      "Number of folds : 7 \t Accuracy 0.6270466387149993\n",
      "Number of folds : 8 \t Accuracy 0.6587556754202368\n",
      "Number of folds : 9 \t Accuracy 0.6206539221045086\n",
      "Number of folds : 10 \t Accuracy 0.6368991527185416\n",
      "\n",
      "\n",
      "\n",
      "\n",
      "The best accuracy is 0.7161066048667439 for KNN model with 45 neighbors and 2 folds\n"
     ]
    }
   ],
   "source": [
    "accuracy_cv = []\n",
    "best_accuracy3 = 0.00\n",
    "j=0\n",
    "m=0\n",
    "for n in range(5,76,5):\n",
    "    \n",
    "    print('For KNN with {} neighbors'.format(n))\n",
    "    \n",
    "    for i in range (2,11):\n",
    "\n",
    "        model_knn = KNeighborsClassifier(n_neighbors=n, metric='euclidean')\n",
    "        acc_cv = cross_val_score(model_knn, df_after_norm, labels, scoring='accuracy', cv=i)\n",
    "        acc_mean = acc_cv.mean()\n",
    "        accuracy_cv.append(acc_mean)\n",
    "\n",
    "        if(acc_mean > best_accuracy3):\n",
    "            best_accuracy3 = acc_mean\n",
    "            j = i\n",
    "            m = n\n",
    "\n",
    "        print('Number of folds : {} \\t Accuracy {}'.format(i, acc_mean))\n",
    "    print('\\n')\n",
    "\n",
    "print(\"\\n\")\n",
    "print('The best accuracy is {} for KNN model with {} neighbors and {} folds'.format(best_accuracy3, m, j))"
   ]
  },
  {
   "cell_type": "markdown",
   "metadata": {},
   "source": [
    "We get the best accuracy for KNN model with 45 neighbors and 2 folds"
   ]
  },
  {
   "cell_type": "markdown",
   "metadata": {},
   "source": [
    "<br>"
   ]
  },
  {
   "cell_type": "markdown",
   "metadata": {},
   "source": [
    "#### Since our baseline KNN model gave the most optimized answer with 10 neighbors, we will use that model to calculate the accuracy for K-fold Cross Validation (K=2 to K=10)"
   ]
  },
  {
   "cell_type": "code",
   "execution_count": 141,
   "metadata": {},
   "outputs": [
    {
     "name": "stdout",
     "output_type": "stream",
     "text": [
      "Number of folds : 2 \t Accuracy 0.7121958285052143\n",
      "Number of folds : 3 \t Accuracy 0.6257379216560269\n",
      "Number of folds : 4 \t Accuracy 0.6477639871436605\n",
      "Number of folds : 5 \t Accuracy 0.6414110710719476\n",
      "Number of folds : 6 \t Accuracy 0.6333245269726248\n",
      "Number of folds : 7 \t Accuracy 0.6270466387149993\n",
      "Number of folds : 8 \t Accuracy 0.6587556754202368\n",
      "Number of folds : 9 \t Accuracy 0.6206539221045086\n",
      "Number of folds : 10 \t Accuracy 0.6368991527185416\n",
      "\n",
      "\n",
      "The maximum accuracy for the baseline KNN model is 0.7121958285052143 with 2 folds\n"
     ]
    }
   ],
   "source": [
    "max_acc = 0\n",
    "j = 0\n",
    "Acc = []\n",
    "Folds = []\n",
    "\n",
    "for i in range (2,11):\n",
    "    \n",
    "    knn = KNeighborsClassifier(n_neighbors=10, metric='euclidean')\n",
    "    acc_cv = cross_val_score(model_knn, df_after_norm, labels, scoring='accuracy', cv=i)\n",
    "    acc_mean = acc_cv.mean()\n",
    "    Acc.append(acc_mean)\n",
    "    Folds.append(i)\n",
    "    \n",
    "    print('Number of folds : {} \\t Accuracy {}'.format(i, acc_mean))\n",
    "    \n",
    "    if(acc_mean > max_acc):\n",
    "        max_acc = acc_mean\n",
    "        j = i\n",
    "        \n",
    "print('\\n')\n",
    "print('The maximum accuracy for the baseline KNN model is {} with {} folds'.format(max_acc, j))"
   ]
  },
  {
   "cell_type": "markdown",
   "metadata": {},
   "source": [
    "<br>"
   ]
  },
  {
   "cell_type": "code",
   "execution_count": 142,
   "metadata": {},
   "outputs": [
    {
     "data": {
      "image/png": "[encoded data removed]",
      "text/plain": [
       "<Figure size 432x288 with 1 Axes>"
      ]
     },
     "metadata": {
      "needs_background": "light"
     },
     "output_type": "display_data"
    }
   ],
   "source": [
    "plt.plot(Folds, Acc, 'ko--')\n",
    "plt.xlabel('Number of folds')\n",
    "plt.ylabel('Accuracy')\n",
    "plt.title('Cross-Validation for baseline KNN model')\n",
    "plt.show()"
   ]
  },
  {
   "cell_type": "markdown",
   "metadata": {},
   "source": [
    "<br>"
   ]
  },
  {
   "cell_type": "markdown",
   "metadata": {},
   "source": [
    "### Model 2 - SVM"
   ]
  },
  {
   "cell_type": "code",
   "execution_count": 138,
   "metadata": {},
   "outputs": [
    {
     "name": "stdout",
     "output_type": "stream",
     "text": [
      "Number of folds : 2 \t Accuracy 0.6871378910776362\n",
      "Number of folds : 3 \t Accuracy 0.6800376484216623\n",
      "Number of folds : 4 \t Accuracy 0.6877089364987454\n",
      "Number of folds : 5 \t Accuracy 0.6849500507246604\n",
      "Number of folds : 6 \t Accuracy 0.6807565921900162\n",
      "Number of folds : 7 \t Accuracy 0.6790041860378118\n",
      "Number of folds : 8 \t Accuracy 0.684790977097639\n",
      "Number of folds : 9 \t Accuracy 0.6842185330459494\n",
      "Number of folds : 10 \t Accuracy 0.6858016051405214\n",
      "\n",
      "\n",
      "The best accuracy is 0.6877089364987454 for SVM model with 4 folds\n"
     ]
    }
   ],
   "source": [
    "accuracy_cv = []\n",
    "best_accuracy = 0.00\n",
    "j = 0\n",
    "\n",
    "for i in range (2,11):\n",
    "    \n",
    "    model_SVM = svm.SVC()\n",
    "    acc_cv = cross_val_score(model_SVM, df_after_norm, labels, scoring='accuracy', cv=i)\n",
    "    acc_mean = acc_cv.mean()\n",
    "    accuracy_cv.append(acc_mean)\n",
    "    \n",
    "    if(acc_mean > best_accuracy):\n",
    "        best_accuracy = acc_mean\n",
    "        j = i\n",
    "    \n",
    "    print('Number of folds : {} \\t Accuracy {}'.format(i, acc_mean))\n",
    "\n",
    "print(\"\\n\")\n",
    "print('The best accuracy is {} for SVM model with {} folds'.format(best_accuracy, j))"
   ]
  },
  {
   "cell_type": "code",
   "execution_count": 139,
   "metadata": {},
   "outputs": [
    {
     "data": {
      "image/png": "[encoded data removed]",
      "text/plain": [
       "<Figure size 432x288 with 1 Axes>"
      ]
     },
     "metadata": {
      "needs_background": "light"
     },
     "output_type": "display_data"
    }
   ],
   "source": [
    "plt.plot(list(range(2,11)), accuracy_cv, 'mo--')\n",
    "plt.xlabel('Number of folds')\n",
    "plt.ylabel('Accuracy')\n",
    "plt.title('Cross-Validation for SVM')\n",
    "plt.show()"
   ]
  },
  {
   "cell_type": "markdown",
   "metadata": {},
   "source": [
    "<br>"
   ]
  },
  {
   "cell_type": "markdown",
   "metadata": {},
   "source": [
    "### Model 3 - Naive Bayes"
   ]
  },
  {
   "cell_type": "code",
   "execution_count": 136,
   "metadata": {
    "scrolled": false
   },
   "outputs": [
    {
     "name": "stdout",
     "output_type": "stream",
     "text": [
      "Number of folds : 2 \t Accuracy 0.6336906141367323\n",
      "Number of folds : 3 \t Accuracy 0.6293418451504048\n",
      "Number of folds : 4 \t Accuracy 0.6265790555793325\n",
      "Number of folds : 5 \t Accuracy 0.6255574583156649\n",
      "Number of folds : 6 \t Accuracy 0.6242529690016103\n",
      "Number of folds : 7 \t Accuracy 0.6226674750254352\n",
      "Number of folds : 8 \t Accuracy 0.6241009919419578\n",
      "Number of folds : 9 \t Accuracy 0.6243888787750043\n",
      "Number of folds : 10 \t Accuracy 0.6293215748484414\n",
      "\n",
      "\n",
      "The best accuracy is 0.6336906141367323 for Naive Bayes model with 2 folds\n"
     ]
    }
   ],
   "source": [
    "accuracy_cv = []\n",
    "best_accuracy = 0.00\n",
    "j = 0\n",
    "\n",
    "for i in range (2,11):\n",
    "    \n",
    "    model_NB = GaussianNB()\n",
    "    acc_cv = cross_val_score(model_NB, df_after_norm, labels, scoring='accuracy', cv=i)\n",
    "    acc_mean = acc_cv.mean()\n",
    "    accuracy_cv.append(acc_mean)\n",
    "    \n",
    "    if(acc_mean > best_accuracy):\n",
    "        best_accuracy = acc_mean\n",
    "        j = i\n",
    "    \n",
    "    print('Number of folds : {} \\t Accuracy {}'.format(i, acc_mean))\n",
    "\n",
    "print(\"\\n\")\n",
    "print('The best accuracy is {} for Naive Bayes model with {} folds'.format(best_accuracy, j))"
   ]
  },
  {
   "cell_type": "code",
   "execution_count": 137,
   "metadata": {},
   "outputs": [
    {
     "data": {
      "image/png": "[encoded data removed]",
      "text/plain": [
       "<Figure size 432x288 with 1 Axes>"
      ]
     },
     "metadata": {
      "needs_background": "light"
     },
     "output_type": "display_data"
    }
   ],
   "source": [
    "plt.plot(list(range(2,11)), accuracy_cv, 'co--')\n",
    "plt.xlabel('Number of folds')\n",
    "plt.ylabel('Accuracy')\n",
    "plt.title('Cross-Validation for Naive Bayes model')\n",
    "plt.show()"
   ]
  },
  {
   "cell_type": "markdown",
   "metadata": {},
   "source": [
    "<br>"
   ]
  },
  {
   "cell_type": "markdown",
   "metadata": {},
   "source": [
    "### Model 4 - Decision Trees"
   ]
  },
  {
   "cell_type": "code",
   "execution_count": 131,
   "metadata": {},
   "outputs": [
    {
     "name": "stdout",
     "output_type": "stream",
     "text": [
      "Number of folds : 2 \t Accuracy 0.5341830822711472\n",
      "Number of folds : 3 \t Accuracy 0.6153163600649719\n",
      "Number of folds : 4 \t Accuracy 0.6467593967926286\n",
      "Number of folds : 5 \t Accuracy 0.6600884643728115\n",
      "Number of folds : 6 \t Accuracy 0.6935165056360709\n",
      "Number of folds : 7 \t Accuracy 0.6564653450566517\n",
      "Number of folds : 8 \t Accuracy 0.666309884202564\n",
      "Number of folds : 9 \t Accuracy 0.6635606516728388\n",
      "Number of folds : 10 \t Accuracy 0.675702263970126\n",
      "\n",
      "\n",
      "The best accuracy is 0.6935165056360709 for Decision Tree (using Gini Index) with 6 folds\n"
     ]
    }
   ],
   "source": [
    "accuracy_cv = []\n",
    "best_accuracy = 0.00\n",
    "j = 0\n",
    "\n",
    "for i in range (2,11):\n",
    "    \n",
    "    model_DT = DecisionTreeClassifier()\n",
    "    acc_cv = cross_val_score(model_DT, df_after_norm, labels, scoring='accuracy', cv=i)\n",
    "    acc_mean = acc_cv.mean()\n",
    "    accuracy_cv.append(acc_mean)\n",
    "    \n",
    "    if(acc_mean > best_accuracy):\n",
    "        best_accuracy = acc_mean\n",
    "        j = i\n",
    "    \n",
    "    print('Number of folds : {} \\t Accuracy {}'.format(i, acc_mean))\n",
    "\n",
    "print(\"\\n\")\n",
    "print('The best accuracy is {} for Decision Tree (using Gini Index) with {} folds'.format(best_accuracy, j))"
   ]
  },
  {
   "cell_type": "markdown",
   "metadata": {},
   "source": [
    "<br>"
   ]
  },
  {
   "cell_type": "code",
   "execution_count": 133,
   "metadata": {
    "scrolled": true
   },
   "outputs": [
    {
     "name": "stdout",
     "output_type": "stream",
     "text": [
      "Number of folds : 2 \t Accuracy 0.6179026651216686\n",
      "Number of folds : 3 \t Accuracy 0.6364591596469359\n",
      "Number of folds : 4 \t Accuracy 0.6476252695887146\n",
      "Number of folds : 5 \t Accuracy 0.6541502171647865\n",
      "Number of folds : 6 \t Accuracy 0.7055482588566827\n",
      "Number of folds : 7 \t Accuracy 0.6886110129293662\n",
      "Number of folds : 8 \t Accuracy 0.682819879482359\n",
      "Number of folds : 9 \t Accuracy 0.6706322170465295\n",
      "Number of folds : 10 \t Accuracy 0.6839488520092536\n",
      "\n",
      "\n",
      "The best accuracy is 0.7055482588566827 for Decision Tree (using Entropy) with 6 folds\n"
     ]
    }
   ],
   "source": [
    "accuracy_cv2 = []\n",
    "best_accuracy = 0.00\n",
    "j = 0\n",
    "\n",
    "for i in range (2,11):\n",
    "    \n",
    "    model_DT = DecisionTreeClassifier(criterion='entropy')\n",
    "    acc_cv = cross_val_score(model_DT, df_after_norm, labels, scoring='accuracy', cv=i)\n",
    "    acc_mean = acc_cv.mean()\n",
    "    accuracy_cv2.append(acc_mean)\n",
    "    \n",
    "    if(acc_mean > best_accuracy):\n",
    "        best_accuracy = acc_mean\n",
    "        j = i\n",
    "    \n",
    "    print('Number of folds : {} \\t Accuracy {}'.format(i, acc_mean))\n",
    "\n",
    "print(\"\\n\")\n",
    "print('The best accuracy is {} for Decision Tree (using Entropy) with {} folds'.format(best_accuracy, j))"
   ]
  },
  {
   "cell_type": "markdown",
   "metadata": {},
   "source": [
    "<br>"
   ]
  },
  {
   "cell_type": "code",
   "execution_count": 135,
   "metadata": {},
   "outputs": [
    {
     "data": {
      "image/png": "[encoded data removed]",
      "text/plain": [
       "<Figure size 432x288 with 1 Axes>"
      ]
     },
     "metadata": {
      "needs_background": "light"
     },
     "output_type": "display_data"
    }
   ],
   "source": [
    "plt.plot(list(range(2,11)), accuracy_cv, 'yo--')\n",
    "plt.plot(list(range(2,11)), accuracy_cv2, 'mo--')\n",
    "plt.title('Cross-Validation for Decision Trees')\n",
    "plt.xlabel('Number of folds')\n",
    "plt.ylabel('Accuracy')\n",
    "plt.legend(['using Gini index', 'using Entropy'], loc=4)\n",
    "plt.show()"
   ]
  }
 ],
 "metadata": {
  "kernelspec": {
   "display_name": "Python 3",
   "language": "python",
   "name": "python3"
  },
  "language_info": {
   "codemirror_mode": {
    "name": "ipython",
    "version": 3
   },
   "file_extension": ".py",
   "mimetype": "text/x-python",
   "name": "python",
   "nbconvert_exporter": "python",
   "pygments_lexer": "ipython3",
   "version": "3.7.3"
  }
 },
 "nbformat": 4,
 "nbformat_minor": 2
}
